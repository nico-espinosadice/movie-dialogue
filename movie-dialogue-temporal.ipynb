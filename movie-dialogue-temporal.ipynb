{
 "cells": [
  {
   "cell_type": "markdown",
   "id": "5a793589-b6ee-4257-aabe-21da50b0baf4",
   "metadata": {},
   "source": [
    "# Move Dialogue: Base Task"
   ]
  },
  {
   "cell_type": "markdown",
   "id": "19d53129-7bd4-4836-bb7b-6a1beab1b02c",
   "metadata": {},
   "source": [
    "## Imports"
   ]
  },
  {
   "cell_type": "code",
   "execution_count": 1,
   "id": "c79f771e",
   "metadata": {},
   "outputs": [
    {
     "name": "stderr",
     "output_type": "stream",
     "text": [
      "[nltk_data] Downloading package punkt to\n",
      "[nltk_data]     /Users/nicoespinosadice/nltk_data...\n",
      "[nltk_data]   Package punkt is already up-to-date!\n",
      "[nltk_data] Downloading package universal_tagset to\n",
      "[nltk_data]     /Users/nicoespinosadice/nltk_data...\n",
      "[nltk_data]   Package universal_tagset is already up-to-date!\n",
      "[nltk_data] Downloading package averaged_perceptron_tagger to\n",
      "[nltk_data]     /Users/nicoespinosadice/nltk_data...\n",
      "[nltk_data]   Package averaged_perceptron_tagger is already up-to-\n",
      "[nltk_data]       date!\n",
      "[nltk_data] Downloading package wordnet to\n",
      "[nltk_data]     /Users/nicoespinosadice/nltk_data...\n",
      "[nltk_data]   Package wordnet is already up-to-date!\n"
     ]
    },
    {
     "data": {
      "text/plain": [
       "True"
      ]
     },
     "execution_count": 1,
     "metadata": {},
     "output_type": "execute_result"
    }
   ],
   "source": [
    "import numpy as np\n",
    "import matplotlib.pyplot as plt\n",
    "from collections import Counter\n",
    "import pandas as pd\n",
    "import nltk\n",
    "from nltk import sent_tokenize, word_tokenize\n",
    "from nltk.stem import WordNetLemmatizer\n",
    "from nltk.stem import PorterStemmer\n",
    "import math\n",
    "nltk.download('punkt')\n",
    "nltk.download('universal_tagset')\n",
    "nltk.download('averaged_perceptron_tagger')\n",
    "nltk.download('wordnet')"
   ]
  },
  {
   "cell_type": "markdown",
   "id": "f3ef21ad-a958-4b5e-a70d-accdb660aa07",
   "metadata": {},
   "source": [
    "## Importing Dataset"
   ]
  },
  {
   "cell_type": "markdown",
   "id": "e9f6805f",
   "metadata": {},
   "source": [
    "Source for how to import data:  \n",
    "https://www.kaggle.com/shashankasubrahmanya/preprocessing-cornell-movie-dialogue-corpus"
   ]
  },
  {
   "cell_type": "code",
   "execution_count": 2,
   "id": "1832f739",
   "metadata": {},
   "outputs": [],
   "source": [
    "movie_lines_features = [\"LineID\", \"Character\", \"Movie\", \"Name\", \"Line\"]\n"
   ]
  },
  {
   "cell_type": "code",
   "execution_count": 3,
   "id": "cc87cc18",
   "metadata": {},
   "outputs": [],
   "source": [
    "movie_lines = pd.read_csv(\"data/movie_lines.txt\", sep = \"\\+\\+\\+\\$\\+\\+\\+\", engine = \"python\", encoding='ISO-8859-1', index_col = False, names = movie_lines_features)\n"
   ]
  },
  {
   "cell_type": "code",
   "execution_count": 4,
   "id": "be9cb551-b3f9-4602-bbcd-13f11c49d077",
   "metadata": {},
   "outputs": [],
   "source": [
    "movie_titles_features = [\"ID\", \"Title\", \"Year\", \"Rating\", \"No. of Votes\", \"Genre\"]\n"
   ]
  },
  {
   "cell_type": "code",
   "execution_count": 5,
   "id": "96b9188f-aa6b-4b4e-a557-548d12f815ba",
   "metadata": {},
   "outputs": [],
   "source": [
    "movie_titles = pd.read_csv(\"data/movie_titles_metadata.txt\", sep = \"\\+\\+\\+\\$\\+\\+\\+\", engine = \"python\", encoding='ISO-8859-1', index_col = False, names = movie_titles_features)\n"
   ]
  },
  {
   "cell_type": "code",
   "execution_count": 6,
   "id": "b0f8f12f-54af-4257-8eb2-20ebd801246d",
   "metadata": {},
   "outputs": [
    {
     "data": {
      "text/html": [
       "<div>\n",
       "<style scoped>\n",
       "    .dataframe tbody tr th:only-of-type {\n",
       "        vertical-align: middle;\n",
       "    }\n",
       "\n",
       "    .dataframe tbody tr th {\n",
       "        vertical-align: top;\n",
       "    }\n",
       "\n",
       "    .dataframe thead th {\n",
       "        text-align: right;\n",
       "    }\n",
       "</style>\n",
       "<table border=\"1\" class=\"dataframe\">\n",
       "  <thead>\n",
       "    <tr style=\"text-align: right;\">\n",
       "      <th></th>\n",
       "      <th>ID</th>\n",
       "      <th>Title</th>\n",
       "      <th>Year</th>\n",
       "      <th>Rating</th>\n",
       "      <th>No. of Votes</th>\n",
       "      <th>Genre</th>\n",
       "    </tr>\n",
       "  </thead>\n",
       "  <tbody>\n",
       "    <tr>\n",
       "      <th>0</th>\n",
       "      <td>m0</td>\n",
       "      <td>10 things i hate about you</td>\n",
       "      <td>1999</td>\n",
       "      <td>6.9</td>\n",
       "      <td>62847</td>\n",
       "      <td>['comedy', 'romance']</td>\n",
       "    </tr>\n",
       "    <tr>\n",
       "      <th>1</th>\n",
       "      <td>m1</td>\n",
       "      <td>1492: conquest of paradise</td>\n",
       "      <td>1992</td>\n",
       "      <td>6.2</td>\n",
       "      <td>10421</td>\n",
       "      <td>['adventure', 'biography', 'drama', 'history']</td>\n",
       "    </tr>\n",
       "    <tr>\n",
       "      <th>2</th>\n",
       "      <td>m2</td>\n",
       "      <td>15 minutes</td>\n",
       "      <td>2001</td>\n",
       "      <td>6.1</td>\n",
       "      <td>25854</td>\n",
       "      <td>['action', 'crime', 'drama', 'thriller']</td>\n",
       "    </tr>\n",
       "    <tr>\n",
       "      <th>3</th>\n",
       "      <td>m3</td>\n",
       "      <td>2001: a space odyssey</td>\n",
       "      <td>1968</td>\n",
       "      <td>8.4</td>\n",
       "      <td>163227</td>\n",
       "      <td>['adventure', 'mystery', 'sci-fi']</td>\n",
       "    </tr>\n",
       "    <tr>\n",
       "      <th>4</th>\n",
       "      <td>m4</td>\n",
       "      <td>48 hrs.</td>\n",
       "      <td>1982</td>\n",
       "      <td>6.9</td>\n",
       "      <td>22289</td>\n",
       "      <td>['action', 'comedy', 'crime', 'drama', 'thril...</td>\n",
       "    </tr>\n",
       "  </tbody>\n",
       "</table>\n",
       "</div>"
      ],
      "text/plain": [
       "    ID                         Title    Year  Rating  No. of Votes  \\\n",
       "0  m0    10 things i hate about you    1999      6.9         62847   \n",
       "1  m1    1492: conquest of paradise    1992      6.2         10421   \n",
       "2  m2                    15 minutes    2001      6.1         25854   \n",
       "3  m3         2001: a space odyssey    1968      8.4        163227   \n",
       "4  m4                       48 hrs.    1982      6.9         22289   \n",
       "\n",
       "                                               Genre  \n",
       "0                              ['comedy', 'romance']  \n",
       "1     ['adventure', 'biography', 'drama', 'history']  \n",
       "2           ['action', 'crime', 'drama', 'thriller']  \n",
       "3                 ['adventure', 'mystery', 'sci-fi']  \n",
       "4   ['action', 'comedy', 'crime', 'drama', 'thril...  "
      ]
     },
     "execution_count": 6,
     "metadata": {},
     "output_type": "execute_result"
    }
   ],
   "source": [
    "movie_titles.head()"
   ]
  },
  {
   "cell_type": "markdown",
   "id": "1b00c157-be31-41e7-902a-6866769f0ac5",
   "metadata": {},
   "source": [
    "## Data Cleaning"
   ]
  },
  {
   "cell_type": "code",
   "execution_count": 7,
   "id": "05c99005",
   "metadata": {},
   "outputs": [],
   "source": [
    "movie_lines = movie_lines.sample(frac=0.01)"
   ]
  },
  {
   "cell_type": "code",
   "execution_count": 8,
   "id": "522a8cbb",
   "metadata": {},
   "outputs": [
    {
     "data": {
      "text/html": [
       "<div>\n",
       "<style scoped>\n",
       "    .dataframe tbody tr th:only-of-type {\n",
       "        vertical-align: middle;\n",
       "    }\n",
       "\n",
       "    .dataframe tbody tr th {\n",
       "        vertical-align: top;\n",
       "    }\n",
       "\n",
       "    .dataframe thead th {\n",
       "        text-align: right;\n",
       "    }\n",
       "</style>\n",
       "<table border=\"1\" class=\"dataframe\">\n",
       "  <thead>\n",
       "    <tr style=\"text-align: right;\">\n",
       "      <th></th>\n",
       "      <th>LineID</th>\n",
       "      <th>Character</th>\n",
       "      <th>Movie</th>\n",
       "      <th>Name</th>\n",
       "      <th>Line</th>\n",
       "    </tr>\n",
       "  </thead>\n",
       "  <tbody>\n",
       "    <tr>\n",
       "      <th>291285</th>\n",
       "      <td>L629539</td>\n",
       "      <td>u8657</td>\n",
       "      <td>m587</td>\n",
       "      <td>COLE</td>\n",
       "      <td>Underground.</td>\n",
       "    </tr>\n",
       "    <tr>\n",
       "      <th>158816</th>\n",
       "      <td>L140646</td>\n",
       "      <td>u4587</td>\n",
       "      <td>m302</td>\n",
       "      <td>VINCENT</td>\n",
       "      <td>How are you at math?  I was hired for five hi...</td>\n",
       "    </tr>\n",
       "    <tr>\n",
       "      <th>211526</th>\n",
       "      <td>L339190</td>\n",
       "      <td>u6249</td>\n",
       "      <td>m417</td>\n",
       "      <td>TAKSTER RINPOCHE</td>\n",
       "      <td>Don't eat all those sweets. You'll get sick.</td>\n",
       "    </tr>\n",
       "    <tr>\n",
       "      <th>123608</th>\n",
       "      <td>L28266</td>\n",
       "      <td>u3606</td>\n",
       "      <td>m238</td>\n",
       "      <td>MARGO</td>\n",
       "      <td>She'd be a great help - read scripts, intervi...</td>\n",
       "    </tr>\n",
       "    <tr>\n",
       "      <th>303778</th>\n",
       "      <td>L664721</td>\n",
       "      <td>u9000</td>\n",
       "      <td>m613</td>\n",
       "      <td>XANDER</td>\n",
       "      <td>You're not exactly \"going anywhere\" yourself.</td>\n",
       "    </tr>\n",
       "  </tbody>\n",
       "</table>\n",
       "</div>"
      ],
      "text/plain": [
       "          LineID Character   Movie                Name  \\\n",
       "291285  L629539     u8657    m587                COLE    \n",
       "158816  L140646     u4587    m302             VINCENT    \n",
       "211526  L339190     u6249    m417    TAKSTER RINPOCHE    \n",
       "123608   L28266     u3606    m238               MARGO    \n",
       "303778  L664721     u9000    m613              XANDER    \n",
       "\n",
       "                                                     Line  \n",
       "291285                                       Underground.  \n",
       "158816   How are you at math?  I was hired for five hi...  \n",
       "211526       Don't eat all those sweets. You'll get sick.  \n",
       "123608   She'd be a great help - read scripts, intervi...  \n",
       "303778      You're not exactly \"going anywhere\" yourself.  "
      ]
     },
     "execution_count": 8,
     "metadata": {},
     "output_type": "execute_result"
    }
   ],
   "source": [
    "movie_lines.head()"
   ]
  },
  {
   "cell_type": "code",
   "execution_count": 9,
   "id": "5e00cfdd",
   "metadata": {
    "tags": []
   },
   "outputs": [],
   "source": [
    "# Strip the space from \"LineID\" for further usage and change the datatype of \"Line\"\n",
    "movie_lines[\"LineID\"] = movie_lines[\"LineID\"].apply(str.strip)\n",
    "movie_lines[\"Movie\"] = movie_lines[\"Movie\"].apply(str.strip)\n",
    "movie_lines[\"Line\"] = movie_lines[\"Line\"].apply(str)\n",
    "movie_lines[\"Line\"] = movie_lines[\"Line\"].apply(str.lower)"
   ]
  },
  {
   "cell_type": "code",
   "execution_count": 10,
   "id": "563bee65-7a7c-4083-9c47-59da9569874c",
   "metadata": {},
   "outputs": [],
   "source": [
    "def parse_year(year_str):\n",
    "    new = str.strip(year_str)\n",
    "    new = year_str[:5]\n",
    "    return int(new)"
   ]
  },
  {
   "cell_type": "code",
   "execution_count": 11,
   "id": "c9bca4d6-db9f-4480-b59c-086512bdece8",
   "metadata": {},
   "outputs": [],
   "source": [
    "movie_titles[\"ID\"] = movie_titles[\"ID\"].apply(str.strip)\n",
    "movie_titles[\"Year\"] = movie_titles[\"Year\"].apply(parse_year)"
   ]
  },
  {
   "cell_type": "code",
   "execution_count": 12,
   "id": "eed3b487",
   "metadata": {},
   "outputs": [
    {
     "data": {
      "text/html": [
       "<div>\n",
       "<style scoped>\n",
       "    .dataframe tbody tr th:only-of-type {\n",
       "        vertical-align: middle;\n",
       "    }\n",
       "\n",
       "    .dataframe tbody tr th {\n",
       "        vertical-align: top;\n",
       "    }\n",
       "\n",
       "    .dataframe thead th {\n",
       "        text-align: right;\n",
       "    }\n",
       "</style>\n",
       "<table border=\"1\" class=\"dataframe\">\n",
       "  <thead>\n",
       "    <tr style=\"text-align: right;\">\n",
       "      <th></th>\n",
       "      <th>LineID</th>\n",
       "      <th>Character</th>\n",
       "      <th>Movie</th>\n",
       "      <th>Name</th>\n",
       "      <th>Line</th>\n",
       "    </tr>\n",
       "  </thead>\n",
       "  <tbody>\n",
       "    <tr>\n",
       "      <th>291285</th>\n",
       "      <td>L629539</td>\n",
       "      <td>u8657</td>\n",
       "      <td>m587</td>\n",
       "      <td>COLE</td>\n",
       "      <td>underground.</td>\n",
       "    </tr>\n",
       "    <tr>\n",
       "      <th>158816</th>\n",
       "      <td>L140646</td>\n",
       "      <td>u4587</td>\n",
       "      <td>m302</td>\n",
       "      <td>VINCENT</td>\n",
       "      <td>how are you at math?  i was hired for five hi...</td>\n",
       "    </tr>\n",
       "    <tr>\n",
       "      <th>211526</th>\n",
       "      <td>L339190</td>\n",
       "      <td>u6249</td>\n",
       "      <td>m417</td>\n",
       "      <td>TAKSTER RINPOCHE</td>\n",
       "      <td>don't eat all those sweets. you'll get sick.</td>\n",
       "    </tr>\n",
       "    <tr>\n",
       "      <th>123608</th>\n",
       "      <td>L28266</td>\n",
       "      <td>u3606</td>\n",
       "      <td>m238</td>\n",
       "      <td>MARGO</td>\n",
       "      <td>she'd be a great help - read scripts, intervi...</td>\n",
       "    </tr>\n",
       "    <tr>\n",
       "      <th>303778</th>\n",
       "      <td>L664721</td>\n",
       "      <td>u9000</td>\n",
       "      <td>m613</td>\n",
       "      <td>XANDER</td>\n",
       "      <td>you're not exactly \"going anywhere\" yourself.</td>\n",
       "    </tr>\n",
       "  </tbody>\n",
       "</table>\n",
       "</div>"
      ],
      "text/plain": [
       "         LineID Character Movie                Name  \\\n",
       "291285  L629539    u8657   m587               COLE    \n",
       "158816  L140646    u4587   m302            VINCENT    \n",
       "211526  L339190    u6249   m417   TAKSTER RINPOCHE    \n",
       "123608   L28266    u3606   m238              MARGO    \n",
       "303778  L664721    u9000   m613             XANDER    \n",
       "\n",
       "                                                     Line  \n",
       "291285                                       underground.  \n",
       "158816   how are you at math?  i was hired for five hi...  \n",
       "211526       don't eat all those sweets. you'll get sick.  \n",
       "123608   she'd be a great help - read scripts, intervi...  \n",
       "303778      you're not exactly \"going anywhere\" yourself.  "
      ]
     },
     "execution_count": 12,
     "metadata": {},
     "output_type": "execute_result"
    }
   ],
   "source": [
    "movie_lines.head()"
   ]
  },
  {
   "cell_type": "code",
   "execution_count": 13,
   "id": "d2ce3036",
   "metadata": {},
   "outputs": [],
   "source": [
    "# # Remove lines that do not contain he or she pronouns\n",
    "# # Only include lines where ' he ' is in middle of sentence, surrounded by at least 1 space on either side\n",
    "# movie_lines = movie_lines[movie_lines[\"Line\"].str.contains('|'.join([' he ', ' she ']))]"
   ]
  },
  {
   "cell_type": "code",
   "execution_count": 14,
   "id": "32f0091e",
   "metadata": {},
   "outputs": [
    {
     "data": {
      "text/html": [
       "<div>\n",
       "<style scoped>\n",
       "    .dataframe tbody tr th:only-of-type {\n",
       "        vertical-align: middle;\n",
       "    }\n",
       "\n",
       "    .dataframe tbody tr th {\n",
       "        vertical-align: top;\n",
       "    }\n",
       "\n",
       "    .dataframe thead th {\n",
       "        text-align: right;\n",
       "    }\n",
       "</style>\n",
       "<table border=\"1\" class=\"dataframe\">\n",
       "  <thead>\n",
       "    <tr style=\"text-align: right;\">\n",
       "      <th></th>\n",
       "      <th>LineID</th>\n",
       "      <th>Character</th>\n",
       "      <th>Movie</th>\n",
       "      <th>Name</th>\n",
       "      <th>Line</th>\n",
       "    </tr>\n",
       "  </thead>\n",
       "  <tbody>\n",
       "    <tr>\n",
       "      <th>291285</th>\n",
       "      <td>L629539</td>\n",
       "      <td>u8657</td>\n",
       "      <td>m587</td>\n",
       "      <td>COLE</td>\n",
       "      <td>underground.</td>\n",
       "    </tr>\n",
       "    <tr>\n",
       "      <th>158816</th>\n",
       "      <td>L140646</td>\n",
       "      <td>u4587</td>\n",
       "      <td>m302</td>\n",
       "      <td>VINCENT</td>\n",
       "      <td>how are you at math?  i was hired for five hi...</td>\n",
       "    </tr>\n",
       "    <tr>\n",
       "      <th>211526</th>\n",
       "      <td>L339190</td>\n",
       "      <td>u6249</td>\n",
       "      <td>m417</td>\n",
       "      <td>TAKSTER RINPOCHE</td>\n",
       "      <td>don't eat all those sweets. you'll get sick.</td>\n",
       "    </tr>\n",
       "    <tr>\n",
       "      <th>123608</th>\n",
       "      <td>L28266</td>\n",
       "      <td>u3606</td>\n",
       "      <td>m238</td>\n",
       "      <td>MARGO</td>\n",
       "      <td>she'd be a great help - read scripts, intervi...</td>\n",
       "    </tr>\n",
       "    <tr>\n",
       "      <th>303778</th>\n",
       "      <td>L664721</td>\n",
       "      <td>u9000</td>\n",
       "      <td>m613</td>\n",
       "      <td>XANDER</td>\n",
       "      <td>you're not exactly \"going anywhere\" yourself.</td>\n",
       "    </tr>\n",
       "  </tbody>\n",
       "</table>\n",
       "</div>"
      ],
      "text/plain": [
       "         LineID Character Movie                Name  \\\n",
       "291285  L629539    u8657   m587               COLE    \n",
       "158816  L140646    u4587   m302            VINCENT    \n",
       "211526  L339190    u6249   m417   TAKSTER RINPOCHE    \n",
       "123608   L28266    u3606   m238              MARGO    \n",
       "303778  L664721    u9000   m613             XANDER    \n",
       "\n",
       "                                                     Line  \n",
       "291285                                       underground.  \n",
       "158816   how are you at math?  i was hired for five hi...  \n",
       "211526       don't eat all those sweets. you'll get sick.  \n",
       "123608   she'd be a great help - read scripts, intervi...  \n",
       "303778      you're not exactly \"going anywhere\" yourself.  "
      ]
     },
     "execution_count": 14,
     "metadata": {},
     "output_type": "execute_result"
    }
   ],
   "source": [
    "movie_lines.head()"
   ]
  },
  {
   "cell_type": "markdown",
   "id": "aea88ff8-c656-48c5-8c63-a484eaacd329",
   "metadata": {},
   "source": [
    "### Tokenization and Segmentation"
   ]
  },
  {
   "cell_type": "code",
   "execution_count": 15,
   "id": "4e096048",
   "metadata": {},
   "outputs": [],
   "source": [
    "# Tokenize and segment\n",
    "# Drop rows without pronouns"
   ]
  },
  {
   "cell_type": "code",
   "execution_count": 16,
   "id": "a47ae814",
   "metadata": {},
   "outputs": [],
   "source": [
    "movie_lines[\"Segmented_Line\"] = movie_lines[\"Line\"].apply(sent_tokenize)"
   ]
  },
  {
   "cell_type": "code",
   "execution_count": 17,
   "id": "2fbc9e3f",
   "metadata": {},
   "outputs": [],
   "source": [
    "df = pd.DataFrame(columns=movie_lines.columns)"
   ]
  },
  {
   "cell_type": "code",
   "execution_count": 18,
   "id": "c81350fd",
   "metadata": {},
   "outputs": [
    {
     "data": {
      "text/html": [
       "<div>\n",
       "<style scoped>\n",
       "    .dataframe tbody tr th:only-of-type {\n",
       "        vertical-align: middle;\n",
       "    }\n",
       "\n",
       "    .dataframe tbody tr th {\n",
       "        vertical-align: top;\n",
       "    }\n",
       "\n",
       "    .dataframe thead th {\n",
       "        text-align: right;\n",
       "    }\n",
       "</style>\n",
       "<table border=\"1\" class=\"dataframe\">\n",
       "  <thead>\n",
       "    <tr style=\"text-align: right;\">\n",
       "      <th></th>\n",
       "      <th>LineID</th>\n",
       "      <th>Character</th>\n",
       "      <th>Movie</th>\n",
       "      <th>Name</th>\n",
       "      <th>Line</th>\n",
       "      <th>Segmented_Line</th>\n",
       "    </tr>\n",
       "  </thead>\n",
       "  <tbody>\n",
       "  </tbody>\n",
       "</table>\n",
       "</div>"
      ],
      "text/plain": [
       "Empty DataFrame\n",
       "Columns: [LineID, Character, Movie, Name, Line, Segmented_Line]\n",
       "Index: []"
      ]
     },
     "execution_count": 18,
     "metadata": {},
     "output_type": "execute_result"
    }
   ],
   "source": [
    "df.head()"
   ]
  },
  {
   "cell_type": "code",
   "execution_count": 19,
   "id": "27e14abe",
   "metadata": {},
   "outputs": [],
   "source": [
    "for row in movie_lines.iterrows():\n",
    "    for sentence in row[1][\"Segmented_Line\"]:\n",
    "        line_id = row[1][\"LineID\"]\n",
    "        character = row[1][\"Character\"]\n",
    "        movie = row[1][\"Movie\"]\n",
    "        name = row[1][\"Name\"]\n",
    "        line = row[1][\"Line\"]\n",
    "        segmented = sentence\n",
    "        new_row = {\"LineID\":line_id, \"Character\": character,\n",
    "                   \"Movie\":movie,\"Name\":name,\"Line\":line,\n",
    "                   \"Segmented_Line\":segmented}\n",
    "        df = df.append(new_row, ignore_index=True)"
   ]
  },
  {
   "cell_type": "code",
   "execution_count": 20,
   "id": "ddd1758e",
   "metadata": {},
   "outputs": [
    {
     "data": {
      "text/html": [
       "<div>\n",
       "<style scoped>\n",
       "    .dataframe tbody tr th:only-of-type {\n",
       "        vertical-align: middle;\n",
       "    }\n",
       "\n",
       "    .dataframe tbody tr th {\n",
       "        vertical-align: top;\n",
       "    }\n",
       "\n",
       "    .dataframe thead th {\n",
       "        text-align: right;\n",
       "    }\n",
       "</style>\n",
       "<table border=\"1\" class=\"dataframe\">\n",
       "  <thead>\n",
       "    <tr style=\"text-align: right;\">\n",
       "      <th></th>\n",
       "      <th>LineID</th>\n",
       "      <th>Character</th>\n",
       "      <th>Movie</th>\n",
       "      <th>Name</th>\n",
       "      <th>Line</th>\n",
       "      <th>Segmented_Line</th>\n",
       "    </tr>\n",
       "  </thead>\n",
       "  <tbody>\n",
       "    <tr>\n",
       "      <th>0</th>\n",
       "      <td>L629539</td>\n",
       "      <td>u8657</td>\n",
       "      <td>m587</td>\n",
       "      <td>COLE</td>\n",
       "      <td>underground.</td>\n",
       "      <td>underground.</td>\n",
       "    </tr>\n",
       "    <tr>\n",
       "      <th>1</th>\n",
       "      <td>L140646</td>\n",
       "      <td>u4587</td>\n",
       "      <td>m302</td>\n",
       "      <td>VINCENT</td>\n",
       "      <td>how are you at math?  i was hired for five hi...</td>\n",
       "      <td>how are you at math?</td>\n",
       "    </tr>\n",
       "    <tr>\n",
       "      <th>2</th>\n",
       "      <td>L140646</td>\n",
       "      <td>u4587</td>\n",
       "      <td>m302</td>\n",
       "      <td>VINCENT</td>\n",
       "      <td>how are you at math?  i was hired for five hi...</td>\n",
       "      <td>i was hired for five hits.</td>\n",
       "    </tr>\n",
       "    <tr>\n",
       "      <th>3</th>\n",
       "      <td>L140646</td>\n",
       "      <td>u4587</td>\n",
       "      <td>m302</td>\n",
       "      <td>VINCENT</td>\n",
       "      <td>how are you at math?  i was hired for five hi...</td>\n",
       "      <td>i did four.</td>\n",
       "    </tr>\n",
       "    <tr>\n",
       "      <th>4</th>\n",
       "      <td>L339190</td>\n",
       "      <td>u6249</td>\n",
       "      <td>m417</td>\n",
       "      <td>TAKSTER RINPOCHE</td>\n",
       "      <td>don't eat all those sweets. you'll get sick.</td>\n",
       "      <td>don't eat all those sweets.</td>\n",
       "    </tr>\n",
       "  </tbody>\n",
       "</table>\n",
       "</div>"
      ],
      "text/plain": [
       "    LineID Character Movie                Name  \\\n",
       "0  L629539    u8657   m587               COLE    \n",
       "1  L140646    u4587   m302            VINCENT    \n",
       "2  L140646    u4587   m302            VINCENT    \n",
       "3  L140646    u4587   m302            VINCENT    \n",
       "4  L339190    u6249   m417   TAKSTER RINPOCHE    \n",
       "\n",
       "                                                Line  \\\n",
       "0                                       underground.   \n",
       "1   how are you at math?  i was hired for five hi...   \n",
       "2   how are you at math?  i was hired for five hi...   \n",
       "3   how are you at math?  i was hired for five hi...   \n",
       "4       don't eat all those sweets. you'll get sick.   \n",
       "\n",
       "                 Segmented_Line  \n",
       "0                  underground.  \n",
       "1          how are you at math?  \n",
       "2    i was hired for five hits.  \n",
       "3                   i did four.  \n",
       "4   don't eat all those sweets.  "
      ]
     },
     "execution_count": 20,
     "metadata": {},
     "output_type": "execute_result"
    }
   ],
   "source": [
    "df.head()"
   ]
  },
  {
   "cell_type": "code",
   "execution_count": 21,
   "id": "13e91bb7",
   "metadata": {},
   "outputs": [],
   "source": [
    "movie_lines = df"
   ]
  },
  {
   "cell_type": "code",
   "execution_count": 22,
   "id": "b3b5f93f",
   "metadata": {},
   "outputs": [
    {
     "data": {
      "text/html": [
       "<div>\n",
       "<style scoped>\n",
       "    .dataframe tbody tr th:only-of-type {\n",
       "        vertical-align: middle;\n",
       "    }\n",
       "\n",
       "    .dataframe tbody tr th {\n",
       "        vertical-align: top;\n",
       "    }\n",
       "\n",
       "    .dataframe thead th {\n",
       "        text-align: right;\n",
       "    }\n",
       "</style>\n",
       "<table border=\"1\" class=\"dataframe\">\n",
       "  <thead>\n",
       "    <tr style=\"text-align: right;\">\n",
       "      <th></th>\n",
       "      <th>LineID</th>\n",
       "      <th>Character</th>\n",
       "      <th>Movie</th>\n",
       "      <th>Name</th>\n",
       "      <th>Line</th>\n",
       "      <th>Segmented_Line</th>\n",
       "    </tr>\n",
       "  </thead>\n",
       "  <tbody>\n",
       "    <tr>\n",
       "      <th>0</th>\n",
       "      <td>L629539</td>\n",
       "      <td>u8657</td>\n",
       "      <td>m587</td>\n",
       "      <td>COLE</td>\n",
       "      <td>underground.</td>\n",
       "      <td>underground.</td>\n",
       "    </tr>\n",
       "    <tr>\n",
       "      <th>1</th>\n",
       "      <td>L140646</td>\n",
       "      <td>u4587</td>\n",
       "      <td>m302</td>\n",
       "      <td>VINCENT</td>\n",
       "      <td>how are you at math?  i was hired for five hi...</td>\n",
       "      <td>how are you at math?</td>\n",
       "    </tr>\n",
       "    <tr>\n",
       "      <th>2</th>\n",
       "      <td>L140646</td>\n",
       "      <td>u4587</td>\n",
       "      <td>m302</td>\n",
       "      <td>VINCENT</td>\n",
       "      <td>how are you at math?  i was hired for five hi...</td>\n",
       "      <td>i was hired for five hits.</td>\n",
       "    </tr>\n",
       "    <tr>\n",
       "      <th>3</th>\n",
       "      <td>L140646</td>\n",
       "      <td>u4587</td>\n",
       "      <td>m302</td>\n",
       "      <td>VINCENT</td>\n",
       "      <td>how are you at math?  i was hired for five hi...</td>\n",
       "      <td>i did four.</td>\n",
       "    </tr>\n",
       "    <tr>\n",
       "      <th>4</th>\n",
       "      <td>L339190</td>\n",
       "      <td>u6249</td>\n",
       "      <td>m417</td>\n",
       "      <td>TAKSTER RINPOCHE</td>\n",
       "      <td>don't eat all those sweets. you'll get sick.</td>\n",
       "      <td>don't eat all those sweets.</td>\n",
       "    </tr>\n",
       "  </tbody>\n",
       "</table>\n",
       "</div>"
      ],
      "text/plain": [
       "    LineID Character Movie                Name  \\\n",
       "0  L629539    u8657   m587               COLE    \n",
       "1  L140646    u4587   m302            VINCENT    \n",
       "2  L140646    u4587   m302            VINCENT    \n",
       "3  L140646    u4587   m302            VINCENT    \n",
       "4  L339190    u6249   m417   TAKSTER RINPOCHE    \n",
       "\n",
       "                                                Line  \\\n",
       "0                                       underground.   \n",
       "1   how are you at math?  i was hired for five hi...   \n",
       "2   how are you at math?  i was hired for five hi...   \n",
       "3   how are you at math?  i was hired for five hi...   \n",
       "4       don't eat all those sweets. you'll get sick.   \n",
       "\n",
       "                 Segmented_Line  \n",
       "0                  underground.  \n",
       "1          how are you at math?  \n",
       "2    i was hired for five hits.  \n",
       "3                   i did four.  \n",
       "4   don't eat all those sweets.  "
      ]
     },
     "execution_count": 22,
     "metadata": {},
     "output_type": "execute_result"
    }
   ],
   "source": [
    "movie_lines.head()"
   ]
  },
  {
   "cell_type": "code",
   "execution_count": 23,
   "id": "ee0aa06d",
   "metadata": {},
   "outputs": [],
   "source": [
    "movie_lines[\"Tokenized_Line\"] = movie_lines[\"Segmented_Line\"].apply(word_tokenize)\n"
   ]
  },
  {
   "cell_type": "code",
   "execution_count": 24,
   "id": "29724e47",
   "metadata": {},
   "outputs": [
    {
     "data": {
      "text/html": [
       "<div>\n",
       "<style scoped>\n",
       "    .dataframe tbody tr th:only-of-type {\n",
       "        vertical-align: middle;\n",
       "    }\n",
       "\n",
       "    .dataframe tbody tr th {\n",
       "        vertical-align: top;\n",
       "    }\n",
       "\n",
       "    .dataframe thead th {\n",
       "        text-align: right;\n",
       "    }\n",
       "</style>\n",
       "<table border=\"1\" class=\"dataframe\">\n",
       "  <thead>\n",
       "    <tr style=\"text-align: right;\">\n",
       "      <th></th>\n",
       "      <th>LineID</th>\n",
       "      <th>Character</th>\n",
       "      <th>Movie</th>\n",
       "      <th>Name</th>\n",
       "      <th>Line</th>\n",
       "      <th>Segmented_Line</th>\n",
       "      <th>Tokenized_Line</th>\n",
       "    </tr>\n",
       "  </thead>\n",
       "  <tbody>\n",
       "    <tr>\n",
       "      <th>0</th>\n",
       "      <td>L629539</td>\n",
       "      <td>u8657</td>\n",
       "      <td>m587</td>\n",
       "      <td>COLE</td>\n",
       "      <td>underground.</td>\n",
       "      <td>underground.</td>\n",
       "      <td>[underground, .]</td>\n",
       "    </tr>\n",
       "    <tr>\n",
       "      <th>1</th>\n",
       "      <td>L140646</td>\n",
       "      <td>u4587</td>\n",
       "      <td>m302</td>\n",
       "      <td>VINCENT</td>\n",
       "      <td>how are you at math?  i was hired for five hi...</td>\n",
       "      <td>how are you at math?</td>\n",
       "      <td>[how, are, you, at, math, ?]</td>\n",
       "    </tr>\n",
       "    <tr>\n",
       "      <th>2</th>\n",
       "      <td>L140646</td>\n",
       "      <td>u4587</td>\n",
       "      <td>m302</td>\n",
       "      <td>VINCENT</td>\n",
       "      <td>how are you at math?  i was hired for five hi...</td>\n",
       "      <td>i was hired for five hits.</td>\n",
       "      <td>[i, was, hired, for, five, hits, .]</td>\n",
       "    </tr>\n",
       "    <tr>\n",
       "      <th>3</th>\n",
       "      <td>L140646</td>\n",
       "      <td>u4587</td>\n",
       "      <td>m302</td>\n",
       "      <td>VINCENT</td>\n",
       "      <td>how are you at math?  i was hired for five hi...</td>\n",
       "      <td>i did four.</td>\n",
       "      <td>[i, did, four, .]</td>\n",
       "    </tr>\n",
       "    <tr>\n",
       "      <th>4</th>\n",
       "      <td>L339190</td>\n",
       "      <td>u6249</td>\n",
       "      <td>m417</td>\n",
       "      <td>TAKSTER RINPOCHE</td>\n",
       "      <td>don't eat all those sweets. you'll get sick.</td>\n",
       "      <td>don't eat all those sweets.</td>\n",
       "      <td>[do, n't, eat, all, those, sweets, .]</td>\n",
       "    </tr>\n",
       "  </tbody>\n",
       "</table>\n",
       "</div>"
      ],
      "text/plain": [
       "    LineID Character Movie                Name  \\\n",
       "0  L629539    u8657   m587               COLE    \n",
       "1  L140646    u4587   m302            VINCENT    \n",
       "2  L140646    u4587   m302            VINCENT    \n",
       "3  L140646    u4587   m302            VINCENT    \n",
       "4  L339190    u6249   m417   TAKSTER RINPOCHE    \n",
       "\n",
       "                                                Line  \\\n",
       "0                                       underground.   \n",
       "1   how are you at math?  i was hired for five hi...   \n",
       "2   how are you at math?  i was hired for five hi...   \n",
       "3   how are you at math?  i was hired for five hi...   \n",
       "4       don't eat all those sweets. you'll get sick.   \n",
       "\n",
       "                 Segmented_Line                         Tokenized_Line  \n",
       "0                  underground.                       [underground, .]  \n",
       "1          how are you at math?           [how, are, you, at, math, ?]  \n",
       "2    i was hired for five hits.    [i, was, hired, for, five, hits, .]  \n",
       "3                   i did four.                      [i, did, four, .]  \n",
       "4   don't eat all those sweets.  [do, n't, eat, all, those, sweets, .]  "
      ]
     },
     "execution_count": 24,
     "metadata": {},
     "output_type": "execute_result"
    }
   ],
   "source": [
    "movie_lines.head()"
   ]
  },
  {
   "cell_type": "markdown",
   "id": "002b9556-496d-4f07-abde-948b1360774b",
   "metadata": {},
   "source": [
    "### Extracting Pronouns"
   ]
  },
  {
   "cell_type": "code",
   "execution_count": 25,
   "id": "c4cd4c69",
   "metadata": {},
   "outputs": [],
   "source": [
    "def get_pronoun(tokenized_line):\n",
    "    if \"she\" in tokenized_line:\n",
    "        return \"she\"\n",
    "    elif \"he\" in tokenized_line:\n",
    "        return \"he\"\n",
    "    else:\n",
    "        return \"none\""
   ]
  },
  {
   "cell_type": "code",
   "execution_count": 26,
   "id": "81f5684c",
   "metadata": {},
   "outputs": [],
   "source": [
    "movie_lines[\"Pronoun\"] = movie_lines[\"Tokenized_Line\"].apply(get_pronoun)"
   ]
  },
  {
   "cell_type": "code",
   "execution_count": 27,
   "id": "a4b7b221",
   "metadata": {},
   "outputs": [
    {
     "data": {
      "text/html": [
       "<div>\n",
       "<style scoped>\n",
       "    .dataframe tbody tr th:only-of-type {\n",
       "        vertical-align: middle;\n",
       "    }\n",
       "\n",
       "    .dataframe tbody tr th {\n",
       "        vertical-align: top;\n",
       "    }\n",
       "\n",
       "    .dataframe thead th {\n",
       "        text-align: right;\n",
       "    }\n",
       "</style>\n",
       "<table border=\"1\" class=\"dataframe\">\n",
       "  <thead>\n",
       "    <tr style=\"text-align: right;\">\n",
       "      <th></th>\n",
       "      <th>LineID</th>\n",
       "      <th>Character</th>\n",
       "      <th>Movie</th>\n",
       "      <th>Name</th>\n",
       "      <th>Line</th>\n",
       "      <th>Segmented_Line</th>\n",
       "      <th>Tokenized_Line</th>\n",
       "      <th>Pronoun</th>\n",
       "    </tr>\n",
       "  </thead>\n",
       "  <tbody>\n",
       "    <tr>\n",
       "      <th>0</th>\n",
       "      <td>L629539</td>\n",
       "      <td>u8657</td>\n",
       "      <td>m587</td>\n",
       "      <td>COLE</td>\n",
       "      <td>underground.</td>\n",
       "      <td>underground.</td>\n",
       "      <td>[underground, .]</td>\n",
       "      <td>none</td>\n",
       "    </tr>\n",
       "    <tr>\n",
       "      <th>1</th>\n",
       "      <td>L140646</td>\n",
       "      <td>u4587</td>\n",
       "      <td>m302</td>\n",
       "      <td>VINCENT</td>\n",
       "      <td>how are you at math?  i was hired for five hi...</td>\n",
       "      <td>how are you at math?</td>\n",
       "      <td>[how, are, you, at, math, ?]</td>\n",
       "      <td>none</td>\n",
       "    </tr>\n",
       "    <tr>\n",
       "      <th>2</th>\n",
       "      <td>L140646</td>\n",
       "      <td>u4587</td>\n",
       "      <td>m302</td>\n",
       "      <td>VINCENT</td>\n",
       "      <td>how are you at math?  i was hired for five hi...</td>\n",
       "      <td>i was hired for five hits.</td>\n",
       "      <td>[i, was, hired, for, five, hits, .]</td>\n",
       "      <td>none</td>\n",
       "    </tr>\n",
       "    <tr>\n",
       "      <th>3</th>\n",
       "      <td>L140646</td>\n",
       "      <td>u4587</td>\n",
       "      <td>m302</td>\n",
       "      <td>VINCENT</td>\n",
       "      <td>how are you at math?  i was hired for five hi...</td>\n",
       "      <td>i did four.</td>\n",
       "      <td>[i, did, four, .]</td>\n",
       "      <td>none</td>\n",
       "    </tr>\n",
       "    <tr>\n",
       "      <th>4</th>\n",
       "      <td>L339190</td>\n",
       "      <td>u6249</td>\n",
       "      <td>m417</td>\n",
       "      <td>TAKSTER RINPOCHE</td>\n",
       "      <td>don't eat all those sweets. you'll get sick.</td>\n",
       "      <td>don't eat all those sweets.</td>\n",
       "      <td>[do, n't, eat, all, those, sweets, .]</td>\n",
       "      <td>none</td>\n",
       "    </tr>\n",
       "  </tbody>\n",
       "</table>\n",
       "</div>"
      ],
      "text/plain": [
       "    LineID Character Movie                Name  \\\n",
       "0  L629539    u8657   m587               COLE    \n",
       "1  L140646    u4587   m302            VINCENT    \n",
       "2  L140646    u4587   m302            VINCENT    \n",
       "3  L140646    u4587   m302            VINCENT    \n",
       "4  L339190    u6249   m417   TAKSTER RINPOCHE    \n",
       "\n",
       "                                                Line  \\\n",
       "0                                       underground.   \n",
       "1   how are you at math?  i was hired for five hi...   \n",
       "2   how are you at math?  i was hired for five hi...   \n",
       "3   how are you at math?  i was hired for five hi...   \n",
       "4       don't eat all those sweets. you'll get sick.   \n",
       "\n",
       "                 Segmented_Line                         Tokenized_Line Pronoun  \n",
       "0                  underground.                       [underground, .]    none  \n",
       "1          how are you at math?           [how, are, you, at, math, ?]    none  \n",
       "2    i was hired for five hits.    [i, was, hired, for, five, hits, .]    none  \n",
       "3                   i did four.                      [i, did, four, .]    none  \n",
       "4   don't eat all those sweets.  [do, n't, eat, all, those, sweets, .]    none  "
      ]
     },
     "execution_count": 27,
     "metadata": {},
     "output_type": "execute_result"
    }
   ],
   "source": [
    "movie_lines.head()"
   ]
  },
  {
   "cell_type": "code",
   "execution_count": 28,
   "id": "bb26a97f",
   "metadata": {},
   "outputs": [],
   "source": [
    "movie_lines = movie_lines.loc[movie_lines[\"Pronoun\"] != \"none\"]"
   ]
  },
  {
   "cell_type": "code",
   "execution_count": 29,
   "id": "bfe9db22",
   "metadata": {},
   "outputs": [
    {
     "data": {
      "text/html": [
       "<div>\n",
       "<style scoped>\n",
       "    .dataframe tbody tr th:only-of-type {\n",
       "        vertical-align: middle;\n",
       "    }\n",
       "\n",
       "    .dataframe tbody tr th {\n",
       "        vertical-align: top;\n",
       "    }\n",
       "\n",
       "    .dataframe thead th {\n",
       "        text-align: right;\n",
       "    }\n",
       "</style>\n",
       "<table border=\"1\" class=\"dataframe\">\n",
       "  <thead>\n",
       "    <tr style=\"text-align: right;\">\n",
       "      <th></th>\n",
       "      <th>LineID</th>\n",
       "      <th>Character</th>\n",
       "      <th>Movie</th>\n",
       "      <th>Name</th>\n",
       "      <th>Line</th>\n",
       "      <th>Segmented_Line</th>\n",
       "      <th>Tokenized_Line</th>\n",
       "      <th>Pronoun</th>\n",
       "    </tr>\n",
       "  </thead>\n",
       "  <tbody>\n",
       "    <tr>\n",
       "      <th>6</th>\n",
       "      <td>L28266</td>\n",
       "      <td>u3606</td>\n",
       "      <td>m238</td>\n",
       "      <td>MARGO</td>\n",
       "      <td>she'd be a great help - read scripts, intervi...</td>\n",
       "      <td>she'd be a great help - read scripts, intervi...</td>\n",
       "      <td>[she, 'd, be, a, great, help, -, read, scripts...</td>\n",
       "      <td>she</td>\n",
       "    </tr>\n",
       "    <tr>\n",
       "      <th>19</th>\n",
       "      <td>L445801</td>\n",
       "      <td>u7080</td>\n",
       "      <td>m474</td>\n",
       "      <td>ELIAS</td>\n",
       "      <td>what didn't she do. she fucked the living shi...</td>\n",
       "      <td>what didn't she do.</td>\n",
       "      <td>[what, did, n't, she, do, .]</td>\n",
       "      <td>she</td>\n",
       "    </tr>\n",
       "    <tr>\n",
       "      <th>20</th>\n",
       "      <td>L445801</td>\n",
       "      <td>u7080</td>\n",
       "      <td>m474</td>\n",
       "      <td>ELIAS</td>\n",
       "      <td>what didn't she do. she fucked the living shi...</td>\n",
       "      <td>she fucked the living shit outta me, that's wh...</td>\n",
       "      <td>[she, fucked, the, living, shit, outta, me, ,,...</td>\n",
       "      <td>she</td>\n",
       "    </tr>\n",
       "    <tr>\n",
       "      <th>64</th>\n",
       "      <td>L276276</td>\n",
       "      <td>u5820</td>\n",
       "      <td>m385</td>\n",
       "      <td>TREVOR</td>\n",
       "      <td>we startred off to be. she was, i guess i was...</td>\n",
       "      <td>she was, i guess i was.</td>\n",
       "      <td>[she, was, ,, i, guess, i, was, .]</td>\n",
       "      <td>she</td>\n",
       "    </tr>\n",
       "    <tr>\n",
       "      <th>93</th>\n",
       "      <td>L224364</td>\n",
       "      <td>u5400</td>\n",
       "      <td>m358</td>\n",
       "      <td>SATCH</td>\n",
       "      <td>she makes ten.</td>\n",
       "      <td>she makes ten.</td>\n",
       "      <td>[she, makes, ten, .]</td>\n",
       "      <td>she</td>\n",
       "    </tr>\n",
       "  </tbody>\n",
       "</table>\n",
       "</div>"
      ],
      "text/plain": [
       "     LineID Character Movie      Name  \\\n",
       "6    L28266    u3606   m238    MARGO    \n",
       "19  L445801    u7080   m474    ELIAS    \n",
       "20  L445801    u7080   m474    ELIAS    \n",
       "64  L276276    u5820   m385   TREVOR    \n",
       "93  L224364    u5400   m358    SATCH    \n",
       "\n",
       "                                                 Line  \\\n",
       "6    she'd be a great help - read scripts, intervi...   \n",
       "19   what didn't she do. she fucked the living shi...   \n",
       "20   what didn't she do. she fucked the living shi...   \n",
       "64   we startred off to be. she was, i guess i was...   \n",
       "93                                     she makes ten.   \n",
       "\n",
       "                                       Segmented_Line  \\\n",
       "6    she'd be a great help - read scripts, intervi...   \n",
       "19                                what didn't she do.   \n",
       "20  she fucked the living shit outta me, that's wh...   \n",
       "64                            she was, i guess i was.   \n",
       "93                                     she makes ten.   \n",
       "\n",
       "                                       Tokenized_Line Pronoun  \n",
       "6   [she, 'd, be, a, great, help, -, read, scripts...     she  \n",
       "19                       [what, did, n't, she, do, .]     she  \n",
       "20  [she, fucked, the, living, shit, outta, me, ,,...     she  \n",
       "64                 [she, was, ,, i, guess, i, was, .]     she  \n",
       "93                               [she, makes, ten, .]     she  "
      ]
     },
     "execution_count": 29,
     "metadata": {},
     "output_type": "execute_result"
    }
   ],
   "source": [
    "movie_lines.head()"
   ]
  },
  {
   "cell_type": "code",
   "execution_count": 30,
   "id": "795d5c95",
   "metadata": {},
   "outputs": [
    {
     "data": {
      "text/html": [
       "<div>\n",
       "<style scoped>\n",
       "    .dataframe tbody tr th:only-of-type {\n",
       "        vertical-align: middle;\n",
       "    }\n",
       "\n",
       "    .dataframe tbody tr th {\n",
       "        vertical-align: top;\n",
       "    }\n",
       "\n",
       "    .dataframe thead th {\n",
       "        text-align: right;\n",
       "    }\n",
       "</style>\n",
       "<table border=\"1\" class=\"dataframe\">\n",
       "  <thead>\n",
       "    <tr style=\"text-align: right;\">\n",
       "      <th></th>\n",
       "      <th>LineID</th>\n",
       "      <th>Character</th>\n",
       "      <th>Movie</th>\n",
       "      <th>Name</th>\n",
       "      <th>Line</th>\n",
       "      <th>Segmented_Line</th>\n",
       "      <th>Tokenized_Line</th>\n",
       "      <th>Pronoun</th>\n",
       "    </tr>\n",
       "  </thead>\n",
       "  <tbody>\n",
       "    <tr>\n",
       "      <th>count</th>\n",
       "      <td>363</td>\n",
       "      <td>363</td>\n",
       "      <td>363</td>\n",
       "      <td>363</td>\n",
       "      <td>363</td>\n",
       "      <td>363</td>\n",
       "      <td>363</td>\n",
       "      <td>363</td>\n",
       "    </tr>\n",
       "    <tr>\n",
       "      <th>unique</th>\n",
       "      <td>283</td>\n",
       "      <td>267</td>\n",
       "      <td>208</td>\n",
       "      <td>245</td>\n",
       "      <td>283</td>\n",
       "      <td>362</td>\n",
       "      <td>362</td>\n",
       "      <td>2</td>\n",
       "    </tr>\n",
       "    <tr>\n",
       "      <th>top</th>\n",
       "      <td>L655359</td>\n",
       "      <td>u8914</td>\n",
       "      <td>m606</td>\n",
       "      <td>RAY</td>\n",
       "      <td>she looked shaky, but lucid.  i thought, i wo...</td>\n",
       "      <td>she's much better than wine!</td>\n",
       "      <td>[she, 's, much, better, than, wine, !]</td>\n",
       "      <td>he</td>\n",
       "    </tr>\n",
       "    <tr>\n",
       "      <th>freq</th>\n",
       "      <td>6</td>\n",
       "      <td>6</td>\n",
       "      <td>8</td>\n",
       "      <td>13</td>\n",
       "      <td>6</td>\n",
       "      <td>2</td>\n",
       "      <td>2</td>\n",
       "      <td>244</td>\n",
       "    </tr>\n",
       "  </tbody>\n",
       "</table>\n",
       "</div>"
      ],
      "text/plain": [
       "         LineID Character Movie   Name  \\\n",
       "count       363       363   363    363   \n",
       "unique      283       267   208    245   \n",
       "top     L655359    u8914   m606   RAY    \n",
       "freq          6         6     8     13   \n",
       "\n",
       "                                                     Line  \\\n",
       "count                                                 363   \n",
       "unique                                                283   \n",
       "top      she looked shaky, but lucid.  i thought, i wo...   \n",
       "freq                                                    6   \n",
       "\n",
       "                      Segmented_Line                          Tokenized_Line  \\\n",
       "count                            363                                     363   \n",
       "unique                           362                                     362   \n",
       "top     she's much better than wine!  [she, 's, much, better, than, wine, !]   \n",
       "freq                               2                                       2   \n",
       "\n",
       "       Pronoun  \n",
       "count      363  \n",
       "unique       2  \n",
       "top         he  \n",
       "freq       244  "
      ]
     },
     "execution_count": 30,
     "metadata": {},
     "output_type": "execute_result"
    }
   ],
   "source": [
    "movie_lines.describe()"
   ]
  },
  {
   "cell_type": "code",
   "execution_count": 31,
   "id": "0d718e22",
   "metadata": {},
   "outputs": [
    {
     "data": {
      "text/plain": [
       "(363, 8)"
      ]
     },
     "execution_count": 31,
     "metadata": {},
     "output_type": "execute_result"
    }
   ],
   "source": [
    "movie_lines.shape"
   ]
  },
  {
   "cell_type": "markdown",
   "id": "8e123f79-5b7c-4080-b2bf-6bcc562e087d",
   "metadata": {},
   "source": [
    "### Extracting Verb"
   ]
  },
  {
   "cell_type": "code",
   "execution_count": 32,
   "id": "b608c626",
   "metadata": {},
   "outputs": [],
   "source": [
    "def get_verb(tokenized_line):\n",
    "    pronoun = get_pronoun(tokenized_line)\n",
    "    pronoun_index = tokenized_line.index(pronoun)\n",
    "    word_pos_pairs = nltk.pos_tag(tokenized_line[pronoun_index:], tagset='universal')\n",
    "    pos_list = [pos for _, pos in word_pos_pairs]\n",
    "    \n",
    "    if 'VERB' not in pos_list:\n",
    "        return 'none'\n",
    "    \n",
    "    verb_index = pos_list.index('VERB')\n",
    "    # TODO: consider second verb after pronoun\n",
    "    # ex: he's biking, 's and biking are both VERB\n",
    "    return word_pos_pairs[verb_index][0]"
   ]
  },
  {
   "cell_type": "code",
   "execution_count": 33,
   "id": "ec593735",
   "metadata": {},
   "outputs": [
    {
     "name": "stderr",
     "output_type": "stream",
     "text": [
      "/var/folders/0b/p9t1prd97_g8t6jgmnm5s7600000gn/T/ipykernel_71372/3157400569.py:1: SettingWithCopyWarning: \n",
      "A value is trying to be set on a copy of a slice from a DataFrame.\n",
      "Try using .loc[row_indexer,col_indexer] = value instead\n",
      "\n",
      "See the caveats in the documentation: https://pandas.pydata.org/pandas-docs/stable/user_guide/indexing.html#returning-a-view-versus-a-copy\n",
      "  movie_lines[\"Verb\"] = movie_lines[\"Tokenized_Line\"].apply(get_verb)\n"
     ]
    }
   ],
   "source": [
    "movie_lines[\"Verb\"] = movie_lines[\"Tokenized_Line\"].apply(get_verb)"
   ]
  },
  {
   "cell_type": "code",
   "execution_count": 34,
   "id": "94fcc49c",
   "metadata": {},
   "outputs": [
    {
     "data": {
      "text/html": [
       "<div>\n",
       "<style scoped>\n",
       "    .dataframe tbody tr th:only-of-type {\n",
       "        vertical-align: middle;\n",
       "    }\n",
       "\n",
       "    .dataframe tbody tr th {\n",
       "        vertical-align: top;\n",
       "    }\n",
       "\n",
       "    .dataframe thead th {\n",
       "        text-align: right;\n",
       "    }\n",
       "</style>\n",
       "<table border=\"1\" class=\"dataframe\">\n",
       "  <thead>\n",
       "    <tr style=\"text-align: right;\">\n",
       "      <th></th>\n",
       "      <th>LineID</th>\n",
       "      <th>Character</th>\n",
       "      <th>Movie</th>\n",
       "      <th>Name</th>\n",
       "      <th>Line</th>\n",
       "      <th>Segmented_Line</th>\n",
       "      <th>Tokenized_Line</th>\n",
       "      <th>Pronoun</th>\n",
       "      <th>Verb</th>\n",
       "    </tr>\n",
       "  </thead>\n",
       "  <tbody>\n",
       "    <tr>\n",
       "      <th>6</th>\n",
       "      <td>L28266</td>\n",
       "      <td>u3606</td>\n",
       "      <td>m238</td>\n",
       "      <td>MARGO</td>\n",
       "      <td>she'd be a great help - read scripts, intervi...</td>\n",
       "      <td>she'd be a great help - read scripts, intervi...</td>\n",
       "      <td>[she, 'd, be, a, great, help, -, read, scripts...</td>\n",
       "      <td>she</td>\n",
       "      <td>'d</td>\n",
       "    </tr>\n",
       "    <tr>\n",
       "      <th>19</th>\n",
       "      <td>L445801</td>\n",
       "      <td>u7080</td>\n",
       "      <td>m474</td>\n",
       "      <td>ELIAS</td>\n",
       "      <td>what didn't she do. she fucked the living shi...</td>\n",
       "      <td>what didn't she do.</td>\n",
       "      <td>[what, did, n't, she, do, .]</td>\n",
       "      <td>she</td>\n",
       "      <td>do</td>\n",
       "    </tr>\n",
       "    <tr>\n",
       "      <th>20</th>\n",
       "      <td>L445801</td>\n",
       "      <td>u7080</td>\n",
       "      <td>m474</td>\n",
       "      <td>ELIAS</td>\n",
       "      <td>what didn't she do. she fucked the living shi...</td>\n",
       "      <td>she fucked the living shit outta me, that's wh...</td>\n",
       "      <td>[she, fucked, the, living, shit, outta, me, ,,...</td>\n",
       "      <td>she</td>\n",
       "      <td>fucked</td>\n",
       "    </tr>\n",
       "    <tr>\n",
       "      <th>64</th>\n",
       "      <td>L276276</td>\n",
       "      <td>u5820</td>\n",
       "      <td>m385</td>\n",
       "      <td>TREVOR</td>\n",
       "      <td>we startred off to be. she was, i guess i was...</td>\n",
       "      <td>she was, i guess i was.</td>\n",
       "      <td>[she, was, ,, i, guess, i, was, .]</td>\n",
       "      <td>she</td>\n",
       "      <td>was</td>\n",
       "    </tr>\n",
       "    <tr>\n",
       "      <th>93</th>\n",
       "      <td>L224364</td>\n",
       "      <td>u5400</td>\n",
       "      <td>m358</td>\n",
       "      <td>SATCH</td>\n",
       "      <td>she makes ten.</td>\n",
       "      <td>she makes ten.</td>\n",
       "      <td>[she, makes, ten, .]</td>\n",
       "      <td>she</td>\n",
       "      <td>makes</td>\n",
       "    </tr>\n",
       "  </tbody>\n",
       "</table>\n",
       "</div>"
      ],
      "text/plain": [
       "     LineID Character Movie      Name  \\\n",
       "6    L28266    u3606   m238    MARGO    \n",
       "19  L445801    u7080   m474    ELIAS    \n",
       "20  L445801    u7080   m474    ELIAS    \n",
       "64  L276276    u5820   m385   TREVOR    \n",
       "93  L224364    u5400   m358    SATCH    \n",
       "\n",
       "                                                 Line  \\\n",
       "6    she'd be a great help - read scripts, intervi...   \n",
       "19   what didn't she do. she fucked the living shi...   \n",
       "20   what didn't she do. she fucked the living shi...   \n",
       "64   we startred off to be. she was, i guess i was...   \n",
       "93                                     she makes ten.   \n",
       "\n",
       "                                       Segmented_Line  \\\n",
       "6    she'd be a great help - read scripts, intervi...   \n",
       "19                                what didn't she do.   \n",
       "20  she fucked the living shit outta me, that's wh...   \n",
       "64                            she was, i guess i was.   \n",
       "93                                     she makes ten.   \n",
       "\n",
       "                                       Tokenized_Line Pronoun    Verb  \n",
       "6   [she, 'd, be, a, great, help, -, read, scripts...     she      'd  \n",
       "19                       [what, did, n't, she, do, .]     she      do  \n",
       "20  [she, fucked, the, living, shit, outta, me, ,,...     she  fucked  \n",
       "64                 [she, was, ,, i, guess, i, was, .]     she     was  \n",
       "93                               [she, makes, ten, .]     she   makes  "
      ]
     },
     "execution_count": 34,
     "metadata": {},
     "output_type": "execute_result"
    }
   ],
   "source": [
    "movie_lines.head()"
   ]
  },
  {
   "cell_type": "code",
   "execution_count": 35,
   "id": "fb468c6d",
   "metadata": {},
   "outputs": [
    {
     "data": {
      "text/html": [
       "<div>\n",
       "<style scoped>\n",
       "    .dataframe tbody tr th:only-of-type {\n",
       "        vertical-align: middle;\n",
       "    }\n",
       "\n",
       "    .dataframe tbody tr th {\n",
       "        vertical-align: top;\n",
       "    }\n",
       "\n",
       "    .dataframe thead th {\n",
       "        text-align: right;\n",
       "    }\n",
       "</style>\n",
       "<table border=\"1\" class=\"dataframe\">\n",
       "  <thead>\n",
       "    <tr style=\"text-align: right;\">\n",
       "      <th></th>\n",
       "      <th>LineID</th>\n",
       "      <th>Character</th>\n",
       "      <th>Movie</th>\n",
       "      <th>Name</th>\n",
       "      <th>Line</th>\n",
       "      <th>Segmented_Line</th>\n",
       "      <th>Tokenized_Line</th>\n",
       "      <th>Pronoun</th>\n",
       "      <th>Verb</th>\n",
       "    </tr>\n",
       "  </thead>\n",
       "  <tbody>\n",
       "    <tr>\n",
       "      <th>count</th>\n",
       "      <td>363</td>\n",
       "      <td>363</td>\n",
       "      <td>363</td>\n",
       "      <td>363</td>\n",
       "      <td>363</td>\n",
       "      <td>363</td>\n",
       "      <td>363</td>\n",
       "      <td>363</td>\n",
       "      <td>363</td>\n",
       "    </tr>\n",
       "    <tr>\n",
       "      <th>unique</th>\n",
       "      <td>283</td>\n",
       "      <td>267</td>\n",
       "      <td>208</td>\n",
       "      <td>245</td>\n",
       "      <td>283</td>\n",
       "      <td>362</td>\n",
       "      <td>362</td>\n",
       "      <td>2</td>\n",
       "      <td>112</td>\n",
       "    </tr>\n",
       "    <tr>\n",
       "      <th>top</th>\n",
       "      <td>L655359</td>\n",
       "      <td>u8914</td>\n",
       "      <td>m606</td>\n",
       "      <td>RAY</td>\n",
       "      <td>she looked shaky, but lucid.  i thought, i wo...</td>\n",
       "      <td>she's much better than wine!</td>\n",
       "      <td>[she, 's, much, better, than, wine, !]</td>\n",
       "      <td>he</td>\n",
       "      <td>'s</td>\n",
       "    </tr>\n",
       "    <tr>\n",
       "      <th>freq</th>\n",
       "      <td>6</td>\n",
       "      <td>6</td>\n",
       "      <td>8</td>\n",
       "      <td>13</td>\n",
       "      <td>6</td>\n",
       "      <td>2</td>\n",
       "      <td>2</td>\n",
       "      <td>244</td>\n",
       "      <td>90</td>\n",
       "    </tr>\n",
       "  </tbody>\n",
       "</table>\n",
       "</div>"
      ],
      "text/plain": [
       "         LineID Character Movie   Name  \\\n",
       "count       363       363   363    363   \n",
       "unique      283       267   208    245   \n",
       "top     L655359    u8914   m606   RAY    \n",
       "freq          6         6     8     13   \n",
       "\n",
       "                                                     Line  \\\n",
       "count                                                 363   \n",
       "unique                                                283   \n",
       "top      she looked shaky, but lucid.  i thought, i wo...   \n",
       "freq                                                    6   \n",
       "\n",
       "                      Segmented_Line                          Tokenized_Line  \\\n",
       "count                            363                                     363   \n",
       "unique                           362                                     362   \n",
       "top     she's much better than wine!  [she, 's, much, better, than, wine, !]   \n",
       "freq                               2                                       2   \n",
       "\n",
       "       Pronoun Verb  \n",
       "count      363  363  \n",
       "unique       2  112  \n",
       "top         he   's  \n",
       "freq       244   90  "
      ]
     },
     "execution_count": 35,
     "metadata": {},
     "output_type": "execute_result"
    }
   ],
   "source": [
    "movie_lines.describe()"
   ]
  },
  {
   "cell_type": "markdown",
   "id": "99a6d272-371b-4b5d-b046-ed5f4f69c7a1",
   "metadata": {},
   "source": [
    "### Lemmatization"
   ]
  },
  {
   "cell_type": "code",
   "execution_count": 36,
   "id": "14a1ef9a-799a-40ea-8999-84d1e6a9c5f2",
   "metadata": {},
   "outputs": [],
   "source": [
    "def get_lemmatized_word(word):\n",
    "    return lemmatizer.lemmatize(word, \"v\")"
   ]
  },
  {
   "cell_type": "code",
   "execution_count": 37,
   "id": "14599b62-8b32-4207-a4c9-e6d58f1a9c36",
   "metadata": {},
   "outputs": [
    {
     "name": "stderr",
     "output_type": "stream",
     "text": [
      "/var/folders/0b/p9t1prd97_g8t6jgmnm5s7600000gn/T/ipykernel_71372/3122231019.py:5: SettingWithCopyWarning: \n",
      "A value is trying to be set on a copy of a slice from a DataFrame.\n",
      "Try using .loc[row_indexer,col_indexer] = value instead\n",
      "\n",
      "See the caveats in the documentation: https://pandas.pydata.org/pandas-docs/stable/user_guide/indexing.html#returning-a-view-versus-a-copy\n",
      "  movie_lines[\"Verb\"] = movie_lines[\"Verb\"].apply(get_lemmatized_word)\n"
     ]
    }
   ],
   "source": [
    "# LEMMATIZATION\n",
    "\n",
    "lemmatizer = WordNetLemmatizer()\n",
    "\n",
    "movie_lines[\"Verb\"] = movie_lines[\"Verb\"].apply(get_lemmatized_word)"
   ]
  },
  {
   "cell_type": "markdown",
   "id": "bdff1822-77d5-4b3e-b338-b47ecaffe9da",
   "metadata": {
    "tags": []
   },
   "source": [
    "## Extracting Year"
   ]
  },
  {
   "cell_type": "code",
   "execution_count": 38,
   "id": "f79dc248-6c79-455f-bd67-c4317034915c",
   "metadata": {},
   "outputs": [],
   "source": [
    "def get_movie_year(movie_id):\n",
    "    return movie_titles.loc[movie_titles[\"ID\"] == movie_id].iloc[0][\"Year\"]"
   ]
  },
  {
   "cell_type": "code",
   "execution_count": 39,
   "id": "89ee7ba7-c473-40a8-bae7-f0eaa8de08ca",
   "metadata": {},
   "outputs": [
    {
     "name": "stderr",
     "output_type": "stream",
     "text": [
      "/var/folders/0b/p9t1prd97_g8t6jgmnm5s7600000gn/T/ipykernel_71372/2345444802.py:1: SettingWithCopyWarning: \n",
      "A value is trying to be set on a copy of a slice from a DataFrame.\n",
      "Try using .loc[row_indexer,col_indexer] = value instead\n",
      "\n",
      "See the caveats in the documentation: https://pandas.pydata.org/pandas-docs/stable/user_guide/indexing.html#returning-a-view-versus-a-copy\n",
      "  movie_lines[\"Year\"] = movie_lines[\"Movie\"].apply(get_movie_year)\n"
     ]
    }
   ],
   "source": [
    "movie_lines[\"Year\"] = movie_lines[\"Movie\"].apply(get_movie_year)"
   ]
  },
  {
   "cell_type": "code",
   "execution_count": 40,
   "id": "0698b223-a964-4acf-aa62-e5a40b937285",
   "metadata": {},
   "outputs": [
    {
     "data": {
      "text/html": [
       "<div>\n",
       "<style scoped>\n",
       "    .dataframe tbody tr th:only-of-type {\n",
       "        vertical-align: middle;\n",
       "    }\n",
       "\n",
       "    .dataframe tbody tr th {\n",
       "        vertical-align: top;\n",
       "    }\n",
       "\n",
       "    .dataframe thead th {\n",
       "        text-align: right;\n",
       "    }\n",
       "</style>\n",
       "<table border=\"1\" class=\"dataframe\">\n",
       "  <thead>\n",
       "    <tr style=\"text-align: right;\">\n",
       "      <th></th>\n",
       "      <th>LineID</th>\n",
       "      <th>Character</th>\n",
       "      <th>Movie</th>\n",
       "      <th>Name</th>\n",
       "      <th>Line</th>\n",
       "      <th>Segmented_Line</th>\n",
       "      <th>Tokenized_Line</th>\n",
       "      <th>Pronoun</th>\n",
       "      <th>Verb</th>\n",
       "      <th>Year</th>\n",
       "    </tr>\n",
       "  </thead>\n",
       "  <tbody>\n",
       "    <tr>\n",
       "      <th>6</th>\n",
       "      <td>L28266</td>\n",
       "      <td>u3606</td>\n",
       "      <td>m238</td>\n",
       "      <td>MARGO</td>\n",
       "      <td>she'd be a great help - read scripts, intervi...</td>\n",
       "      <td>she'd be a great help - read scripts, intervi...</td>\n",
       "      <td>[she, 'd, be, a, great, help, -, read, scripts...</td>\n",
       "      <td>she</td>\n",
       "      <td>'d</td>\n",
       "      <td>1950</td>\n",
       "    </tr>\n",
       "    <tr>\n",
       "      <th>19</th>\n",
       "      <td>L445801</td>\n",
       "      <td>u7080</td>\n",
       "      <td>m474</td>\n",
       "      <td>ELIAS</td>\n",
       "      <td>what didn't she do. she fucked the living shi...</td>\n",
       "      <td>what didn't she do.</td>\n",
       "      <td>[what, did, n't, she, do, .]</td>\n",
       "      <td>she</td>\n",
       "      <td>do</td>\n",
       "      <td>1986</td>\n",
       "    </tr>\n",
       "    <tr>\n",
       "      <th>20</th>\n",
       "      <td>L445801</td>\n",
       "      <td>u7080</td>\n",
       "      <td>m474</td>\n",
       "      <td>ELIAS</td>\n",
       "      <td>what didn't she do. she fucked the living shi...</td>\n",
       "      <td>she fucked the living shit outta me, that's wh...</td>\n",
       "      <td>[she, fucked, the, living, shit, outta, me, ,,...</td>\n",
       "      <td>she</td>\n",
       "      <td>fuck</td>\n",
       "      <td>1986</td>\n",
       "    </tr>\n",
       "    <tr>\n",
       "      <th>64</th>\n",
       "      <td>L276276</td>\n",
       "      <td>u5820</td>\n",
       "      <td>m385</td>\n",
       "      <td>TREVOR</td>\n",
       "      <td>we startred off to be. she was, i guess i was...</td>\n",
       "      <td>she was, i guess i was.</td>\n",
       "      <td>[she, was, ,, i, guess, i, was, .]</td>\n",
       "      <td>she</td>\n",
       "      <td>be</td>\n",
       "      <td>2002</td>\n",
       "    </tr>\n",
       "    <tr>\n",
       "      <th>93</th>\n",
       "      <td>L224364</td>\n",
       "      <td>u5400</td>\n",
       "      <td>m358</td>\n",
       "      <td>SATCH</td>\n",
       "      <td>she makes ten.</td>\n",
       "      <td>she makes ten.</td>\n",
       "      <td>[she, makes, ten, .]</td>\n",
       "      <td>she</td>\n",
       "      <td>make</td>\n",
       "      <td>2000</td>\n",
       "    </tr>\n",
       "  </tbody>\n",
       "</table>\n",
       "</div>"
      ],
      "text/plain": [
       "     LineID Character Movie      Name  \\\n",
       "6    L28266    u3606   m238    MARGO    \n",
       "19  L445801    u7080   m474    ELIAS    \n",
       "20  L445801    u7080   m474    ELIAS    \n",
       "64  L276276    u5820   m385   TREVOR    \n",
       "93  L224364    u5400   m358    SATCH    \n",
       "\n",
       "                                                 Line  \\\n",
       "6    she'd be a great help - read scripts, intervi...   \n",
       "19   what didn't she do. she fucked the living shi...   \n",
       "20   what didn't she do. she fucked the living shi...   \n",
       "64   we startred off to be. she was, i guess i was...   \n",
       "93                                     she makes ten.   \n",
       "\n",
       "                                       Segmented_Line  \\\n",
       "6    she'd be a great help - read scripts, intervi...   \n",
       "19                                what didn't she do.   \n",
       "20  she fucked the living shit outta me, that's wh...   \n",
       "64                            she was, i guess i was.   \n",
       "93                                     she makes ten.   \n",
       "\n",
       "                                       Tokenized_Line Pronoun  Verb  Year  \n",
       "6   [she, 'd, be, a, great, help, -, read, scripts...     she    'd  1950  \n",
       "19                       [what, did, n't, she, do, .]     she    do  1986  \n",
       "20  [she, fucked, the, living, shit, outta, me, ,,...     she  fuck  1986  \n",
       "64                 [she, was, ,, i, guess, i, was, .]     she    be  2002  \n",
       "93                               [she, makes, ten, .]     she  make  2000  "
      ]
     },
     "execution_count": 40,
     "metadata": {},
     "output_type": "execute_result"
    }
   ],
   "source": [
    "movie_lines.head()"
   ]
  },
  {
   "cell_type": "code",
   "execution_count": 41,
   "id": "b0ddbfcd-4e41-4839-b699-fe8fc3ce7b50",
   "metadata": {},
   "outputs": [
    {
     "data": {
      "text/plain": [
       "count     363.000000\n",
       "mean     1987.482094\n",
       "std        18.320401\n",
       "min      1931.000000\n",
       "25%      1984.000000\n",
       "50%      1995.000000\n",
       "75%      1999.000000\n",
       "max      2009.000000\n",
       "Name: Year, dtype: float64"
      ]
     },
     "execution_count": 41,
     "metadata": {},
     "output_type": "execute_result"
    }
   ],
   "source": [
    "movie_lines[\"Year\"].describe()"
   ]
  },
  {
   "cell_type": "markdown",
   "id": "065018a5-a3a4-4b80-829e-7118d6039944",
   "metadata": {
    "tags": []
   },
   "source": [
    "## Extracting Genre"
   ]
  },
  {
   "cell_type": "code",
   "execution_count": 42,
   "id": "22df0761-8757-49a4-b6f6-ed844802e1d5",
   "metadata": {},
   "outputs": [],
   "source": [
    "def get_genre(movie_id):\n",
    "    genre_str = movie_titles.loc[movie_titles[\"ID\"] == movie_id].iloc[0][\"Genre\"]\n",
    "    return genre_str.strip().replace(\"'\", \"\").strip('[]').split(\", \")"
   ]
  },
  {
   "cell_type": "code",
   "execution_count": 43,
   "id": "08409490-d391-4920-84d9-2124100b3bdb",
   "metadata": {},
   "outputs": [
    {
     "name": "stderr",
     "output_type": "stream",
     "text": [
      "/var/folders/0b/p9t1prd97_g8t6jgmnm5s7600000gn/T/ipykernel_71372/129713391.py:1: SettingWithCopyWarning: \n",
      "A value is trying to be set on a copy of a slice from a DataFrame.\n",
      "Try using .loc[row_indexer,col_indexer] = value instead\n",
      "\n",
      "See the caveats in the documentation: https://pandas.pydata.org/pandas-docs/stable/user_guide/indexing.html#returning-a-view-versus-a-copy\n",
      "  movie_lines[\"Genre\"] = movie_lines[\"Movie\"].apply(get_genre)\n"
     ]
    }
   ],
   "source": [
    "movie_lines[\"Genre\"] = movie_lines[\"Movie\"].apply(get_genre)"
   ]
  },
  {
   "cell_type": "code",
   "execution_count": 44,
   "id": "6dd5bffc-382d-4163-a8ec-42b5c046cd30",
   "metadata": {},
   "outputs": [
    {
     "data": {
      "text/plain": [
       "count         363\n",
       "unique        124\n",
       "top       [drama]\n",
       "freq           18\n",
       "Name: Genre, dtype: object"
      ]
     },
     "execution_count": 44,
     "metadata": {},
     "output_type": "execute_result"
    }
   ],
   "source": [
    "movie_lines[\"Genre\"].describe() "
   ]
  },
  {
   "cell_type": "markdown",
   "id": "636030f8-e4e7-467c-b851-5145062db8f1",
   "metadata": {},
   "source": [
    "# DECADE ANALYSIS"
   ]
  },
  {
   "cell_type": "markdown",
   "id": "a8258f83-7351-4a1e-8292-78f918fa0cd9",
   "metadata": {
    "tags": []
   },
   "source": [
    "## Counts"
   ]
  },
  {
   "cell_type": "code",
   "execution_count": 45,
   "id": "2cc24b9d-87f8-4032-8da9-a8ee2c1d34b0",
   "metadata": {},
   "outputs": [],
   "source": [
    "def get_df(decade):\n",
    "    df = movie_lines.loc[movie_lines[\"Year\"] > decade]\n",
    "    df = df.loc[df[\"Year\"] < decade + 10]\n",
    "    return df"
   ]
  },
  {
   "cell_type": "code",
   "execution_count": 46,
   "id": "dd4fd785-8c4f-4e3d-97fa-70237b18f32d",
   "metadata": {},
   "outputs": [],
   "source": [
    "def get_counts(df):\n",
    "    counts = Counter(list(df[\"Verb\"].values))\n",
    "    hes = df.loc[df[\"Pronoun\"] == \"he\"]\n",
    "    num_hes = hes.shape[0]\n",
    "    shes = df.loc[df[\"Pronoun\"] == \"she\"]\n",
    "    num_shes = shes.shape[0]\n",
    "    he_list = list(hes[\"Verb\"].values)\n",
    "    she_list = list(shes[\"Verb\"].values)\n",
    "    he_counts = Counter(he_list)\n",
    "    she_counts = Counter(she_list)\n",
    "    return counts, he_counts, she_counts, num_hes, num_shes"
   ]
  },
  {
   "cell_type": "code",
   "execution_count": 47,
   "id": "be1a323c-fdfd-48dc-ad7d-ac8382f4a764",
   "metadata": {},
   "outputs": [],
   "source": [
    "# counts, he_counts, she_counts, num_hes, num_shes = get_counts(movie_lines)"
   ]
  },
  {
   "cell_type": "markdown",
   "id": "739da323-1cb3-4cb0-96e5-a4ee76acfc8a",
   "metadata": {},
   "source": [
    "#### Laplace Smoothing"
   ]
  },
  {
   "cell_type": "code",
   "execution_count": 48,
   "id": "5cb9954c-a259-4046-b1f7-bb6681100dd1",
   "metadata": {},
   "outputs": [],
   "source": [
    "def laplace(counts, he_counts, she_counts):\n",
    "    # Laplace smoothing\n",
    "\n",
    "    for item in counts:\n",
    "        he_counts[item] += 1\n",
    "\n",
    "    for item in counts:\n",
    "        she_counts[item] += 1\n",
    "        \n",
    "    return he_counts, she_counts"
   ]
  },
  {
   "cell_type": "code",
   "execution_count": 49,
   "id": "42654623-a33d-4cab-9ee1-39c7e5c9a4b8",
   "metadata": {},
   "outputs": [],
   "source": [
    "# he_counts, she_counts = laplace(counts, he_counts, she_counts)"
   ]
  },
  {
   "cell_type": "markdown",
   "id": "1670f63a-2cc1-458b-b70d-fb918642d8ae",
   "metadata": {},
   "source": [
    "#### Relative Frequency"
   ]
  },
  {
   "cell_type": "code",
   "execution_count": 50,
   "id": "b47a7d99-943c-426e-9208-ef65d9018146",
   "metadata": {},
   "outputs": [],
   "source": [
    "def get_freqs(counts, he_counts, she_counts, num_hes, num_shes, num_verbs_plot):\n",
    "    verbs = list(counts.keys())\n",
    "\n",
    "    he_freqs = []\n",
    "    she_freqs = []\n",
    "    freqs = []\n",
    "    \n",
    "    for verb in verbs:\n",
    "        he_rel_freq = he_counts[verb] / num_hes\n",
    "        she_rel_freq = she_counts[verb] / num_shes\n",
    "        he_freqs.append(he_rel_freq / she_rel_freq)\n",
    "        she_freqs.append(she_rel_freq / he_rel_freq)\n",
    "        if he_rel_freq > she_rel_freq:\n",
    "            freq = (he_rel_freq / she_rel_freq) * -1\n",
    "            freq += 1\n",
    "            freqs.append(freq)\n",
    "        else:\n",
    "            freq = (she_rel_freq / he_rel_freq)\n",
    "            freq += -1\n",
    "            freqs.append(freq)\n",
    "\n",
    "    verb_freqs = {verb: freq for (verb, freq) in list(zip(verbs, freqs))}\n",
    "    he_verb_freqs = {verb: freq for (verb, freq) in list(zip(verbs, he_freqs))}\n",
    "    she_verb_freqs = {verb: freq for (verb, freq) in list(zip(verbs, she_freqs))}\n",
    "    \n",
    "    he_freqs_counter = Counter(he_verb_freqs)\n",
    "    she_freqs_counter = Counter(she_verb_freqs)\n",
    "    \n",
    "    he_verbs = [verb for (verb, _) in he_freqs_counter.most_common(num_verbs_plot)]\n",
    "    she_verbs = [verb for (verb, _) in she_freqs_counter.most_common(num_verbs_plot)]\n",
    "    he_freqs = [verb_freqs[verb] for verb in he_verbs]\n",
    "    she_freqs = [verb_freqs[verb] for verb in she_verbs]\n",
    "    \n",
    "    return he_verbs, she_verbs, he_freqs, she_freqs"
   ]
  },
  {
   "cell_type": "code",
   "execution_count": 51,
   "id": "aa232957-8945-4043-be20-eb9e0b75253e",
   "metadata": {},
   "outputs": [],
   "source": [
    "# he_verbs, she_verbs, he_freqs, she_freqs = get_freqs(counts, he_counts, she_counts, num_hes, num_shes)"
   ]
  },
  {
   "cell_type": "markdown",
   "id": "a5027581-e7c3-455b-9c30-79e2332a7c9f",
   "metadata": {},
   "source": [
    "#### Plotting"
   ]
  },
  {
   "cell_type": "code",
   "execution_count": 52,
   "id": "7f9ba78f-f9b9-44b0-8e5b-1cd73aa0a23a",
   "metadata": {},
   "outputs": [],
   "source": [
    "def plot(he_verbs, she_verbs, he_freqs, she_freqs, num_verbs_plot):\n",
    "    verbs = he_verbs + she_verbs\n",
    "    freqs = he_freqs + she_freqs\n",
    "    \n",
    "    plt.rcdefaults()\n",
    "    fig, ax = plt.subplots()\n",
    "\n",
    "    y_pos = np.arange(len(verbs))\n",
    "    ax.barh(y_pos, freqs, align=\"center\")\n",
    "    ax.set_yticks(y_pos, labels=verbs)\n",
    "    ax.invert_yaxis()  # labels read top-to-bottom\n",
    "    ax.set_xlabel('Relative Frequency Ratio (He <0; She >0) ')\n",
    "    graph_title = 'Rel. Freq. Ratio of Verbs Following Pronouns {She, He} for Decade ' + str(decade)\n",
    "    ax.set_title(graph_title)\n",
    "\n",
    "    title = str(decade) + \".png\"\n",
    "    plt.savefig(title)"
   ]
  },
  {
   "cell_type": "markdown",
   "id": "149edbd6-8aae-4a36-8e77-45698d52fdf8",
   "metadata": {},
   "source": [
    "## Decades"
   ]
  },
  {
   "cell_type": "code",
   "execution_count": 53,
   "id": "88549af5-aadf-4e98-b33c-e4c4ae6f7705",
   "metadata": {},
   "outputs": [
    {
     "data": {
      "text/plain": [
       "1931"
      ]
     },
     "execution_count": 53,
     "metadata": {},
     "output_type": "execute_result"
    }
   ],
   "source": [
    "movie_lines[\"Year\"].min()"
   ]
  },
  {
   "cell_type": "code",
   "execution_count": 54,
   "id": "78bf3364-634a-4d30-aa6c-3d15cac7aa38",
   "metadata": {},
   "outputs": [
    {
     "data": {
      "text/plain": [
       "2009"
      ]
     },
     "execution_count": 54,
     "metadata": {},
     "output_type": "execute_result"
    }
   ],
   "source": [
    "movie_lines[\"Year\"].max()"
   ]
  },
  {
   "cell_type": "code",
   "execution_count": 55,
   "id": "aa162b01-6291-44c1-8939-893e4eabc479",
   "metadata": {},
   "outputs": [],
   "source": [
    "decades = []\n",
    "for i in range(1930, 2010, 10):\n",
    "    decades.append(i)"
   ]
  },
  {
   "cell_type": "code",
   "execution_count": 56,
   "id": "8fd603ba-f28e-4271-ad98-1606e61cf85f",
   "metadata": {},
   "outputs": [
    {
     "data": {
      "image/png": "[encoded data removed]",
      "text/plain": [
       "<Figure size 640x480 with 1 Axes>"
      ]
     },
     "metadata": {},
     "output_type": "display_data"
    },
    {
     "data": {
      "image/png": "[encoded data removed]",
      "text/plain": [
       "<Figure size 640x480 with 1 Axes>"
      ]
     },
     "metadata": {},
     "output_type": "display_data"
    },
    {
     "data": {
      "image/png": "[encoded data removed]",
      "text/plain": [
       "<Figure size 640x480 with 1 Axes>"
      ]
     },
     "metadata": {},
     "output_type": "display_data"
    },
    {
     "data": {
      "image/png": "[encoded data removed]",
      "text/plain": [
       "<Figure size 640x480 with 1 Axes>"
      ]
     },
     "metadata": {},
     "output_type": "display_data"
    },
    {
     "data": {
      "image/png": "[encoded data removed]",
      "text/plain": [
       "<Figure size 640x480 with 1 Axes>"
      ]
     },
     "metadata": {},
     "output_type": "display_data"
    },
    {
     "data": {
      "image/png": "[encoded data removed]",
      "text/plain": [
       "<Figure size 640x480 with 1 Axes>"
      ]
     },
     "metadata": {},
     "output_type": "display_data"
    },
    {
     "data": {
      "image/png": "[encoded data removed]",
      "text/plain": [
       "<Figure size 640x480 with 1 Axes>"
      ]
     },
     "metadata": {},
     "output_type": "display_data"
    },
    {
     "data": {
      "image/png": "[encoded data removed]",
      "text/plain": [
       "<Figure size 640x480 with 1 Axes>"
      ]
     },
     "metadata": {},
     "output_type": "display_data"
    }
   ],
   "source": [
    "for decade in decades:\n",
    "    num_verbs_plot = 15\n",
    "    \n",
    "    df = get_df(decade)\n",
    "    \n",
    "    counts, he_counts, she_counts, num_hes, num_shes = get_counts(df)\n",
    "    \n",
    "    he_counts, she_counts = laplace(counts, he_counts, she_counts)\n",
    "    \n",
    "    he_verbs, she_verbs, he_freqs, she_freqs = get_freqs(counts, he_counts, she_counts, num_hes, num_shes, num_verbs_plot)\n",
    "    \n",
    "    plot(he_verbs, she_verbs, he_freqs, she_freqs, num_verbs_plot)"
   ]
  },
  {
   "cell_type": "code",
   "execution_count": null,
   "id": "00e62682-474a-4bad-8f45-e69374a2afab",
   "metadata": {},
   "outputs": [],
   "source": []
  }
 ],
 "metadata": {
  "kernelspec": {
   "display_name": "Python 3",
   "language": "python",
   "name": "python3"
  },
  "language_info": {
   "codemirror_mode": {
    "name": "ipython",
    "version": 3
   },
   "file_extension": ".py",
   "mimetype": "text/x-python",
   "name": "python",
   "nbconvert_exporter": "python",
   "pygments_lexer": "ipython3",
   "version": "3.10.0"
  }
 },
 "nbformat": 4,
 "nbformat_minor": 5
}

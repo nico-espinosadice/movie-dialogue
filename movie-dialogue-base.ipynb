{
 "cells": [
  {
   "cell_type": "markdown",
   "id": "5a793589-b6ee-4257-aabe-21da50b0baf4",
   "metadata": {},
   "source": [
    "# Move Dialogue: Base Task"
   ]
  },
  {
   "cell_type": "markdown",
   "id": "19d53129-7bd4-4836-bb7b-6a1beab1b02c",
   "metadata": {},
   "source": [
    "## Imports"
   ]
  },
  {
   "cell_type": "code",
   "execution_count": 1,
   "id": "c79f771e",
   "metadata": {},
   "outputs": [
    {
     "name": "stderr",
     "output_type": "stream",
     "text": [
      "[nltk_data] Downloading package punkt to\n",
      "[nltk_data]     /Users/nicoespinosadice/nltk_data...\n",
      "[nltk_data]   Package punkt is already up-to-date!\n",
      "[nltk_data] Downloading package universal_tagset to\n",
      "[nltk_data]     /Users/nicoespinosadice/nltk_data...\n",
      "[nltk_data]   Package universal_tagset is already up-to-date!\n",
      "[nltk_data] Downloading package averaged_perceptron_tagger to\n",
      "[nltk_data]     /Users/nicoespinosadice/nltk_data...\n",
      "[nltk_data]   Package averaged_perceptron_tagger is already up-to-\n",
      "[nltk_data]       date!\n",
      "[nltk_data] Downloading package wordnet to\n",
      "[nltk_data]     /Users/nicoespinosadice/nltk_data...\n",
      "[nltk_data]   Package wordnet is already up-to-date!\n"
     ]
    },
    {
     "data": {
      "text/plain": [
       "True"
      ]
     },
     "execution_count": 1,
     "metadata": {},
     "output_type": "execute_result"
    }
   ],
   "source": [
    "import numpy as np\n",
    "import matplotlib.pyplot as plt\n",
    "from collections import Counter\n",
    "import pandas as pd\n",
    "import nltk\n",
    "from nltk import sent_tokenize, word_tokenize\n",
    "from nltk.stem import WordNetLemmatizer\n",
    "from nltk.stem import PorterStemmer\n",
    "import math\n",
    "nltk.download('punkt')\n",
    "nltk.download('universal_tagset')\n",
    "nltk.download('averaged_perceptron_tagger')\n",
    "nltk.download('wordnet')"
   ]
  },
  {
   "cell_type": "markdown",
   "id": "f3ef21ad-a958-4b5e-a70d-accdb660aa07",
   "metadata": {},
   "source": [
    "## Importing Dataset"
   ]
  },
  {
   "cell_type": "markdown",
   "id": "e9f6805f",
   "metadata": {},
   "source": [
    "Source for how to import data:  \n",
    "https://www.kaggle.com/shashankasubrahmanya/preprocessing-cornell-movie-dialogue-corpus"
   ]
  },
  {
   "cell_type": "code",
   "execution_count": 2,
   "id": "1832f739",
   "metadata": {},
   "outputs": [],
   "source": [
    "movie_lines_features = [\"LineID\", \"Character\", \"Movie\", \"Name\", \"Line\"]\n"
   ]
  },
  {
   "cell_type": "code",
   "execution_count": 3,
   "id": "cc87cc18",
   "metadata": {},
   "outputs": [],
   "source": [
    "movie_lines = pd.read_csv(\"data/movie_lines.txt\", sep = \"\\+\\+\\+\\$\\+\\+\\+\", engine = \"python\", encoding='ISO-8859-1', index_col = False, names = movie_lines_features)\n"
   ]
  },
  {
   "cell_type": "markdown",
   "id": "1b00c157-be31-41e7-902a-6866769f0ac5",
   "metadata": {},
   "source": [
    "## Data Cleaning"
   ]
  },
  {
   "cell_type": "code",
   "execution_count": 4,
   "id": "05c99005",
   "metadata": {},
   "outputs": [],
   "source": [
    "movie_lines = movie_lines.sample(frac=0.1)"
   ]
  },
  {
   "cell_type": "code",
   "execution_count": 5,
   "id": "522a8cbb",
   "metadata": {},
   "outputs": [
    {
     "data": {
      "text/html": [
       "<div>\n",
       "<style scoped>\n",
       "    .dataframe tbody tr th:only-of-type {\n",
       "        vertical-align: middle;\n",
       "    }\n",
       "\n",
       "    .dataframe tbody tr th {\n",
       "        vertical-align: top;\n",
       "    }\n",
       "\n",
       "    .dataframe thead th {\n",
       "        text-align: right;\n",
       "    }\n",
       "</style>\n",
       "<table border=\"1\" class=\"dataframe\">\n",
       "  <thead>\n",
       "    <tr style=\"text-align: right;\">\n",
       "      <th></th>\n",
       "      <th>LineID</th>\n",
       "      <th>Character</th>\n",
       "      <th>Movie</th>\n",
       "      <th>Name</th>\n",
       "      <th>Line</th>\n",
       "    </tr>\n",
       "  </thead>\n",
       "  <tbody>\n",
       "    <tr>\n",
       "      <th>275468</th>\n",
       "      <td>L574689</td>\n",
       "      <td>u8130</td>\n",
       "      <td>m552</td>\n",
       "      <td>ED</td>\n",
       "      <td>What'd you call that -- the Protector?</td>\n",
       "    </tr>\n",
       "    <tr>\n",
       "      <th>277835</th>\n",
       "      <td>L582469</td>\n",
       "      <td>u8208</td>\n",
       "      <td>m557</td>\n",
       "      <td>NOVAK</td>\n",
       "      <td>You're kidding me.</td>\n",
       "    </tr>\n",
       "    <tr>\n",
       "      <th>43468</th>\n",
       "      <td>L275249</td>\n",
       "      <td>u1307</td>\n",
       "      <td>m87</td>\n",
       "      <td>KIRSTY</td>\n",
       "      <td>It isn't. I know what's going on here, and it...</td>\n",
       "    </tr>\n",
       "    <tr>\n",
       "      <th>29313</th>\n",
       "      <td>L207338</td>\n",
       "      <td>u916</td>\n",
       "      <td>m59</td>\n",
       "      <td>THE RAT</td>\n",
       "      <td>Yeah? About fifty people I didn't know wrote ...</td>\n",
       "    </tr>\n",
       "    <tr>\n",
       "      <th>209121</th>\n",
       "      <td>L331862</td>\n",
       "      <td>u6169</td>\n",
       "      <td>m411</td>\n",
       "      <td>MALCOLM</td>\n",
       "      <td>It simply deals with unpredictability in comp...</td>\n",
       "    </tr>\n",
       "  </tbody>\n",
       "</table>\n",
       "</div>"
      ],
      "text/plain": [
       "          LineID Character   Movie       Name  \\\n",
       "275468  L574689     u8130    m552         ED    \n",
       "277835  L582469     u8208    m557      NOVAK    \n",
       "43468   L275249     u1307     m87     KIRSTY    \n",
       "29313   L207338      u916     m59    THE RAT    \n",
       "209121  L331862     u6169    m411    MALCOLM    \n",
       "\n",
       "                                                     Line  \n",
       "275468             What'd you call that -- the Protector?  \n",
       "277835                                 You're kidding me.  \n",
       "43468    It isn't. I know what's going on here, and it...  \n",
       "29313    Yeah? About fifty people I didn't know wrote ...  \n",
       "209121   It simply deals with unpredictability in comp...  "
      ]
     },
     "execution_count": 5,
     "metadata": {},
     "output_type": "execute_result"
    }
   ],
   "source": [
    "movie_lines.head()"
   ]
  },
  {
   "cell_type": "code",
   "execution_count": 6,
   "id": "5e00cfdd",
   "metadata": {},
   "outputs": [],
   "source": [
    "# Strip the space from \"LineID\" for further usage and change the datatype of \"Line\"\n",
    "movie_lines[\"LineID\"] = movie_lines[\"LineID\"].apply(str.strip)\n",
    "movie_lines[\"Line\"] = movie_lines[\"Line\"].apply(str)\n",
    "movie_lines[\"Line\"] = movie_lines[\"Line\"].apply(str.lower)"
   ]
  },
  {
   "cell_type": "code",
   "execution_count": 7,
   "id": "eed3b487",
   "metadata": {},
   "outputs": [
    {
     "data": {
      "text/html": [
       "<div>\n",
       "<style scoped>\n",
       "    .dataframe tbody tr th:only-of-type {\n",
       "        vertical-align: middle;\n",
       "    }\n",
       "\n",
       "    .dataframe tbody tr th {\n",
       "        vertical-align: top;\n",
       "    }\n",
       "\n",
       "    .dataframe thead th {\n",
       "        text-align: right;\n",
       "    }\n",
       "</style>\n",
       "<table border=\"1\" class=\"dataframe\">\n",
       "  <thead>\n",
       "    <tr style=\"text-align: right;\">\n",
       "      <th></th>\n",
       "      <th>LineID</th>\n",
       "      <th>Character</th>\n",
       "      <th>Movie</th>\n",
       "      <th>Name</th>\n",
       "      <th>Line</th>\n",
       "    </tr>\n",
       "  </thead>\n",
       "  <tbody>\n",
       "    <tr>\n",
       "      <th>275468</th>\n",
       "      <td>L574689</td>\n",
       "      <td>u8130</td>\n",
       "      <td>m552</td>\n",
       "      <td>ED</td>\n",
       "      <td>what'd you call that -- the protector?</td>\n",
       "    </tr>\n",
       "    <tr>\n",
       "      <th>277835</th>\n",
       "      <td>L582469</td>\n",
       "      <td>u8208</td>\n",
       "      <td>m557</td>\n",
       "      <td>NOVAK</td>\n",
       "      <td>you're kidding me.</td>\n",
       "    </tr>\n",
       "    <tr>\n",
       "      <th>43468</th>\n",
       "      <td>L275249</td>\n",
       "      <td>u1307</td>\n",
       "      <td>m87</td>\n",
       "      <td>KIRSTY</td>\n",
       "      <td>it isn't. i know what's going on here, and it...</td>\n",
       "    </tr>\n",
       "    <tr>\n",
       "      <th>29313</th>\n",
       "      <td>L207338</td>\n",
       "      <td>u916</td>\n",
       "      <td>m59</td>\n",
       "      <td>THE RAT</td>\n",
       "      <td>yeah? about fifty people i didn't know wrote ...</td>\n",
       "    </tr>\n",
       "    <tr>\n",
       "      <th>209121</th>\n",
       "      <td>L331862</td>\n",
       "      <td>u6169</td>\n",
       "      <td>m411</td>\n",
       "      <td>MALCOLM</td>\n",
       "      <td>it simply deals with unpredictability in comp...</td>\n",
       "    </tr>\n",
       "  </tbody>\n",
       "</table>\n",
       "</div>"
      ],
      "text/plain": [
       "         LineID Character   Movie       Name  \\\n",
       "275468  L574689    u8130    m552         ED    \n",
       "277835  L582469    u8208    m557      NOVAK    \n",
       "43468   L275249    u1307     m87     KIRSTY    \n",
       "29313   L207338     u916     m59    THE RAT    \n",
       "209121  L331862    u6169    m411    MALCOLM    \n",
       "\n",
       "                                                     Line  \n",
       "275468             what'd you call that -- the protector?  \n",
       "277835                                 you're kidding me.  \n",
       "43468    it isn't. i know what's going on here, and it...  \n",
       "29313    yeah? about fifty people i didn't know wrote ...  \n",
       "209121   it simply deals with unpredictability in comp...  "
      ]
     },
     "execution_count": 7,
     "metadata": {},
     "output_type": "execute_result"
    }
   ],
   "source": [
    "movie_lines.head()"
   ]
  },
  {
   "cell_type": "code",
   "execution_count": 8,
   "id": "d2ce3036",
   "metadata": {},
   "outputs": [],
   "source": [
    "# # Remove lines that do not contain he or she pronouns\n",
    "# # Only include lines where ' he ' is in middle of sentence, surrounded by at least 1 space on either side\n",
    "# movie_lines = movie_lines[movie_lines[\"Line\"].str.contains('|'.join([' he ', ' she ']))]"
   ]
  },
  {
   "cell_type": "code",
   "execution_count": 9,
   "id": "32f0091e",
   "metadata": {},
   "outputs": [
    {
     "data": {
      "text/html": [
       "<div>\n",
       "<style scoped>\n",
       "    .dataframe tbody tr th:only-of-type {\n",
       "        vertical-align: middle;\n",
       "    }\n",
       "\n",
       "    .dataframe tbody tr th {\n",
       "        vertical-align: top;\n",
       "    }\n",
       "\n",
       "    .dataframe thead th {\n",
       "        text-align: right;\n",
       "    }\n",
       "</style>\n",
       "<table border=\"1\" class=\"dataframe\">\n",
       "  <thead>\n",
       "    <tr style=\"text-align: right;\">\n",
       "      <th></th>\n",
       "      <th>LineID</th>\n",
       "      <th>Character</th>\n",
       "      <th>Movie</th>\n",
       "      <th>Name</th>\n",
       "      <th>Line</th>\n",
       "    </tr>\n",
       "  </thead>\n",
       "  <tbody>\n",
       "    <tr>\n",
       "      <th>275468</th>\n",
       "      <td>L574689</td>\n",
       "      <td>u8130</td>\n",
       "      <td>m552</td>\n",
       "      <td>ED</td>\n",
       "      <td>what'd you call that -- the protector?</td>\n",
       "    </tr>\n",
       "    <tr>\n",
       "      <th>277835</th>\n",
       "      <td>L582469</td>\n",
       "      <td>u8208</td>\n",
       "      <td>m557</td>\n",
       "      <td>NOVAK</td>\n",
       "      <td>you're kidding me.</td>\n",
       "    </tr>\n",
       "    <tr>\n",
       "      <th>43468</th>\n",
       "      <td>L275249</td>\n",
       "      <td>u1307</td>\n",
       "      <td>m87</td>\n",
       "      <td>KIRSTY</td>\n",
       "      <td>it isn't. i know what's going on here, and it...</td>\n",
       "    </tr>\n",
       "    <tr>\n",
       "      <th>29313</th>\n",
       "      <td>L207338</td>\n",
       "      <td>u916</td>\n",
       "      <td>m59</td>\n",
       "      <td>THE RAT</td>\n",
       "      <td>yeah? about fifty people i didn't know wrote ...</td>\n",
       "    </tr>\n",
       "    <tr>\n",
       "      <th>209121</th>\n",
       "      <td>L331862</td>\n",
       "      <td>u6169</td>\n",
       "      <td>m411</td>\n",
       "      <td>MALCOLM</td>\n",
       "      <td>it simply deals with unpredictability in comp...</td>\n",
       "    </tr>\n",
       "  </tbody>\n",
       "</table>\n",
       "</div>"
      ],
      "text/plain": [
       "         LineID Character   Movie       Name  \\\n",
       "275468  L574689    u8130    m552         ED    \n",
       "277835  L582469    u8208    m557      NOVAK    \n",
       "43468   L275249    u1307     m87     KIRSTY    \n",
       "29313   L207338     u916     m59    THE RAT    \n",
       "209121  L331862    u6169    m411    MALCOLM    \n",
       "\n",
       "                                                     Line  \n",
       "275468             what'd you call that -- the protector?  \n",
       "277835                                 you're kidding me.  \n",
       "43468    it isn't. i know what's going on here, and it...  \n",
       "29313    yeah? about fifty people i didn't know wrote ...  \n",
       "209121   it simply deals with unpredictability in comp...  "
      ]
     },
     "execution_count": 9,
     "metadata": {},
     "output_type": "execute_result"
    }
   ],
   "source": [
    "movie_lines.head()"
   ]
  },
  {
   "cell_type": "markdown",
   "id": "aea88ff8-c656-48c5-8c63-a484eaacd329",
   "metadata": {},
   "source": [
    "### Tokenization and Segmentation"
   ]
  },
  {
   "cell_type": "code",
   "execution_count": 10,
   "id": "4e096048",
   "metadata": {},
   "outputs": [],
   "source": [
    "# Tokenize and segment\n",
    "# Drop rows without pronouns"
   ]
  },
  {
   "cell_type": "code",
   "execution_count": 11,
   "id": "a47ae814",
   "metadata": {},
   "outputs": [],
   "source": [
    "movie_lines[\"Segmented_Line\"] = movie_lines[\"Line\"].apply(sent_tokenize)"
   ]
  },
  {
   "cell_type": "code",
   "execution_count": 12,
   "id": "2fbc9e3f",
   "metadata": {},
   "outputs": [],
   "source": [
    "df = pd.DataFrame(columns=movie_lines.columns)"
   ]
  },
  {
   "cell_type": "code",
   "execution_count": 13,
   "id": "c81350fd",
   "metadata": {},
   "outputs": [
    {
     "data": {
      "text/html": [
       "<div>\n",
       "<style scoped>\n",
       "    .dataframe tbody tr th:only-of-type {\n",
       "        vertical-align: middle;\n",
       "    }\n",
       "\n",
       "    .dataframe tbody tr th {\n",
       "        vertical-align: top;\n",
       "    }\n",
       "\n",
       "    .dataframe thead th {\n",
       "        text-align: right;\n",
       "    }\n",
       "</style>\n",
       "<table border=\"1\" class=\"dataframe\">\n",
       "  <thead>\n",
       "    <tr style=\"text-align: right;\">\n",
       "      <th></th>\n",
       "      <th>LineID</th>\n",
       "      <th>Character</th>\n",
       "      <th>Movie</th>\n",
       "      <th>Name</th>\n",
       "      <th>Line</th>\n",
       "      <th>Segmented_Line</th>\n",
       "    </tr>\n",
       "  </thead>\n",
       "  <tbody>\n",
       "  </tbody>\n",
       "</table>\n",
       "</div>"
      ],
      "text/plain": [
       "Empty DataFrame\n",
       "Columns: [LineID, Character, Movie, Name, Line, Segmented_Line]\n",
       "Index: []"
      ]
     },
     "execution_count": 13,
     "metadata": {},
     "output_type": "execute_result"
    }
   ],
   "source": [
    "df.head()"
   ]
  },
  {
   "cell_type": "code",
   "execution_count": 14,
   "id": "27e14abe",
   "metadata": {},
   "outputs": [],
   "source": [
    "for row in movie_lines.iterrows():\n",
    "    for sentence in row[1][\"Segmented_Line\"]:\n",
    "        line_id = row[1][\"LineID\"]\n",
    "        character = row[1][\"Character\"]\n",
    "        movie = row[1][\"Movie\"]\n",
    "        name = row[1][\"Name\"]\n",
    "        line = row[1][\"Line\"]\n",
    "        segmented = sentence\n",
    "        new_row = {\"LineID\":line_id, \"Character\": character,\n",
    "                   \"Movie\":movie,\"Name\":name,\"Line\":line,\n",
    "                   \"Segmented_Line\":segmented}\n",
    "        df = df.append(new_row, ignore_index=True)"
   ]
  },
  {
   "cell_type": "code",
   "execution_count": 15,
   "id": "ddd1758e",
   "metadata": {},
   "outputs": [
    {
     "data": {
      "text/html": [
       "<div>\n",
       "<style scoped>\n",
       "    .dataframe tbody tr th:only-of-type {\n",
       "        vertical-align: middle;\n",
       "    }\n",
       "\n",
       "    .dataframe tbody tr th {\n",
       "        vertical-align: top;\n",
       "    }\n",
       "\n",
       "    .dataframe thead th {\n",
       "        text-align: right;\n",
       "    }\n",
       "</style>\n",
       "<table border=\"1\" class=\"dataframe\">\n",
       "  <thead>\n",
       "    <tr style=\"text-align: right;\">\n",
       "      <th></th>\n",
       "      <th>LineID</th>\n",
       "      <th>Character</th>\n",
       "      <th>Movie</th>\n",
       "      <th>Name</th>\n",
       "      <th>Line</th>\n",
       "      <th>Segmented_Line</th>\n",
       "    </tr>\n",
       "  </thead>\n",
       "  <tbody>\n",
       "    <tr>\n",
       "      <th>0</th>\n",
       "      <td>L574689</td>\n",
       "      <td>u8130</td>\n",
       "      <td>m552</td>\n",
       "      <td>ED</td>\n",
       "      <td>what'd you call that -- the protector?</td>\n",
       "      <td>what'd you call that -- the protector?</td>\n",
       "    </tr>\n",
       "    <tr>\n",
       "      <th>1</th>\n",
       "      <td>L582469</td>\n",
       "      <td>u8208</td>\n",
       "      <td>m557</td>\n",
       "      <td>NOVAK</td>\n",
       "      <td>you're kidding me.</td>\n",
       "      <td>you're kidding me.</td>\n",
       "    </tr>\n",
       "    <tr>\n",
       "      <th>2</th>\n",
       "      <td>L275249</td>\n",
       "      <td>u1307</td>\n",
       "      <td>m87</td>\n",
       "      <td>KIRSTY</td>\n",
       "      <td>it isn't. i know what's going on here, and it...</td>\n",
       "      <td>it isn't.</td>\n",
       "    </tr>\n",
       "    <tr>\n",
       "      <th>3</th>\n",
       "      <td>L275249</td>\n",
       "      <td>u1307</td>\n",
       "      <td>m87</td>\n",
       "      <td>KIRSTY</td>\n",
       "      <td>it isn't. i know what's going on here, and it...</td>\n",
       "      <td>i know what's going on here, and it isn't over --</td>\n",
       "    </tr>\n",
       "    <tr>\n",
       "      <th>4</th>\n",
       "      <td>L207338</td>\n",
       "      <td>u916</td>\n",
       "      <td>m59</td>\n",
       "      <td>THE RAT</td>\n",
       "      <td>yeah? about fifty people i didn't know wrote ...</td>\n",
       "      <td>yeah?</td>\n",
       "    </tr>\n",
       "  </tbody>\n",
       "</table>\n",
       "</div>"
      ],
      "text/plain": [
       "    LineID Character   Movie       Name  \\\n",
       "0  L574689    u8130    m552         ED    \n",
       "1  L582469    u8208    m557      NOVAK    \n",
       "2  L275249    u1307     m87     KIRSTY    \n",
       "3  L275249    u1307     m87     KIRSTY    \n",
       "4  L207338     u916     m59    THE RAT    \n",
       "\n",
       "                                                Line  \\\n",
       "0             what'd you call that -- the protector?   \n",
       "1                                 you're kidding me.   \n",
       "2   it isn't. i know what's going on here, and it...   \n",
       "3   it isn't. i know what's going on here, and it...   \n",
       "4   yeah? about fifty people i didn't know wrote ...   \n",
       "\n",
       "                                      Segmented_Line  \n",
       "0             what'd you call that -- the protector?  \n",
       "1                                 you're kidding me.  \n",
       "2                                          it isn't.  \n",
       "3  i know what's going on here, and it isn't over --  \n",
       "4                                              yeah?  "
      ]
     },
     "execution_count": 15,
     "metadata": {},
     "output_type": "execute_result"
    }
   ],
   "source": [
    "df.head()"
   ]
  },
  {
   "cell_type": "code",
   "execution_count": 16,
   "id": "13e91bb7",
   "metadata": {},
   "outputs": [],
   "source": [
    "movie_lines = df"
   ]
  },
  {
   "cell_type": "code",
   "execution_count": 17,
   "id": "b3b5f93f",
   "metadata": {},
   "outputs": [
    {
     "data": {
      "text/html": [
       "<div>\n",
       "<style scoped>\n",
       "    .dataframe tbody tr th:only-of-type {\n",
       "        vertical-align: middle;\n",
       "    }\n",
       "\n",
       "    .dataframe tbody tr th {\n",
       "        vertical-align: top;\n",
       "    }\n",
       "\n",
       "    .dataframe thead th {\n",
       "        text-align: right;\n",
       "    }\n",
       "</style>\n",
       "<table border=\"1\" class=\"dataframe\">\n",
       "  <thead>\n",
       "    <tr style=\"text-align: right;\">\n",
       "      <th></th>\n",
       "      <th>LineID</th>\n",
       "      <th>Character</th>\n",
       "      <th>Movie</th>\n",
       "      <th>Name</th>\n",
       "      <th>Line</th>\n",
       "      <th>Segmented_Line</th>\n",
       "    </tr>\n",
       "  </thead>\n",
       "  <tbody>\n",
       "    <tr>\n",
       "      <th>0</th>\n",
       "      <td>L574689</td>\n",
       "      <td>u8130</td>\n",
       "      <td>m552</td>\n",
       "      <td>ED</td>\n",
       "      <td>what'd you call that -- the protector?</td>\n",
       "      <td>what'd you call that -- the protector?</td>\n",
       "    </tr>\n",
       "    <tr>\n",
       "      <th>1</th>\n",
       "      <td>L582469</td>\n",
       "      <td>u8208</td>\n",
       "      <td>m557</td>\n",
       "      <td>NOVAK</td>\n",
       "      <td>you're kidding me.</td>\n",
       "      <td>you're kidding me.</td>\n",
       "    </tr>\n",
       "    <tr>\n",
       "      <th>2</th>\n",
       "      <td>L275249</td>\n",
       "      <td>u1307</td>\n",
       "      <td>m87</td>\n",
       "      <td>KIRSTY</td>\n",
       "      <td>it isn't. i know what's going on here, and it...</td>\n",
       "      <td>it isn't.</td>\n",
       "    </tr>\n",
       "    <tr>\n",
       "      <th>3</th>\n",
       "      <td>L275249</td>\n",
       "      <td>u1307</td>\n",
       "      <td>m87</td>\n",
       "      <td>KIRSTY</td>\n",
       "      <td>it isn't. i know what's going on here, and it...</td>\n",
       "      <td>i know what's going on here, and it isn't over --</td>\n",
       "    </tr>\n",
       "    <tr>\n",
       "      <th>4</th>\n",
       "      <td>L207338</td>\n",
       "      <td>u916</td>\n",
       "      <td>m59</td>\n",
       "      <td>THE RAT</td>\n",
       "      <td>yeah? about fifty people i didn't know wrote ...</td>\n",
       "      <td>yeah?</td>\n",
       "    </tr>\n",
       "  </tbody>\n",
       "</table>\n",
       "</div>"
      ],
      "text/plain": [
       "    LineID Character   Movie       Name  \\\n",
       "0  L574689    u8130    m552         ED    \n",
       "1  L582469    u8208    m557      NOVAK    \n",
       "2  L275249    u1307     m87     KIRSTY    \n",
       "3  L275249    u1307     m87     KIRSTY    \n",
       "4  L207338     u916     m59    THE RAT    \n",
       "\n",
       "                                                Line  \\\n",
       "0             what'd you call that -- the protector?   \n",
       "1                                 you're kidding me.   \n",
       "2   it isn't. i know what's going on here, and it...   \n",
       "3   it isn't. i know what's going on here, and it...   \n",
       "4   yeah? about fifty people i didn't know wrote ...   \n",
       "\n",
       "                                      Segmented_Line  \n",
       "0             what'd you call that -- the protector?  \n",
       "1                                 you're kidding me.  \n",
       "2                                          it isn't.  \n",
       "3  i know what's going on here, and it isn't over --  \n",
       "4                                              yeah?  "
      ]
     },
     "execution_count": 17,
     "metadata": {},
     "output_type": "execute_result"
    }
   ],
   "source": [
    "movie_lines.head()"
   ]
  },
  {
   "cell_type": "code",
   "execution_count": 19,
   "id": "ee0aa06d",
   "metadata": {},
   "outputs": [],
   "source": [
    "movie_lines[\"Tokenized_Line\"] = movie_lines[\"Segmented_Line\"].apply(word_tokenize)\n"
   ]
  },
  {
   "cell_type": "code",
   "execution_count": 20,
   "id": "29724e47",
   "metadata": {},
   "outputs": [
    {
     "data": {
      "text/html": [
       "<div>\n",
       "<style scoped>\n",
       "    .dataframe tbody tr th:only-of-type {\n",
       "        vertical-align: middle;\n",
       "    }\n",
       "\n",
       "    .dataframe tbody tr th {\n",
       "        vertical-align: top;\n",
       "    }\n",
       "\n",
       "    .dataframe thead th {\n",
       "        text-align: right;\n",
       "    }\n",
       "</style>\n",
       "<table border=\"1\" class=\"dataframe\">\n",
       "  <thead>\n",
       "    <tr style=\"text-align: right;\">\n",
       "      <th></th>\n",
       "      <th>LineID</th>\n",
       "      <th>Character</th>\n",
       "      <th>Movie</th>\n",
       "      <th>Name</th>\n",
       "      <th>Line</th>\n",
       "      <th>Segmented_Line</th>\n",
       "      <th>Tokenized_Line</th>\n",
       "    </tr>\n",
       "  </thead>\n",
       "  <tbody>\n",
       "    <tr>\n",
       "      <th>0</th>\n",
       "      <td>L574689</td>\n",
       "      <td>u8130</td>\n",
       "      <td>m552</td>\n",
       "      <td>ED</td>\n",
       "      <td>what'd you call that -- the protector?</td>\n",
       "      <td>what'd you call that -- the protector?</td>\n",
       "      <td>[what, 'd, you, call, that, --, the, protector...</td>\n",
       "    </tr>\n",
       "    <tr>\n",
       "      <th>1</th>\n",
       "      <td>L582469</td>\n",
       "      <td>u8208</td>\n",
       "      <td>m557</td>\n",
       "      <td>NOVAK</td>\n",
       "      <td>you're kidding me.</td>\n",
       "      <td>you're kidding me.</td>\n",
       "      <td>[you, 're, kidding, me, .]</td>\n",
       "    </tr>\n",
       "    <tr>\n",
       "      <th>2</th>\n",
       "      <td>L275249</td>\n",
       "      <td>u1307</td>\n",
       "      <td>m87</td>\n",
       "      <td>KIRSTY</td>\n",
       "      <td>it isn't. i know what's going on here, and it...</td>\n",
       "      <td>it isn't.</td>\n",
       "      <td>[it, is, n't, .]</td>\n",
       "    </tr>\n",
       "    <tr>\n",
       "      <th>3</th>\n",
       "      <td>L275249</td>\n",
       "      <td>u1307</td>\n",
       "      <td>m87</td>\n",
       "      <td>KIRSTY</td>\n",
       "      <td>it isn't. i know what's going on here, and it...</td>\n",
       "      <td>i know what's going on here, and it isn't over --</td>\n",
       "      <td>[i, know, what, 's, going, on, here, ,, and, i...</td>\n",
       "    </tr>\n",
       "    <tr>\n",
       "      <th>4</th>\n",
       "      <td>L207338</td>\n",
       "      <td>u916</td>\n",
       "      <td>m59</td>\n",
       "      <td>THE RAT</td>\n",
       "      <td>yeah? about fifty people i didn't know wrote ...</td>\n",
       "      <td>yeah?</td>\n",
       "      <td>[yeah, ?]</td>\n",
       "    </tr>\n",
       "  </tbody>\n",
       "</table>\n",
       "</div>"
      ],
      "text/plain": [
       "    LineID Character   Movie       Name  \\\n",
       "0  L574689    u8130    m552         ED    \n",
       "1  L582469    u8208    m557      NOVAK    \n",
       "2  L275249    u1307     m87     KIRSTY    \n",
       "3  L275249    u1307     m87     KIRSTY    \n",
       "4  L207338     u916     m59    THE RAT    \n",
       "\n",
       "                                                Line  \\\n",
       "0             what'd you call that -- the protector?   \n",
       "1                                 you're kidding me.   \n",
       "2   it isn't. i know what's going on here, and it...   \n",
       "3   it isn't. i know what's going on here, and it...   \n",
       "4   yeah? about fifty people i didn't know wrote ...   \n",
       "\n",
       "                                      Segmented_Line  \\\n",
       "0             what'd you call that -- the protector?   \n",
       "1                                 you're kidding me.   \n",
       "2                                          it isn't.   \n",
       "3  i know what's going on here, and it isn't over --   \n",
       "4                                              yeah?   \n",
       "\n",
       "                                      Tokenized_Line  \n",
       "0  [what, 'd, you, call, that, --, the, protector...  \n",
       "1                         [you, 're, kidding, me, .]  \n",
       "2                                   [it, is, n't, .]  \n",
       "3  [i, know, what, 's, going, on, here, ,, and, i...  \n",
       "4                                          [yeah, ?]  "
      ]
     },
     "execution_count": 20,
     "metadata": {},
     "output_type": "execute_result"
    }
   ],
   "source": [
    "movie_lines.head()"
   ]
  },
  {
   "cell_type": "markdown",
   "id": "002b9556-496d-4f07-abde-948b1360774b",
   "metadata": {},
   "source": [
    "### Extracting Pronouns"
   ]
  },
  {
   "cell_type": "code",
   "execution_count": 21,
   "id": "c4cd4c69",
   "metadata": {},
   "outputs": [],
   "source": [
    "def get_pronoun(tokenized_line):\n",
    "    if \"she\" in tokenized_line:\n",
    "        return \"she\"\n",
    "    elif \"he\" in tokenized_line:\n",
    "        return \"he\"\n",
    "    else:\n",
    "        return \"none\""
   ]
  },
  {
   "cell_type": "code",
   "execution_count": 22,
   "id": "81f5684c",
   "metadata": {},
   "outputs": [],
   "source": [
    "movie_lines[\"Pronoun\"] = movie_lines[\"Tokenized_Line\"].apply(get_pronoun)"
   ]
  },
  {
   "cell_type": "code",
   "execution_count": 23,
   "id": "a4b7b221",
   "metadata": {},
   "outputs": [
    {
     "data": {
      "text/html": [
       "<div>\n",
       "<style scoped>\n",
       "    .dataframe tbody tr th:only-of-type {\n",
       "        vertical-align: middle;\n",
       "    }\n",
       "\n",
       "    .dataframe tbody tr th {\n",
       "        vertical-align: top;\n",
       "    }\n",
       "\n",
       "    .dataframe thead th {\n",
       "        text-align: right;\n",
       "    }\n",
       "</style>\n",
       "<table border=\"1\" class=\"dataframe\">\n",
       "  <thead>\n",
       "    <tr style=\"text-align: right;\">\n",
       "      <th></th>\n",
       "      <th>LineID</th>\n",
       "      <th>Character</th>\n",
       "      <th>Movie</th>\n",
       "      <th>Name</th>\n",
       "      <th>Line</th>\n",
       "      <th>Segmented_Line</th>\n",
       "      <th>Tokenized_Line</th>\n",
       "      <th>Pronoun</th>\n",
       "    </tr>\n",
       "  </thead>\n",
       "  <tbody>\n",
       "    <tr>\n",
       "      <th>0</th>\n",
       "      <td>L574689</td>\n",
       "      <td>u8130</td>\n",
       "      <td>m552</td>\n",
       "      <td>ED</td>\n",
       "      <td>what'd you call that -- the protector?</td>\n",
       "      <td>what'd you call that -- the protector?</td>\n",
       "      <td>[what, 'd, you, call, that, --, the, protector...</td>\n",
       "      <td>none</td>\n",
       "    </tr>\n",
       "    <tr>\n",
       "      <th>1</th>\n",
       "      <td>L582469</td>\n",
       "      <td>u8208</td>\n",
       "      <td>m557</td>\n",
       "      <td>NOVAK</td>\n",
       "      <td>you're kidding me.</td>\n",
       "      <td>you're kidding me.</td>\n",
       "      <td>[you, 're, kidding, me, .]</td>\n",
       "      <td>none</td>\n",
       "    </tr>\n",
       "    <tr>\n",
       "      <th>2</th>\n",
       "      <td>L275249</td>\n",
       "      <td>u1307</td>\n",
       "      <td>m87</td>\n",
       "      <td>KIRSTY</td>\n",
       "      <td>it isn't. i know what's going on here, and it...</td>\n",
       "      <td>it isn't.</td>\n",
       "      <td>[it, is, n't, .]</td>\n",
       "      <td>none</td>\n",
       "    </tr>\n",
       "    <tr>\n",
       "      <th>3</th>\n",
       "      <td>L275249</td>\n",
       "      <td>u1307</td>\n",
       "      <td>m87</td>\n",
       "      <td>KIRSTY</td>\n",
       "      <td>it isn't. i know what's going on here, and it...</td>\n",
       "      <td>i know what's going on here, and it isn't over --</td>\n",
       "      <td>[i, know, what, 's, going, on, here, ,, and, i...</td>\n",
       "      <td>none</td>\n",
       "    </tr>\n",
       "    <tr>\n",
       "      <th>4</th>\n",
       "      <td>L207338</td>\n",
       "      <td>u916</td>\n",
       "      <td>m59</td>\n",
       "      <td>THE RAT</td>\n",
       "      <td>yeah? about fifty people i didn't know wrote ...</td>\n",
       "      <td>yeah?</td>\n",
       "      <td>[yeah, ?]</td>\n",
       "      <td>none</td>\n",
       "    </tr>\n",
       "  </tbody>\n",
       "</table>\n",
       "</div>"
      ],
      "text/plain": [
       "    LineID Character   Movie       Name  \\\n",
       "0  L574689    u8130    m552         ED    \n",
       "1  L582469    u8208    m557      NOVAK    \n",
       "2  L275249    u1307     m87     KIRSTY    \n",
       "3  L275249    u1307     m87     KIRSTY    \n",
       "4  L207338     u916     m59    THE RAT    \n",
       "\n",
       "                                                Line  \\\n",
       "0             what'd you call that -- the protector?   \n",
       "1                                 you're kidding me.   \n",
       "2   it isn't. i know what's going on here, and it...   \n",
       "3   it isn't. i know what's going on here, and it...   \n",
       "4   yeah? about fifty people i didn't know wrote ...   \n",
       "\n",
       "                                      Segmented_Line  \\\n",
       "0             what'd you call that -- the protector?   \n",
       "1                                 you're kidding me.   \n",
       "2                                          it isn't.   \n",
       "3  i know what's going on here, and it isn't over --   \n",
       "4                                              yeah?   \n",
       "\n",
       "                                      Tokenized_Line Pronoun  \n",
       "0  [what, 'd, you, call, that, --, the, protector...    none  \n",
       "1                         [you, 're, kidding, me, .]    none  \n",
       "2                                   [it, is, n't, .]    none  \n",
       "3  [i, know, what, 's, going, on, here, ,, and, i...    none  \n",
       "4                                          [yeah, ?]    none  "
      ]
     },
     "execution_count": 23,
     "metadata": {},
     "output_type": "execute_result"
    }
   ],
   "source": [
    "movie_lines.head()"
   ]
  },
  {
   "cell_type": "code",
   "execution_count": 24,
   "id": "bb26a97f",
   "metadata": {},
   "outputs": [],
   "source": [
    "movie_lines = movie_lines.loc[movie_lines[\"Pronoun\"] != \"none\"]"
   ]
  },
  {
   "cell_type": "code",
   "execution_count": 25,
   "id": "bfe9db22",
   "metadata": {},
   "outputs": [
    {
     "data": {
      "text/html": [
       "<div>\n",
       "<style scoped>\n",
       "    .dataframe tbody tr th:only-of-type {\n",
       "        vertical-align: middle;\n",
       "    }\n",
       "\n",
       "    .dataframe tbody tr th {\n",
       "        vertical-align: top;\n",
       "    }\n",
       "\n",
       "    .dataframe thead th {\n",
       "        text-align: right;\n",
       "    }\n",
       "</style>\n",
       "<table border=\"1\" class=\"dataframe\">\n",
       "  <thead>\n",
       "    <tr style=\"text-align: right;\">\n",
       "      <th></th>\n",
       "      <th>LineID</th>\n",
       "      <th>Character</th>\n",
       "      <th>Movie</th>\n",
       "      <th>Name</th>\n",
       "      <th>Line</th>\n",
       "      <th>Segmented_Line</th>\n",
       "      <th>Tokenized_Line</th>\n",
       "      <th>Pronoun</th>\n",
       "    </tr>\n",
       "  </thead>\n",
       "  <tbody>\n",
       "    <tr>\n",
       "      <th>16</th>\n",
       "      <td>L354342</td>\n",
       "      <td>u6359</td>\n",
       "      <td>m423</td>\n",
       "      <td>ZACK</td>\n",
       "      <td>the stories people tell, he was a real colorf...</td>\n",
       "      <td>the stories people tell, he was a real colorf...</td>\n",
       "      <td>[the, stories, people, tell, ,, he, was, a, re...</td>\n",
       "      <td>he</td>\n",
       "    </tr>\n",
       "    <tr>\n",
       "      <th>18</th>\n",
       "      <td>L303922</td>\n",
       "      <td>u1499</td>\n",
       "      <td>m101</td>\n",
       "      <td>LOWELL</td>\n",
       "      <td>he referred to this... the seven dwarfs...</td>\n",
       "      <td>he referred to this... the seven dwarfs...</td>\n",
       "      <td>[he, referred, to, this, ..., the, seven, dwar...</td>\n",
       "      <td>he</td>\n",
       "    </tr>\n",
       "    <tr>\n",
       "      <th>24</th>\n",
       "      <td>L250045</td>\n",
       "      <td>u5606</td>\n",
       "      <td>m373</td>\n",
       "      <td>CHUCKIE</td>\n",
       "      <td>two weeks? that's nothin'. my uncle marty? wi...</td>\n",
       "      <td>one night he was drivin' back to his house on ...</td>\n",
       "      <td>[one, night, he, was, drivin, ', back, to, his...</td>\n",
       "      <td>he</td>\n",
       "    </tr>\n",
       "    <tr>\n",
       "      <th>97</th>\n",
       "      <td>L81475</td>\n",
       "      <td>u3990</td>\n",
       "      <td>m266</td>\n",
       "      <td>ALLENBY</td>\n",
       "      <td>i see.  mr. franklin, i must ask you and miss...</td>\n",
       "      <td>there's no telling what he was involved in, an...</td>\n",
       "      <td>[there, 's, no, telling, what, he, was, involv...</td>\n",
       "      <td>he</td>\n",
       "    </tr>\n",
       "    <tr>\n",
       "      <th>102</th>\n",
       "      <td>L183071</td>\n",
       "      <td>u5024</td>\n",
       "      <td>m333</td>\n",
       "      <td>HICKS</td>\n",
       "      <td>he's arrogant and threatening. voice stress p...</td>\n",
       "      <td>he's arrogant and threatening.</td>\n",
       "      <td>[he, 's, arrogant, and, threatening, .]</td>\n",
       "      <td>he</td>\n",
       "    </tr>\n",
       "  </tbody>\n",
       "</table>\n",
       "</div>"
      ],
      "text/plain": [
       "      LineID Character   Movie       Name  \\\n",
       "16   L354342    u6359    m423       ZACK    \n",
       "18   L303922    u1499    m101     LOWELL    \n",
       "24   L250045    u5606    m373    CHUCKIE    \n",
       "97    L81475    u3990    m266    ALLENBY    \n",
       "102  L183071    u5024    m333      HICKS    \n",
       "\n",
       "                                                  Line  \\\n",
       "16    the stories people tell, he was a real colorf...   \n",
       "18          he referred to this... the seven dwarfs...   \n",
       "24    two weeks? that's nothin'. my uncle marty? wi...   \n",
       "97    i see.  mr. franklin, i must ask you and miss...   \n",
       "102   he's arrogant and threatening. voice stress p...   \n",
       "\n",
       "                                        Segmented_Line  \\\n",
       "16    the stories people tell, he was a real colorf...   \n",
       "18          he referred to this... the seven dwarfs...   \n",
       "24   one night he was drivin' back to his house on ...   \n",
       "97   there's no telling what he was involved in, an...   \n",
       "102                     he's arrogant and threatening.   \n",
       "\n",
       "                                        Tokenized_Line Pronoun  \n",
       "16   [the, stories, people, tell, ,, he, was, a, re...      he  \n",
       "18   [he, referred, to, this, ..., the, seven, dwar...      he  \n",
       "24   [one, night, he, was, drivin, ', back, to, his...      he  \n",
       "97   [there, 's, no, telling, what, he, was, involv...      he  \n",
       "102            [he, 's, arrogant, and, threatening, .]      he  "
      ]
     },
     "execution_count": 25,
     "metadata": {},
     "output_type": "execute_result"
    }
   ],
   "source": [
    "movie_lines.head()"
   ]
  },
  {
   "cell_type": "code",
   "execution_count": 26,
   "id": "795d5c95",
   "metadata": {},
   "outputs": [
    {
     "data": {
      "text/html": [
       "<div>\n",
       "<style scoped>\n",
       "    .dataframe tbody tr th:only-of-type {\n",
       "        vertical-align: middle;\n",
       "    }\n",
       "\n",
       "    .dataframe tbody tr th {\n",
       "        vertical-align: top;\n",
       "    }\n",
       "\n",
       "    .dataframe thead th {\n",
       "        text-align: right;\n",
       "    }\n",
       "</style>\n",
       "<table border=\"1\" class=\"dataframe\">\n",
       "  <thead>\n",
       "    <tr style=\"text-align: right;\">\n",
       "      <th></th>\n",
       "      <th>LineID</th>\n",
       "      <th>Character</th>\n",
       "      <th>Movie</th>\n",
       "      <th>Name</th>\n",
       "      <th>Line</th>\n",
       "      <th>Segmented_Line</th>\n",
       "      <th>Tokenized_Line</th>\n",
       "      <th>Pronoun</th>\n",
       "    </tr>\n",
       "  </thead>\n",
       "  <tbody>\n",
       "    <tr>\n",
       "      <th>count</th>\n",
       "      <td>3595</td>\n",
       "      <td>3595</td>\n",
       "      <td>3595</td>\n",
       "      <td>3595</td>\n",
       "      <td>3595</td>\n",
       "      <td>3595</td>\n",
       "      <td>3595</td>\n",
       "      <td>3595</td>\n",
       "    </tr>\n",
       "    <tr>\n",
       "      <th>unique</th>\n",
       "      <td>2973</td>\n",
       "      <td>1887</td>\n",
       "      <td>573</td>\n",
       "      <td>1389</td>\n",
       "      <td>2951</td>\n",
       "      <td>3552</td>\n",
       "      <td>3530</td>\n",
       "      <td>2</td>\n",
       "    </tr>\n",
       "    <tr>\n",
       "      <th>top</th>\n",
       "      <td>L512901</td>\n",
       "      <td>u1568</td>\n",
       "      <td>m289</td>\n",
       "      <td>FRANK</td>\n",
       "      <td>i've had a lot of bad thoughts since my daddy...</td>\n",
       "      <td>where is he?</td>\n",
       "      <td>[where, is, he, ?]</td>\n",
       "      <td>he</td>\n",
       "    </tr>\n",
       "    <tr>\n",
       "      <th>freq</th>\n",
       "      <td>10</td>\n",
       "      <td>16</td>\n",
       "      <td>36</td>\n",
       "      <td>32</td>\n",
       "      <td>10</td>\n",
       "      <td>6</td>\n",
       "      <td>12</td>\n",
       "      <td>2476</td>\n",
       "    </tr>\n",
       "  </tbody>\n",
       "</table>\n",
       "</div>"
      ],
      "text/plain": [
       "         LineID Character   Movie     Name  \\\n",
       "count      3595      3595    3595     3595   \n",
       "unique     2973      1887     573     1389   \n",
       "top     L512901    u1568    m289    FRANK    \n",
       "freq         10        16      36       32   \n",
       "\n",
       "                                                     Line Segmented_Line  \\\n",
       "count                                                3595           3595   \n",
       "unique                                               2951           3552   \n",
       "top      i've had a lot of bad thoughts since my daddy...   where is he?   \n",
       "freq                                                   10              6   \n",
       "\n",
       "            Tokenized_Line Pronoun  \n",
       "count                 3595    3595  \n",
       "unique                3530       2  \n",
       "top     [where, is, he, ?]      he  \n",
       "freq                    12    2476  "
      ]
     },
     "execution_count": 26,
     "metadata": {},
     "output_type": "execute_result"
    }
   ],
   "source": [
    "movie_lines.describe()"
   ]
  },
  {
   "cell_type": "code",
   "execution_count": 27,
   "id": "0d718e22",
   "metadata": {},
   "outputs": [
    {
     "data": {
      "text/plain": [
       "(3595, 8)"
      ]
     },
     "execution_count": 27,
     "metadata": {},
     "output_type": "execute_result"
    }
   ],
   "source": [
    "movie_lines.shape"
   ]
  },
  {
   "cell_type": "markdown",
   "id": "8e123f79-5b7c-4080-b2bf-6bcc562e087d",
   "metadata": {},
   "source": [
    "### Extracting Verb"
   ]
  },
  {
   "cell_type": "code",
   "execution_count": 28,
   "id": "b608c626",
   "metadata": {},
   "outputs": [],
   "source": [
    "def get_verb(tokenized_line):\n",
    "    pronoun = get_pronoun(tokenized_line)\n",
    "    pronoun_index = tokenized_line.index(pronoun)\n",
    "    word_pos_pairs = nltk.pos_tag(tokenized_line[pronoun_index:], tagset='universal')\n",
    "    pos_list = [pos for _, pos in word_pos_pairs]\n",
    "    \n",
    "    if 'VERB' not in pos_list:\n",
    "        return 'none'\n",
    "    \n",
    "    verb_index = pos_list.index('VERB')\n",
    "    # TODO: consider second verb after pronoun\n",
    "    # ex: he's biking, 's and biking are both VERB\n",
    "    return word_pos_pairs[verb_index][0]"
   ]
  },
  {
   "cell_type": "code",
   "execution_count": 29,
   "id": "ec593735",
   "metadata": {},
   "outputs": [
    {
     "name": "stderr",
     "output_type": "stream",
     "text": [
      "/var/folders/0b/p9t1prd97_g8t6jgmnm5s7600000gn/T/ipykernel_26704/3157400569.py:1: SettingWithCopyWarning: \n",
      "A value is trying to be set on a copy of a slice from a DataFrame.\n",
      "Try using .loc[row_indexer,col_indexer] = value instead\n",
      "\n",
      "See the caveats in the documentation: https://pandas.pydata.org/pandas-docs/stable/user_guide/indexing.html#returning-a-view-versus-a-copy\n",
      "  movie_lines[\"Verb\"] = movie_lines[\"Tokenized_Line\"].apply(get_verb)\n"
     ]
    }
   ],
   "source": [
    "movie_lines[\"Verb\"] = movie_lines[\"Tokenized_Line\"].apply(get_verb)"
   ]
  },
  {
   "cell_type": "code",
   "execution_count": 30,
   "id": "94fcc49c",
   "metadata": {},
   "outputs": [
    {
     "data": {
      "text/html": [
       "<div>\n",
       "<style scoped>\n",
       "    .dataframe tbody tr th:only-of-type {\n",
       "        vertical-align: middle;\n",
       "    }\n",
       "\n",
       "    .dataframe tbody tr th {\n",
       "        vertical-align: top;\n",
       "    }\n",
       "\n",
       "    .dataframe thead th {\n",
       "        text-align: right;\n",
       "    }\n",
       "</style>\n",
       "<table border=\"1\" class=\"dataframe\">\n",
       "  <thead>\n",
       "    <tr style=\"text-align: right;\">\n",
       "      <th></th>\n",
       "      <th>LineID</th>\n",
       "      <th>Character</th>\n",
       "      <th>Movie</th>\n",
       "      <th>Name</th>\n",
       "      <th>Line</th>\n",
       "      <th>Segmented_Line</th>\n",
       "      <th>Tokenized_Line</th>\n",
       "      <th>Pronoun</th>\n",
       "      <th>Verb</th>\n",
       "    </tr>\n",
       "  </thead>\n",
       "  <tbody>\n",
       "    <tr>\n",
       "      <th>16</th>\n",
       "      <td>L354342</td>\n",
       "      <td>u6359</td>\n",
       "      <td>m423</td>\n",
       "      <td>ZACK</td>\n",
       "      <td>the stories people tell, he was a real colorf...</td>\n",
       "      <td>the stories people tell, he was a real colorf...</td>\n",
       "      <td>[the, stories, people, tell, ,, he, was, a, re...</td>\n",
       "      <td>he</td>\n",
       "      <td>was</td>\n",
       "    </tr>\n",
       "    <tr>\n",
       "      <th>18</th>\n",
       "      <td>L303922</td>\n",
       "      <td>u1499</td>\n",
       "      <td>m101</td>\n",
       "      <td>LOWELL</td>\n",
       "      <td>he referred to this... the seven dwarfs...</td>\n",
       "      <td>he referred to this... the seven dwarfs...</td>\n",
       "      <td>[he, referred, to, this, ..., the, seven, dwar...</td>\n",
       "      <td>he</td>\n",
       "      <td>referred</td>\n",
       "    </tr>\n",
       "    <tr>\n",
       "      <th>24</th>\n",
       "      <td>L250045</td>\n",
       "      <td>u5606</td>\n",
       "      <td>m373</td>\n",
       "      <td>CHUCKIE</td>\n",
       "      <td>two weeks? that's nothin'. my uncle marty? wi...</td>\n",
       "      <td>one night he was drivin' back to his house on ...</td>\n",
       "      <td>[one, night, he, was, drivin, ', back, to, his...</td>\n",
       "      <td>he</td>\n",
       "      <td>was</td>\n",
       "    </tr>\n",
       "    <tr>\n",
       "      <th>97</th>\n",
       "      <td>L81475</td>\n",
       "      <td>u3990</td>\n",
       "      <td>m266</td>\n",
       "      <td>ALLENBY</td>\n",
       "      <td>i see.  mr. franklin, i must ask you and miss...</td>\n",
       "      <td>there's no telling what he was involved in, an...</td>\n",
       "      <td>[there, 's, no, telling, what, he, was, involv...</td>\n",
       "      <td>he</td>\n",
       "      <td>was</td>\n",
       "    </tr>\n",
       "    <tr>\n",
       "      <th>102</th>\n",
       "      <td>L183071</td>\n",
       "      <td>u5024</td>\n",
       "      <td>m333</td>\n",
       "      <td>HICKS</td>\n",
       "      <td>he's arrogant and threatening. voice stress p...</td>\n",
       "      <td>he's arrogant and threatening.</td>\n",
       "      <td>[he, 's, arrogant, and, threatening, .]</td>\n",
       "      <td>he</td>\n",
       "      <td>'s</td>\n",
       "    </tr>\n",
       "  </tbody>\n",
       "</table>\n",
       "</div>"
      ],
      "text/plain": [
       "      LineID Character   Movie       Name  \\\n",
       "16   L354342    u6359    m423       ZACK    \n",
       "18   L303922    u1499    m101     LOWELL    \n",
       "24   L250045    u5606    m373    CHUCKIE    \n",
       "97    L81475    u3990    m266    ALLENBY    \n",
       "102  L183071    u5024    m333      HICKS    \n",
       "\n",
       "                                                  Line  \\\n",
       "16    the stories people tell, he was a real colorf...   \n",
       "18          he referred to this... the seven dwarfs...   \n",
       "24    two weeks? that's nothin'. my uncle marty? wi...   \n",
       "97    i see.  mr. franklin, i must ask you and miss...   \n",
       "102   he's arrogant and threatening. voice stress p...   \n",
       "\n",
       "                                        Segmented_Line  \\\n",
       "16    the stories people tell, he was a real colorf...   \n",
       "18          he referred to this... the seven dwarfs...   \n",
       "24   one night he was drivin' back to his house on ...   \n",
       "97   there's no telling what he was involved in, an...   \n",
       "102                     he's arrogant and threatening.   \n",
       "\n",
       "                                        Tokenized_Line Pronoun      Verb  \n",
       "16   [the, stories, people, tell, ,, he, was, a, re...      he       was  \n",
       "18   [he, referred, to, this, ..., the, seven, dwar...      he  referred  \n",
       "24   [one, night, he, was, drivin, ', back, to, his...      he       was  \n",
       "97   [there, 's, no, telling, what, he, was, involv...      he       was  \n",
       "102            [he, 's, arrogant, and, threatening, .]      he        's  "
      ]
     },
     "execution_count": 30,
     "metadata": {},
     "output_type": "execute_result"
    }
   ],
   "source": [
    "movie_lines.head()"
   ]
  },
  {
   "cell_type": "code",
   "execution_count": 31,
   "id": "fb468c6d",
   "metadata": {},
   "outputs": [
    {
     "data": {
      "text/html": [
       "<div>\n",
       "<style scoped>\n",
       "    .dataframe tbody tr th:only-of-type {\n",
       "        vertical-align: middle;\n",
       "    }\n",
       "\n",
       "    .dataframe tbody tr th {\n",
       "        vertical-align: top;\n",
       "    }\n",
       "\n",
       "    .dataframe thead th {\n",
       "        text-align: right;\n",
       "    }\n",
       "</style>\n",
       "<table border=\"1\" class=\"dataframe\">\n",
       "  <thead>\n",
       "    <tr style=\"text-align: right;\">\n",
       "      <th></th>\n",
       "      <th>LineID</th>\n",
       "      <th>Character</th>\n",
       "      <th>Movie</th>\n",
       "      <th>Name</th>\n",
       "      <th>Line</th>\n",
       "      <th>Segmented_Line</th>\n",
       "      <th>Tokenized_Line</th>\n",
       "      <th>Pronoun</th>\n",
       "      <th>Verb</th>\n",
       "    </tr>\n",
       "  </thead>\n",
       "  <tbody>\n",
       "    <tr>\n",
       "      <th>count</th>\n",
       "      <td>3595</td>\n",
       "      <td>3595</td>\n",
       "      <td>3595</td>\n",
       "      <td>3595</td>\n",
       "      <td>3595</td>\n",
       "      <td>3595</td>\n",
       "      <td>3595</td>\n",
       "      <td>3595</td>\n",
       "      <td>3595</td>\n",
       "    </tr>\n",
       "    <tr>\n",
       "      <th>unique</th>\n",
       "      <td>2973</td>\n",
       "      <td>1887</td>\n",
       "      <td>573</td>\n",
       "      <td>1389</td>\n",
       "      <td>2951</td>\n",
       "      <td>3552</td>\n",
       "      <td>3530</td>\n",
       "      <td>2</td>\n",
       "      <td>466</td>\n",
       "    </tr>\n",
       "    <tr>\n",
       "      <th>top</th>\n",
       "      <td>L512901</td>\n",
       "      <td>u1568</td>\n",
       "      <td>m289</td>\n",
       "      <td>FRANK</td>\n",
       "      <td>i've had a lot of bad thoughts since my daddy...</td>\n",
       "      <td>where is he?</td>\n",
       "      <td>[where, is, he, ?]</td>\n",
       "      <td>he</td>\n",
       "      <td>'s</td>\n",
       "    </tr>\n",
       "    <tr>\n",
       "      <th>freq</th>\n",
       "      <td>10</td>\n",
       "      <td>16</td>\n",
       "      <td>36</td>\n",
       "      <td>32</td>\n",
       "      <td>10</td>\n",
       "      <td>6</td>\n",
       "      <td>12</td>\n",
       "      <td>2476</td>\n",
       "      <td>906</td>\n",
       "    </tr>\n",
       "  </tbody>\n",
       "</table>\n",
       "</div>"
      ],
      "text/plain": [
       "         LineID Character   Movie     Name  \\\n",
       "count      3595      3595    3595     3595   \n",
       "unique     2973      1887     573     1389   \n",
       "top     L512901    u1568    m289    FRANK    \n",
       "freq         10        16      36       32   \n",
       "\n",
       "                                                     Line Segmented_Line  \\\n",
       "count                                                3595           3595   \n",
       "unique                                               2951           3552   \n",
       "top      i've had a lot of bad thoughts since my daddy...   where is he?   \n",
       "freq                                                   10              6   \n",
       "\n",
       "            Tokenized_Line Pronoun  Verb  \n",
       "count                 3595    3595  3595  \n",
       "unique                3530       2   466  \n",
       "top     [where, is, he, ?]      he    's  \n",
       "freq                    12    2476   906  "
      ]
     },
     "execution_count": 31,
     "metadata": {},
     "output_type": "execute_result"
    }
   ],
   "source": [
    "movie_lines.describe()"
   ]
  },
  {
   "cell_type": "markdown",
   "id": "99a6d272-371b-4b5d-b046-ed5f4f69c7a1",
   "metadata": {},
   "source": [
    "### Lemmatization"
   ]
  },
  {
   "cell_type": "code",
   "execution_count": 32,
   "id": "14a1ef9a-799a-40ea-8999-84d1e6a9c5f2",
   "metadata": {},
   "outputs": [],
   "source": [
    "def get_lemmatized_word(word):\n",
    "    return lemmatizer.lemmatize(word, \"v\")"
   ]
  },
  {
   "cell_type": "code",
   "execution_count": 33,
   "id": "14599b62-8b32-4207-a4c9-e6d58f1a9c36",
   "metadata": {},
   "outputs": [
    {
     "name": "stderr",
     "output_type": "stream",
     "text": [
      "/var/folders/0b/p9t1prd97_g8t6jgmnm5s7600000gn/T/ipykernel_26704/3710370528.py:5: SettingWithCopyWarning: \n",
      "A value is trying to be set on a copy of a slice from a DataFrame.\n",
      "Try using .loc[row_indexer,col_indexer] = value instead\n",
      "\n",
      "See the caveats in the documentation: https://pandas.pydata.org/pandas-docs/stable/user_guide/indexing.html#returning-a-view-versus-a-copy\n",
      "  movie_lines[\"Verb\"] = movie_lines[\"Verb\"].apply(get_lemmatized_word)\n"
     ]
    }
   ],
   "source": [
    "# LEMMATIZATION\n",
    "\n",
    "lemmatizer = WordNetLemmatizer()\n",
    "\n",
    "movie_lines[\"Verb\"] = movie_lines[\"Verb\"].apply(get_lemmatized_word)"
   ]
  },
  {
   "cell_type": "markdown",
   "id": "a8258f83-7351-4a1e-8292-78f918fa0cd9",
   "metadata": {
    "tags": []
   },
   "source": [
    "## Counts"
   ]
  },
  {
   "cell_type": "code",
   "execution_count": 34,
   "id": "58bd1cf2-8022-4298-9cf0-0d2a54e3da84",
   "metadata": {},
   "outputs": [],
   "source": [
    "counts = Counter(list(movie_lines[\"Verb\"].values))"
   ]
  },
  {
   "cell_type": "code",
   "execution_count": 35,
   "id": "89d4583e-2896-491b-aca8-8091a657aa5e",
   "metadata": {},
   "outputs": [],
   "source": [
    "hes = movie_lines.loc[movie_lines[\"Pronoun\"] == \"he\"]\n",
    "num_hes = hes.shape[0]"
   ]
  },
  {
   "cell_type": "code",
   "execution_count": 36,
   "id": "40c9bc86-26b1-4622-a984-0c4a0e3a79ec",
   "metadata": {},
   "outputs": [],
   "source": [
    "shes = movie_lines.loc[movie_lines[\"Pronoun\"] == \"she\"]\n",
    "num_shes = shes.shape[0]"
   ]
  },
  {
   "cell_type": "code",
   "execution_count": 37,
   "id": "c5dd6ef3-f031-4ffd-83f5-a0fe3509f7b3",
   "metadata": {},
   "outputs": [],
   "source": [
    "he_list = list(hes[\"Verb\"].values)"
   ]
  },
  {
   "cell_type": "code",
   "execution_count": 38,
   "id": "70893292-67dc-4dfb-b131-608e18655c00",
   "metadata": {},
   "outputs": [],
   "source": [
    "she_list = list(shes[\"Verb\"].values)"
   ]
  },
  {
   "cell_type": "code",
   "execution_count": 39,
   "id": "5786ee4f-fb3f-438f-9e25-9b84b17f8902",
   "metadata": {},
   "outputs": [],
   "source": [
    "he_counts = Counter(he_list)"
   ]
  },
  {
   "cell_type": "code",
   "execution_count": 40,
   "id": "5fd092df-26ef-427d-a917-ce69c82eeff8",
   "metadata": {},
   "outputs": [],
   "source": [
    "she_counts = Counter(she_list)"
   ]
  },
  {
   "cell_type": "code",
   "execution_count": 41,
   "id": "a1c8c882-d005-4107-8a72-9cf4e09a4101",
   "metadata": {},
   "outputs": [],
   "source": [
    "# she_counts"
   ]
  },
  {
   "cell_type": "code",
   "execution_count": 42,
   "id": "7cd1c770-f29f-48a7-819e-7f331cf7c47f",
   "metadata": {},
   "outputs": [],
   "source": [
    "# she_most_common[\"does\"]"
   ]
  },
  {
   "cell_type": "code",
   "execution_count": 43,
   "id": "6126179c-14f9-44dc-89f2-d5f28942d6f0",
   "metadata": {},
   "outputs": [],
   "source": [
    "# he_most_common - she_most_common"
   ]
  },
  {
   "cell_type": "code",
   "execution_count": 44,
   "id": "2b87a6ea-d455-4a4a-aab4-718eaf8e62d0",
   "metadata": {},
   "outputs": [],
   "source": [
    "# he_most_common.most_common(5)"
   ]
  },
  {
   "cell_type": "code",
   "execution_count": 45,
   "id": "8e4a671e-f3ad-40be-a523-2c181463f2a8",
   "metadata": {},
   "outputs": [
    {
     "data": {
      "text/plain": [
       "True"
      ]
     },
     "execution_count": 45,
     "metadata": {},
     "output_type": "execute_result"
    }
   ],
   "source": [
    "intersection_he = set(he_list).intersection(set(she_list))\n",
    "intersection_she = set(she_list).intersection(set(he_list))\n",
    "intersection = set(he_list).intersection(set(she_list))\n",
    "intersection_he == intersection_she"
   ]
  },
  {
   "cell_type": "code",
   "execution_count": 46,
   "id": "14605e7e-4cd2-468d-9023-f6f32535492e",
   "metadata": {},
   "outputs": [],
   "source": [
    "he_only = set(he_list) - set(she_list)"
   ]
  },
  {
   "cell_type": "code",
   "execution_count": 47,
   "id": "c8e52455-94cd-4021-b760-be8cd17b2884",
   "metadata": {},
   "outputs": [],
   "source": [
    "she_only = set(she_list) - set(he_list)"
   ]
  },
  {
   "cell_type": "code",
   "execution_count": 48,
   "id": "66398d81-4426-44a8-83ac-233d6f2733ff",
   "metadata": {},
   "outputs": [
    {
     "data": {
      "text/plain": [
       "8"
      ]
     },
     "execution_count": 48,
     "metadata": {},
     "output_type": "execute_result"
    }
   ],
   "source": [
    "he_counts.get(\"should\", 0)"
   ]
  },
  {
   "cell_type": "code",
   "execution_count": 49,
   "id": "321d2c80-83fc-4b9a-9aee-d83f44ed87f0",
   "metadata": {},
   "outputs": [
    {
     "data": {
      "text/plain": [
       "Counter()"
      ]
     },
     "execution_count": 49,
     "metadata": {},
     "output_type": "execute_result"
    }
   ],
   "source": [
    "Counter()"
   ]
  },
  {
   "cell_type": "code",
   "execution_count": 50,
   "id": "0fbbfdea-d179-4ac3-ab6a-088b3c9681bd",
   "metadata": {},
   "outputs": [],
   "source": [
    "he_only_counts = Counter({k: he_counts.get(k) for k in he_only})\n",
    "she_only_counts = Counter({k: she_counts.get(k) for k in she_only})"
   ]
  },
  {
   "cell_type": "code",
   "execution_count": 51,
   "id": "d20e7ec1-ebb1-41b4-8a01-247c309f3c37",
   "metadata": {},
   "outputs": [
    {
     "data": {
      "text/plain": [
       "[('believe', 5), ('walk', 4), ('hit', 3)]"
      ]
     },
     "execution_count": 51,
     "metadata": {},
     "output_type": "execute_result"
    }
   ],
   "source": [
    "he_only_counts.most_common(3)"
   ]
  },
  {
   "cell_type": "code",
   "execution_count": 52,
   "id": "fe981ee6-14bd-45d4-9419-69922f465d27",
   "metadata": {},
   "outputs": [
    {
     "data": {
      "text/plain": [
       "29"
      ]
     },
     "execution_count": 52,
     "metadata": {},
     "output_type": "execute_result"
    }
   ],
   "source": [
    "he_counts[\"could\"]"
   ]
  },
  {
   "cell_type": "markdown",
   "id": "739da323-1cb3-4cb0-96e5-a4ee76acfc8a",
   "metadata": {},
   "source": [
    "#### Laplace Smoothing"
   ]
  },
  {
   "cell_type": "code",
   "execution_count": 53,
   "id": "344c2eb3-b78f-43df-b1de-49ad08439be7",
   "metadata": {},
   "outputs": [],
   "source": [
    "# Laplace smoothing\n",
    "\n",
    "for item in counts:\n",
    "    he_counts[item] += 1\n",
    "\n",
    "for item in counts:\n",
    "    she_counts[item] += 1"
   ]
  },
  {
   "cell_type": "markdown",
   "id": "1670f63a-2cc1-458b-b70d-fb918642d8ae",
   "metadata": {},
   "source": [
    "#### Relative Frequency"
   ]
  },
  {
   "cell_type": "code",
   "execution_count": 54,
   "id": "d299870e-6e80-45d4-b877-52b776ffe442",
   "metadata": {},
   "outputs": [],
   "source": [
    "verbs = list(counts.keys())\n",
    "\n",
    "he_freqs = []\n",
    "she_freqs = []\n",
    "freqs = []\n",
    "\n",
    "for verb in verbs:\n",
    "    he_rel_freq = he_counts[verb] / num_hes\n",
    "    she_rel_freq = she_counts[verb] / num_shes\n",
    "    he_freqs.append(he_rel_freq / she_rel_freq)\n",
    "    she_freqs.append(she_rel_freq / he_rel_freq)\n",
    "    if he_rel_freq > she_rel_freq:\n",
    "        freq = (he_rel_freq / she_rel_freq) * -1\n",
    "        freq += 1\n",
    "        freqs.append(freq)\n",
    "    else:\n",
    "        freq = (she_rel_freq / he_rel_freq)\n",
    "        freq += -1\n",
    "        freqs.append(freq)\n",
    "\n",
    "verb_freqs = {verb: freq for (verb, freq) in list(zip(verbs, freqs))}"
   ]
  },
  {
   "cell_type": "code",
   "execution_count": 55,
   "id": "d5208b62-6dca-435c-b648-442bc304556b",
   "metadata": {},
   "outputs": [],
   "source": [
    "he_verb_freqs = {verb: freq for (verb, freq) in list(zip(verbs, he_freqs))}\n",
    "she_verb_freqs = {verb: freq for (verb, freq) in list(zip(verbs, she_freqs))}"
   ]
  },
  {
   "cell_type": "code",
   "execution_count": 56,
   "id": "2ac543db-92cb-453b-84f2-02b5a9537f36",
   "metadata": {},
   "outputs": [],
   "source": [
    "he_freqs_counter = Counter(he_verb_freqs)\n",
    "she_freqs_counter = Counter(she_verb_freqs)"
   ]
  },
  {
   "cell_type": "code",
   "execution_count": 57,
   "id": "c505552d-10b5-41f4-b932-afe0ff5f5028",
   "metadata": {},
   "outputs": [],
   "source": [
    "num_verbs_plot = 15"
   ]
  },
  {
   "cell_type": "code",
   "execution_count": 58,
   "id": "47656361-8f29-40b0-a77f-8a2949488bd8",
   "metadata": {},
   "outputs": [],
   "source": [
    "he_verbs = [verb for (verb, _) in he_freqs_counter.most_common(num_verbs_plot)]\n",
    "she_verbs = [verb for (verb, _) in she_freqs_counter.most_common(num_verbs_plot)]\n",
    "he_freqs = [verb_freqs[verb] for verb in he_verbs]\n",
    "she_freqs = [verb_freqs[verb] for verb in she_verbs]"
   ]
  },
  {
   "cell_type": "code",
   "execution_count": 59,
   "id": "c08e6e8a-78a5-46fb-9249-74403b105e5d",
   "metadata": {},
   "outputs": [],
   "source": [
    "verbs = he_verbs + she_verbs\n",
    "freqs = he_freqs + she_freqs"
   ]
  },
  {
   "cell_type": "markdown",
   "id": "a5027581-e7c3-455b-9c30-79e2332a7c9f",
   "metadata": {},
   "source": [
    "#### Plotting"
   ]
  },
  {
   "cell_type": "code",
   "execution_count": 60,
   "id": "7f9ba78f-f9b9-44b0-8e5b-1cd73aa0a23a",
   "metadata": {},
   "outputs": [
    {
     "data": {
      "image/png": "[encoded data removed]",
      "text/plain": [
       "<Figure size 640x480 with 1 Axes>"
      ]
     },
     "metadata": {},
     "output_type": "display_data"
    }
   ],
   "source": [
    "plt.rcdefaults()\n",
    "fig, ax = plt.subplots()\n",
    "\n",
    "y_pos = np.arange(len(verbs))\n",
    "ax.barh(y_pos, freqs, align=\"center\")\n",
    "ax.set_yticks(y_pos, labels=verbs)\n",
    "ax.invert_yaxis()  # labels read top-to-bottom\n",
    "ax.set_xlabel('Relative Frequency Ratio (He <0; She >0) ')\n",
    "ax.set_title('Relative Frequency Ratio of Verbs Following Certain Pronouns {She, He}')\n",
    "\n",
    "plt.show()"
   ]
  }
 ],
 "metadata": {
  "kernelspec": {
   "display_name": "Python 3",
   "language": "python",
   "name": "python3"
  },
  "language_info": {
   "codemirror_mode": {
    "name": "ipython",
    "version": 3
   },
   "file_extension": ".py",
   "mimetype": "text/x-python",
   "name": "python",
   "nbconvert_exporter": "python",
   "pygments_lexer": "ipython3",
   "version": "3.10.0"
  }
 },
 "nbformat": 4,
 "nbformat_minor": 5
}

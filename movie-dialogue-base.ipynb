{
 "cells": [
  {
   "cell_type": "markdown",
   "id": "5a793589-b6ee-4257-aabe-21da50b0baf4",
   "metadata": {},
   "source": [
    "# Move Dialogue: Base Task"
   ]
  },
  {
   "cell_type": "markdown",
   "id": "19d53129-7bd4-4836-bb7b-6a1beab1b02c",
   "metadata": {},
   "source": [
    "## Imports"
   ]
  },
  {
   "cell_type": "code",
   "execution_count": 1,
   "id": "c79f771e",
   "metadata": {},
   "outputs": [
    {
     "name": "stderr",
     "output_type": "stream",
     "text": [
      "[nltk_data] Downloading package punkt to\n",
      "[nltk_data]     /Users/nicoespinosadice/nltk_data...\n",
      "[nltk_data]   Package punkt is already up-to-date!\n",
      "[nltk_data] Downloading package universal_tagset to\n",
      "[nltk_data]     /Users/nicoespinosadice/nltk_data...\n",
      "[nltk_data]   Package universal_tagset is already up-to-date!\n",
      "[nltk_data] Downloading package averaged_perceptron_tagger to\n",
      "[nltk_data]     /Users/nicoespinosadice/nltk_data...\n",
      "[nltk_data]   Package averaged_perceptron_tagger is already up-to-\n",
      "[nltk_data]       date!\n",
      "[nltk_data] Downloading package wordnet to\n",
      "[nltk_data]     /Users/nicoespinosadice/nltk_data...\n",
      "[nltk_data]   Package wordnet is already up-to-date!\n"
     ]
    },
    {
     "data": {
      "text/plain": [
       "True"
      ]
     },
     "execution_count": 1,
     "metadata": {},
     "output_type": "execute_result"
    }
   ],
   "source": [
    "import numpy as np\n",
    "import matplotlib.pyplot as plt\n",
    "from collections import Counter\n",
    "import pandas as pd\n",
    "import nltk\n",
    "from nltk import sent_tokenize, word_tokenize\n",
    "from nltk.stem import WordNetLemmatizer\n",
    "from nltk.stem import PorterStemmer\n",
    "nltk.download('punkt')\n",
    "nltk.download('universal_tagset')\n",
    "nltk.download('averaged_perceptron_tagger')\n",
    "nltk.download('wordnet')"
   ]
  },
  {
   "cell_type": "markdown",
   "id": "f3ef21ad-a958-4b5e-a70d-accdb660aa07",
   "metadata": {},
   "source": [
    "## Importing Dataset"
   ]
  },
  {
   "cell_type": "markdown",
   "id": "e9f6805f",
   "metadata": {},
   "source": [
    "Source for how to import data:  \n",
    "https://www.kaggle.com/shashankasubrahmanya/preprocessing-cornell-movie-dialogue-corpus"
   ]
  },
  {
   "cell_type": "code",
   "execution_count": 2,
   "id": "1832f739",
   "metadata": {},
   "outputs": [],
   "source": [
    "movie_lines_features = [\"LineID\", \"Character\", \"Movie\", \"Name\", \"Line\"]\n"
   ]
  },
  {
   "cell_type": "code",
   "execution_count": 3,
   "id": "cc87cc18",
   "metadata": {},
   "outputs": [],
   "source": [
    "movie_lines = pd.read_csv(\"data/movie_lines.txt\", sep = \"\\+\\+\\+\\$\\+\\+\\+\", engine = \"python\", encoding='ISO-8859-1', index_col = False, names = movie_lines_features)\n"
   ]
  },
  {
   "cell_type": "markdown",
   "id": "1b00c157-be31-41e7-902a-6866769f0ac5",
   "metadata": {},
   "source": [
    "## Data Cleaning"
   ]
  },
  {
   "cell_type": "code",
   "execution_count": 4,
   "id": "05c99005",
   "metadata": {},
   "outputs": [],
   "source": [
    "movie_lines = movie_lines.sample(frac=0.01)"
   ]
  },
  {
   "cell_type": "code",
   "execution_count": 5,
   "id": "522a8cbb",
   "metadata": {},
   "outputs": [
    {
     "data": {
      "text/html": [
       "<div>\n",
       "<style scoped>\n",
       "    .dataframe tbody tr th:only-of-type {\n",
       "        vertical-align: middle;\n",
       "    }\n",
       "\n",
       "    .dataframe tbody tr th {\n",
       "        vertical-align: top;\n",
       "    }\n",
       "\n",
       "    .dataframe thead th {\n",
       "        text-align: right;\n",
       "    }\n",
       "</style>\n",
       "<table border=\"1\" class=\"dataframe\">\n",
       "  <thead>\n",
       "    <tr style=\"text-align: right;\">\n",
       "      <th></th>\n",
       "      <th>LineID</th>\n",
       "      <th>Character</th>\n",
       "      <th>Movie</th>\n",
       "      <th>Name</th>\n",
       "      <th>Line</th>\n",
       "    </tr>\n",
       "  </thead>\n",
       "  <tbody>\n",
       "    <tr>\n",
       "      <th>128469</th>\n",
       "      <td>L47095</td>\n",
       "      <td>u3729</td>\n",
       "      <td>m246</td>\n",
       "      <td>DR. DREYFUSS</td>\n",
       "      <td>But you're not out of the woods yet, Baxter -...</td>\n",
       "    </tr>\n",
       "    <tr>\n",
       "      <th>97565</th>\n",
       "      <td>L533370</td>\n",
       "      <td>u2886</td>\n",
       "      <td>m190</td>\n",
       "      <td>GENEVA MAN</td>\n",
       "      <td>He is a prisoner of war until you can prove s...</td>\n",
       "    </tr>\n",
       "    <tr>\n",
       "      <th>243286</th>\n",
       "      <td>L460068</td>\n",
       "      <td>u7220</td>\n",
       "      <td>m487</td>\n",
       "      <td>BUDDY</td>\n",
       "      <td>Shut up, Doll. I'll cut your guts</td>\n",
       "    </tr>\n",
       "    <tr>\n",
       "      <th>37991</th>\n",
       "      <td>L251413</td>\n",
       "      <td>u1178</td>\n",
       "      <td>m77</td>\n",
       "      <td>MRS. ROBINSON</td>\n",
       "      <td>Listen to me very carefully, Benjamin. You ar...</td>\n",
       "    </tr>\n",
       "    <tr>\n",
       "      <th>42563</th>\n",
       "      <td>L270513</td>\n",
       "      <td>u1272</td>\n",
       "      <td>m84</td>\n",
       "      <td>HAROLD</td>\n",
       "      <td>Would you like a cigarette?</td>\n",
       "    </tr>\n",
       "  </tbody>\n",
       "</table>\n",
       "</div>"
      ],
      "text/plain": [
       "          LineID Character   Movie             Name  \\\n",
       "128469   L47095     u3729    m246     DR. DREYFUSS    \n",
       "97565   L533370     u2886    m190       GENEVA MAN    \n",
       "243286  L460068     u7220    m487            BUDDY    \n",
       "37991   L251413     u1178     m77    MRS. ROBINSON    \n",
       "42563   L270513     u1272     m84           HAROLD    \n",
       "\n",
       "                                                     Line  \n",
       "128469   But you're not out of the woods yet, Baxter -...  \n",
       "97565    He is a prisoner of war until you can prove s...  \n",
       "243286                  Shut up, Doll. I'll cut your guts  \n",
       "37991    Listen to me very carefully, Benjamin. You ar...  \n",
       "42563                         Would you like a cigarette?  "
      ]
     },
     "execution_count": 5,
     "metadata": {},
     "output_type": "execute_result"
    }
   ],
   "source": [
    "movie_lines.head()"
   ]
  },
  {
   "cell_type": "code",
   "execution_count": 6,
   "id": "5e00cfdd",
   "metadata": {},
   "outputs": [],
   "source": [
    "# Strip the space from \"LineID\" for further usage and change the datatype of \"Line\"\n",
    "movie_lines[\"LineID\"] = movie_lines[\"LineID\"].apply(str.strip)\n",
    "movie_lines[\"Line\"] = movie_lines[\"Line\"].apply(str)\n",
    "movie_lines[\"Line\"] = movie_lines[\"Line\"].apply(str.lower)"
   ]
  },
  {
   "cell_type": "code",
   "execution_count": 7,
   "id": "eed3b487",
   "metadata": {},
   "outputs": [
    {
     "data": {
      "text/html": [
       "<div>\n",
       "<style scoped>\n",
       "    .dataframe tbody tr th:only-of-type {\n",
       "        vertical-align: middle;\n",
       "    }\n",
       "\n",
       "    .dataframe tbody tr th {\n",
       "        vertical-align: top;\n",
       "    }\n",
       "\n",
       "    .dataframe thead th {\n",
       "        text-align: right;\n",
       "    }\n",
       "</style>\n",
       "<table border=\"1\" class=\"dataframe\">\n",
       "  <thead>\n",
       "    <tr style=\"text-align: right;\">\n",
       "      <th></th>\n",
       "      <th>LineID</th>\n",
       "      <th>Character</th>\n",
       "      <th>Movie</th>\n",
       "      <th>Name</th>\n",
       "      <th>Line</th>\n",
       "    </tr>\n",
       "  </thead>\n",
       "  <tbody>\n",
       "    <tr>\n",
       "      <th>128469</th>\n",
       "      <td>L47095</td>\n",
       "      <td>u3729</td>\n",
       "      <td>m246</td>\n",
       "      <td>DR. DREYFUSS</td>\n",
       "      <td>but you're not out of the woods yet, baxter -...</td>\n",
       "    </tr>\n",
       "    <tr>\n",
       "      <th>97565</th>\n",
       "      <td>L533370</td>\n",
       "      <td>u2886</td>\n",
       "      <td>m190</td>\n",
       "      <td>GENEVA MAN</td>\n",
       "      <td>he is a prisoner of war until you can prove s...</td>\n",
       "    </tr>\n",
       "    <tr>\n",
       "      <th>243286</th>\n",
       "      <td>L460068</td>\n",
       "      <td>u7220</td>\n",
       "      <td>m487</td>\n",
       "      <td>BUDDY</td>\n",
       "      <td>shut up, doll. i'll cut your guts</td>\n",
       "    </tr>\n",
       "    <tr>\n",
       "      <th>37991</th>\n",
       "      <td>L251413</td>\n",
       "      <td>u1178</td>\n",
       "      <td>m77</td>\n",
       "      <td>MRS. ROBINSON</td>\n",
       "      <td>listen to me very carefully, benjamin. you ar...</td>\n",
       "    </tr>\n",
       "    <tr>\n",
       "      <th>42563</th>\n",
       "      <td>L270513</td>\n",
       "      <td>u1272</td>\n",
       "      <td>m84</td>\n",
       "      <td>HAROLD</td>\n",
       "      <td>would you like a cigarette?</td>\n",
       "    </tr>\n",
       "  </tbody>\n",
       "</table>\n",
       "</div>"
      ],
      "text/plain": [
       "         LineID Character   Movie             Name  \\\n",
       "128469   L47095    u3729    m246     DR. DREYFUSS    \n",
       "97565   L533370    u2886    m190       GENEVA MAN    \n",
       "243286  L460068    u7220    m487            BUDDY    \n",
       "37991   L251413    u1178     m77    MRS. ROBINSON    \n",
       "42563   L270513    u1272     m84           HAROLD    \n",
       "\n",
       "                                                     Line  \n",
       "128469   but you're not out of the woods yet, baxter -...  \n",
       "97565    he is a prisoner of war until you can prove s...  \n",
       "243286                  shut up, doll. i'll cut your guts  \n",
       "37991    listen to me very carefully, benjamin. you ar...  \n",
       "42563                         would you like a cigarette?  "
      ]
     },
     "execution_count": 7,
     "metadata": {},
     "output_type": "execute_result"
    }
   ],
   "source": [
    "movie_lines.head()"
   ]
  },
  {
   "cell_type": "code",
   "execution_count": 8,
   "id": "d2ce3036",
   "metadata": {},
   "outputs": [],
   "source": [
    "# # Remove lines that do not contain he or she pronouns\n",
    "# # Only include lines where ' he ' is in middle of sentence, surrounded by at least 1 space on either side\n",
    "# movie_lines = movie_lines[movie_lines[\"Line\"].str.contains('|'.join([' he ', ' she ']))]"
   ]
  },
  {
   "cell_type": "code",
   "execution_count": 9,
   "id": "32f0091e",
   "metadata": {},
   "outputs": [
    {
     "data": {
      "text/html": [
       "<div>\n",
       "<style scoped>\n",
       "    .dataframe tbody tr th:only-of-type {\n",
       "        vertical-align: middle;\n",
       "    }\n",
       "\n",
       "    .dataframe tbody tr th {\n",
       "        vertical-align: top;\n",
       "    }\n",
       "\n",
       "    .dataframe thead th {\n",
       "        text-align: right;\n",
       "    }\n",
       "</style>\n",
       "<table border=\"1\" class=\"dataframe\">\n",
       "  <thead>\n",
       "    <tr style=\"text-align: right;\">\n",
       "      <th></th>\n",
       "      <th>LineID</th>\n",
       "      <th>Character</th>\n",
       "      <th>Movie</th>\n",
       "      <th>Name</th>\n",
       "      <th>Line</th>\n",
       "    </tr>\n",
       "  </thead>\n",
       "  <tbody>\n",
       "    <tr>\n",
       "      <th>128469</th>\n",
       "      <td>L47095</td>\n",
       "      <td>u3729</td>\n",
       "      <td>m246</td>\n",
       "      <td>DR. DREYFUSS</td>\n",
       "      <td>but you're not out of the woods yet, baxter -...</td>\n",
       "    </tr>\n",
       "    <tr>\n",
       "      <th>97565</th>\n",
       "      <td>L533370</td>\n",
       "      <td>u2886</td>\n",
       "      <td>m190</td>\n",
       "      <td>GENEVA MAN</td>\n",
       "      <td>he is a prisoner of war until you can prove s...</td>\n",
       "    </tr>\n",
       "    <tr>\n",
       "      <th>243286</th>\n",
       "      <td>L460068</td>\n",
       "      <td>u7220</td>\n",
       "      <td>m487</td>\n",
       "      <td>BUDDY</td>\n",
       "      <td>shut up, doll. i'll cut your guts</td>\n",
       "    </tr>\n",
       "    <tr>\n",
       "      <th>37991</th>\n",
       "      <td>L251413</td>\n",
       "      <td>u1178</td>\n",
       "      <td>m77</td>\n",
       "      <td>MRS. ROBINSON</td>\n",
       "      <td>listen to me very carefully, benjamin. you ar...</td>\n",
       "    </tr>\n",
       "    <tr>\n",
       "      <th>42563</th>\n",
       "      <td>L270513</td>\n",
       "      <td>u1272</td>\n",
       "      <td>m84</td>\n",
       "      <td>HAROLD</td>\n",
       "      <td>would you like a cigarette?</td>\n",
       "    </tr>\n",
       "  </tbody>\n",
       "</table>\n",
       "</div>"
      ],
      "text/plain": [
       "         LineID Character   Movie             Name  \\\n",
       "128469   L47095    u3729    m246     DR. DREYFUSS    \n",
       "97565   L533370    u2886    m190       GENEVA MAN    \n",
       "243286  L460068    u7220    m487            BUDDY    \n",
       "37991   L251413    u1178     m77    MRS. ROBINSON    \n",
       "42563   L270513    u1272     m84           HAROLD    \n",
       "\n",
       "                                                     Line  \n",
       "128469   but you're not out of the woods yet, baxter -...  \n",
       "97565    he is a prisoner of war until you can prove s...  \n",
       "243286                  shut up, doll. i'll cut your guts  \n",
       "37991    listen to me very carefully, benjamin. you ar...  \n",
       "42563                         would you like a cigarette?  "
      ]
     },
     "execution_count": 9,
     "metadata": {},
     "output_type": "execute_result"
    }
   ],
   "source": [
    "movie_lines.head()"
   ]
  },
  {
   "cell_type": "markdown",
   "id": "aea88ff8-c656-48c5-8c63-a484eaacd329",
   "metadata": {},
   "source": [
    "### Tokenization and Segmentation"
   ]
  },
  {
   "cell_type": "code",
   "execution_count": 10,
   "id": "4e096048",
   "metadata": {},
   "outputs": [],
   "source": [
    "# Tokenize and segment\n",
    "# Drop rows without pronouns"
   ]
  },
  {
   "cell_type": "code",
   "execution_count": 11,
   "id": "a47ae814",
   "metadata": {},
   "outputs": [],
   "source": [
    "movie_lines[\"Segmented_Line\"] = movie_lines[\"Line\"].apply(sent_tokenize)"
   ]
  },
  {
   "cell_type": "code",
   "execution_count": null,
   "id": "21cb6545-8bff-41ac-bf07-6353232ad1b2",
   "metadata": {},
   "outputs": [],
   "source": []
  },
  {
   "cell_type": "code",
   "execution_count": 12,
   "id": "2fbc9e3f",
   "metadata": {},
   "outputs": [],
   "source": [
    "df = pd.DataFrame(columns=movie_lines.columns)"
   ]
  },
  {
   "cell_type": "code",
   "execution_count": 13,
   "id": "c81350fd",
   "metadata": {},
   "outputs": [
    {
     "data": {
      "text/html": [
       "<div>\n",
       "<style scoped>\n",
       "    .dataframe tbody tr th:only-of-type {\n",
       "        vertical-align: middle;\n",
       "    }\n",
       "\n",
       "    .dataframe tbody tr th {\n",
       "        vertical-align: top;\n",
       "    }\n",
       "\n",
       "    .dataframe thead th {\n",
       "        text-align: right;\n",
       "    }\n",
       "</style>\n",
       "<table border=\"1\" class=\"dataframe\">\n",
       "  <thead>\n",
       "    <tr style=\"text-align: right;\">\n",
       "      <th></th>\n",
       "      <th>LineID</th>\n",
       "      <th>Character</th>\n",
       "      <th>Movie</th>\n",
       "      <th>Name</th>\n",
       "      <th>Line</th>\n",
       "      <th>Segmented_Line</th>\n",
       "    </tr>\n",
       "  </thead>\n",
       "  <tbody>\n",
       "  </tbody>\n",
       "</table>\n",
       "</div>"
      ],
      "text/plain": [
       "Empty DataFrame\n",
       "Columns: [LineID, Character, Movie, Name, Line, Segmented_Line]\n",
       "Index: []"
      ]
     },
     "execution_count": 13,
     "metadata": {},
     "output_type": "execute_result"
    }
   ],
   "source": [
    "df.head()"
   ]
  },
  {
   "cell_type": "code",
   "execution_count": 14,
   "id": "27e14abe",
   "metadata": {},
   "outputs": [],
   "source": [
    "for row in movie_lines.iterrows():\n",
    "    for sentence in row[1][\"Segmented_Line\"]:\n",
    "        line_id = row[1][\"LineID\"]\n",
    "        character = row[1][\"Character\"]\n",
    "        movie = row[1][\"Movie\"]\n",
    "        name = row[1][\"Name\"]\n",
    "        line = row[1][\"Line\"]\n",
    "        segmented = sentence\n",
    "        new_row = {\"LineID\":line_id, \"Character\": character,\n",
    "                   \"Movie\":movie,\"Name\":name,\"Line\":line,\n",
    "                   \"Segmented_Line\":segmented}\n",
    "        df = df.append(new_row, ignore_index=True)"
   ]
  },
  {
   "cell_type": "code",
   "execution_count": 15,
   "id": "ddd1758e",
   "metadata": {},
   "outputs": [
    {
     "data": {
      "text/html": [
       "<div>\n",
       "<style scoped>\n",
       "    .dataframe tbody tr th:only-of-type {\n",
       "        vertical-align: middle;\n",
       "    }\n",
       "\n",
       "    .dataframe tbody tr th {\n",
       "        vertical-align: top;\n",
       "    }\n",
       "\n",
       "    .dataframe thead th {\n",
       "        text-align: right;\n",
       "    }\n",
       "</style>\n",
       "<table border=\"1\" class=\"dataframe\">\n",
       "  <thead>\n",
       "    <tr style=\"text-align: right;\">\n",
       "      <th></th>\n",
       "      <th>LineID</th>\n",
       "      <th>Character</th>\n",
       "      <th>Movie</th>\n",
       "      <th>Name</th>\n",
       "      <th>Line</th>\n",
       "      <th>Segmented_Line</th>\n",
       "    </tr>\n",
       "  </thead>\n",
       "  <tbody>\n",
       "    <tr>\n",
       "      <th>0</th>\n",
       "      <td>L47095</td>\n",
       "      <td>u3729</td>\n",
       "      <td>m246</td>\n",
       "      <td>DR. DREYFUSS</td>\n",
       "      <td>but you're not out of the woods yet, baxter -...</td>\n",
       "      <td>but you're not out of the woods yet, baxter -...</td>\n",
       "    </tr>\n",
       "    <tr>\n",
       "      <th>1</th>\n",
       "      <td>L47095</td>\n",
       "      <td>u3729</td>\n",
       "      <td>m246</td>\n",
       "      <td>DR. DREYFUSS</td>\n",
       "      <td>but you're not out of the woods yet, baxter -...</td>\n",
       "      <td>you know where i am if you need me.</td>\n",
       "    </tr>\n",
       "    <tr>\n",
       "      <th>2</th>\n",
       "      <td>L533370</td>\n",
       "      <td>u2886</td>\n",
       "      <td>m190</td>\n",
       "      <td>GENEVA MAN</td>\n",
       "      <td>he is a prisoner of war until you can prove s...</td>\n",
       "      <td>he is a prisoner of war until you can prove s...</td>\n",
       "    </tr>\n",
       "    <tr>\n",
       "      <th>3</th>\n",
       "      <td>L460068</td>\n",
       "      <td>u7220</td>\n",
       "      <td>m487</td>\n",
       "      <td>BUDDY</td>\n",
       "      <td>shut up, doll. i'll cut your guts</td>\n",
       "      <td>shut up, doll.</td>\n",
       "    </tr>\n",
       "    <tr>\n",
       "      <th>4</th>\n",
       "      <td>L460068</td>\n",
       "      <td>u7220</td>\n",
       "      <td>m487</td>\n",
       "      <td>BUDDY</td>\n",
       "      <td>shut up, doll. i'll cut your guts</td>\n",
       "      <td>i'll cut your guts</td>\n",
       "    </tr>\n",
       "  </tbody>\n",
       "</table>\n",
       "</div>"
      ],
      "text/plain": [
       "    LineID Character   Movie            Name  \\\n",
       "0   L47095    u3729    m246    DR. DREYFUSS    \n",
       "1   L47095    u3729    m246    DR. DREYFUSS    \n",
       "2  L533370    u2886    m190      GENEVA MAN    \n",
       "3  L460068    u7220    m487           BUDDY    \n",
       "4  L460068    u7220    m487           BUDDY    \n",
       "\n",
       "                                                Line  \\\n",
       "0   but you're not out of the woods yet, baxter -...   \n",
       "1   but you're not out of the woods yet, baxter -...   \n",
       "2   he is a prisoner of war until you can prove s...   \n",
       "3                  shut up, doll. i'll cut your guts   \n",
       "4                  shut up, doll. i'll cut your guts   \n",
       "\n",
       "                                      Segmented_Line  \n",
       "0   but you're not out of the woods yet, baxter -...  \n",
       "1                you know where i am if you need me.  \n",
       "2   he is a prisoner of war until you can prove s...  \n",
       "3                                     shut up, doll.  \n",
       "4                                 i'll cut your guts  "
      ]
     },
     "execution_count": 15,
     "metadata": {},
     "output_type": "execute_result"
    }
   ],
   "source": [
    "df.head()"
   ]
  },
  {
   "cell_type": "code",
   "execution_count": 16,
   "id": "13e91bb7",
   "metadata": {},
   "outputs": [],
   "source": [
    "movie_lines = df"
   ]
  },
  {
   "cell_type": "code",
   "execution_count": 17,
   "id": "b3b5f93f",
   "metadata": {},
   "outputs": [
    {
     "data": {
      "text/html": [
       "<div>\n",
       "<style scoped>\n",
       "    .dataframe tbody tr th:only-of-type {\n",
       "        vertical-align: middle;\n",
       "    }\n",
       "\n",
       "    .dataframe tbody tr th {\n",
       "        vertical-align: top;\n",
       "    }\n",
       "\n",
       "    .dataframe thead th {\n",
       "        text-align: right;\n",
       "    }\n",
       "</style>\n",
       "<table border=\"1\" class=\"dataframe\">\n",
       "  <thead>\n",
       "    <tr style=\"text-align: right;\">\n",
       "      <th></th>\n",
       "      <th>LineID</th>\n",
       "      <th>Character</th>\n",
       "      <th>Movie</th>\n",
       "      <th>Name</th>\n",
       "      <th>Line</th>\n",
       "      <th>Segmented_Line</th>\n",
       "    </tr>\n",
       "  </thead>\n",
       "  <tbody>\n",
       "    <tr>\n",
       "      <th>0</th>\n",
       "      <td>L47095</td>\n",
       "      <td>u3729</td>\n",
       "      <td>m246</td>\n",
       "      <td>DR. DREYFUSS</td>\n",
       "      <td>but you're not out of the woods yet, baxter -...</td>\n",
       "      <td>but you're not out of the woods yet, baxter -...</td>\n",
       "    </tr>\n",
       "    <tr>\n",
       "      <th>1</th>\n",
       "      <td>L47095</td>\n",
       "      <td>u3729</td>\n",
       "      <td>m246</td>\n",
       "      <td>DR. DREYFUSS</td>\n",
       "      <td>but you're not out of the woods yet, baxter -...</td>\n",
       "      <td>you know where i am if you need me.</td>\n",
       "    </tr>\n",
       "    <tr>\n",
       "      <th>2</th>\n",
       "      <td>L533370</td>\n",
       "      <td>u2886</td>\n",
       "      <td>m190</td>\n",
       "      <td>GENEVA MAN</td>\n",
       "      <td>he is a prisoner of war until you can prove s...</td>\n",
       "      <td>he is a prisoner of war until you can prove s...</td>\n",
       "    </tr>\n",
       "    <tr>\n",
       "      <th>3</th>\n",
       "      <td>L460068</td>\n",
       "      <td>u7220</td>\n",
       "      <td>m487</td>\n",
       "      <td>BUDDY</td>\n",
       "      <td>shut up, doll. i'll cut your guts</td>\n",
       "      <td>shut up, doll.</td>\n",
       "    </tr>\n",
       "    <tr>\n",
       "      <th>4</th>\n",
       "      <td>L460068</td>\n",
       "      <td>u7220</td>\n",
       "      <td>m487</td>\n",
       "      <td>BUDDY</td>\n",
       "      <td>shut up, doll. i'll cut your guts</td>\n",
       "      <td>i'll cut your guts</td>\n",
       "    </tr>\n",
       "  </tbody>\n",
       "</table>\n",
       "</div>"
      ],
      "text/plain": [
       "    LineID Character   Movie            Name  \\\n",
       "0   L47095    u3729    m246    DR. DREYFUSS    \n",
       "1   L47095    u3729    m246    DR. DREYFUSS    \n",
       "2  L533370    u2886    m190      GENEVA MAN    \n",
       "3  L460068    u7220    m487           BUDDY    \n",
       "4  L460068    u7220    m487           BUDDY    \n",
       "\n",
       "                                                Line  \\\n",
       "0   but you're not out of the woods yet, baxter -...   \n",
       "1   but you're not out of the woods yet, baxter -...   \n",
       "2   he is a prisoner of war until you can prove s...   \n",
       "3                  shut up, doll. i'll cut your guts   \n",
       "4                  shut up, doll. i'll cut your guts   \n",
       "\n",
       "                                      Segmented_Line  \n",
       "0   but you're not out of the woods yet, baxter -...  \n",
       "1                you know where i am if you need me.  \n",
       "2   he is a prisoner of war until you can prove s...  \n",
       "3                                     shut up, doll.  \n",
       "4                                 i'll cut your guts  "
      ]
     },
     "execution_count": 17,
     "metadata": {},
     "output_type": "execute_result"
    }
   ],
   "source": [
    "movie_lines.head()"
   ]
  },
  {
   "cell_type": "code",
   "execution_count": 18,
   "id": "0bef713a",
   "metadata": {},
   "outputs": [],
   "source": [
    "# def tokenize_sentence_list(sentence_list):\n",
    "#     return [word_tokenize(sentence) for sentence in sentence_list]"
   ]
  },
  {
   "cell_type": "code",
   "execution_count": 19,
   "id": "ee0aa06d",
   "metadata": {},
   "outputs": [],
   "source": [
    "movie_lines[\"Tokenized_Line\"] = movie_lines[\"Segmented_Line\"].apply(word_tokenize)\n"
   ]
  },
  {
   "cell_type": "code",
   "execution_count": 20,
   "id": "29724e47",
   "metadata": {},
   "outputs": [
    {
     "data": {
      "text/html": [
       "<div>\n",
       "<style scoped>\n",
       "    .dataframe tbody tr th:only-of-type {\n",
       "        vertical-align: middle;\n",
       "    }\n",
       "\n",
       "    .dataframe tbody tr th {\n",
       "        vertical-align: top;\n",
       "    }\n",
       "\n",
       "    .dataframe thead th {\n",
       "        text-align: right;\n",
       "    }\n",
       "</style>\n",
       "<table border=\"1\" class=\"dataframe\">\n",
       "  <thead>\n",
       "    <tr style=\"text-align: right;\">\n",
       "      <th></th>\n",
       "      <th>LineID</th>\n",
       "      <th>Character</th>\n",
       "      <th>Movie</th>\n",
       "      <th>Name</th>\n",
       "      <th>Line</th>\n",
       "      <th>Segmented_Line</th>\n",
       "      <th>Tokenized_Line</th>\n",
       "    </tr>\n",
       "  </thead>\n",
       "  <tbody>\n",
       "    <tr>\n",
       "      <th>0</th>\n",
       "      <td>L47095</td>\n",
       "      <td>u3729</td>\n",
       "      <td>m246</td>\n",
       "      <td>DR. DREYFUSS</td>\n",
       "      <td>but you're not out of the woods yet, baxter -...</td>\n",
       "      <td>but you're not out of the woods yet, baxter -...</td>\n",
       "      <td>[but, you, 're, not, out, of, the, woods, yet,...</td>\n",
       "    </tr>\n",
       "    <tr>\n",
       "      <th>1</th>\n",
       "      <td>L47095</td>\n",
       "      <td>u3729</td>\n",
       "      <td>m246</td>\n",
       "      <td>DR. DREYFUSS</td>\n",
       "      <td>but you're not out of the woods yet, baxter -...</td>\n",
       "      <td>you know where i am if you need me.</td>\n",
       "      <td>[you, know, where, i, am, if, you, need, me, .]</td>\n",
       "    </tr>\n",
       "    <tr>\n",
       "      <th>2</th>\n",
       "      <td>L533370</td>\n",
       "      <td>u2886</td>\n",
       "      <td>m190</td>\n",
       "      <td>GENEVA MAN</td>\n",
       "      <td>he is a prisoner of war until you can prove s...</td>\n",
       "      <td>he is a prisoner of war until you can prove s...</td>\n",
       "      <td>[he, is, a, prisoner, of, war, until, you, can...</td>\n",
       "    </tr>\n",
       "    <tr>\n",
       "      <th>3</th>\n",
       "      <td>L460068</td>\n",
       "      <td>u7220</td>\n",
       "      <td>m487</td>\n",
       "      <td>BUDDY</td>\n",
       "      <td>shut up, doll. i'll cut your guts</td>\n",
       "      <td>shut up, doll.</td>\n",
       "      <td>[shut, up, ,, doll, .]</td>\n",
       "    </tr>\n",
       "    <tr>\n",
       "      <th>4</th>\n",
       "      <td>L460068</td>\n",
       "      <td>u7220</td>\n",
       "      <td>m487</td>\n",
       "      <td>BUDDY</td>\n",
       "      <td>shut up, doll. i'll cut your guts</td>\n",
       "      <td>i'll cut your guts</td>\n",
       "      <td>[i, 'll, cut, your, guts]</td>\n",
       "    </tr>\n",
       "  </tbody>\n",
       "</table>\n",
       "</div>"
      ],
      "text/plain": [
       "    LineID Character   Movie            Name  \\\n",
       "0   L47095    u3729    m246    DR. DREYFUSS    \n",
       "1   L47095    u3729    m246    DR. DREYFUSS    \n",
       "2  L533370    u2886    m190      GENEVA MAN    \n",
       "3  L460068    u7220    m487           BUDDY    \n",
       "4  L460068    u7220    m487           BUDDY    \n",
       "\n",
       "                                                Line  \\\n",
       "0   but you're not out of the woods yet, baxter -...   \n",
       "1   but you're not out of the woods yet, baxter -...   \n",
       "2   he is a prisoner of war until you can prove s...   \n",
       "3                  shut up, doll. i'll cut your guts   \n",
       "4                  shut up, doll. i'll cut your guts   \n",
       "\n",
       "                                      Segmented_Line  \\\n",
       "0   but you're not out of the woods yet, baxter -...   \n",
       "1                you know where i am if you need me.   \n",
       "2   he is a prisoner of war until you can prove s...   \n",
       "3                                     shut up, doll.   \n",
       "4                                 i'll cut your guts   \n",
       "\n",
       "                                      Tokenized_Line  \n",
       "0  [but, you, 're, not, out, of, the, woods, yet,...  \n",
       "1    [you, know, where, i, am, if, you, need, me, .]  \n",
       "2  [he, is, a, prisoner, of, war, until, you, can...  \n",
       "3                             [shut, up, ,, doll, .]  \n",
       "4                          [i, 'll, cut, your, guts]  "
      ]
     },
     "execution_count": 20,
     "metadata": {},
     "output_type": "execute_result"
    }
   ],
   "source": [
    "movie_lines.head()"
   ]
  },
  {
   "cell_type": "markdown",
   "id": "002b9556-496d-4f07-abde-948b1360774b",
   "metadata": {},
   "source": [
    "### Extracting Pronouns"
   ]
  },
  {
   "cell_type": "code",
   "execution_count": 21,
   "id": "c4cd4c69",
   "metadata": {},
   "outputs": [],
   "source": [
    "def get_pronoun(tokenized_line):\n",
    "    if \"she\" in tokenized_line:\n",
    "        return \"she\"\n",
    "    elif \"he\" in tokenized_line:\n",
    "        return \"he\"\n",
    "    else:\n",
    "        return \"none\""
   ]
  },
  {
   "cell_type": "code",
   "execution_count": 22,
   "id": "81f5684c",
   "metadata": {},
   "outputs": [],
   "source": [
    "movie_lines[\"Pronoun\"] = movie_lines[\"Tokenized_Line\"].apply(get_pronoun)"
   ]
  },
  {
   "cell_type": "code",
   "execution_count": 23,
   "id": "a4b7b221",
   "metadata": {},
   "outputs": [
    {
     "data": {
      "text/html": [
       "<div>\n",
       "<style scoped>\n",
       "    .dataframe tbody tr th:only-of-type {\n",
       "        vertical-align: middle;\n",
       "    }\n",
       "\n",
       "    .dataframe tbody tr th {\n",
       "        vertical-align: top;\n",
       "    }\n",
       "\n",
       "    .dataframe thead th {\n",
       "        text-align: right;\n",
       "    }\n",
       "</style>\n",
       "<table border=\"1\" class=\"dataframe\">\n",
       "  <thead>\n",
       "    <tr style=\"text-align: right;\">\n",
       "      <th></th>\n",
       "      <th>LineID</th>\n",
       "      <th>Character</th>\n",
       "      <th>Movie</th>\n",
       "      <th>Name</th>\n",
       "      <th>Line</th>\n",
       "      <th>Segmented_Line</th>\n",
       "      <th>Tokenized_Line</th>\n",
       "      <th>Pronoun</th>\n",
       "    </tr>\n",
       "  </thead>\n",
       "  <tbody>\n",
       "    <tr>\n",
       "      <th>0</th>\n",
       "      <td>L47095</td>\n",
       "      <td>u3729</td>\n",
       "      <td>m246</td>\n",
       "      <td>DR. DREYFUSS</td>\n",
       "      <td>but you're not out of the woods yet, baxter -...</td>\n",
       "      <td>but you're not out of the woods yet, baxter -...</td>\n",
       "      <td>[but, you, 're, not, out, of, the, woods, yet,...</td>\n",
       "      <td>none</td>\n",
       "    </tr>\n",
       "    <tr>\n",
       "      <th>1</th>\n",
       "      <td>L47095</td>\n",
       "      <td>u3729</td>\n",
       "      <td>m246</td>\n",
       "      <td>DR. DREYFUSS</td>\n",
       "      <td>but you're not out of the woods yet, baxter -...</td>\n",
       "      <td>you know where i am if you need me.</td>\n",
       "      <td>[you, know, where, i, am, if, you, need, me, .]</td>\n",
       "      <td>none</td>\n",
       "    </tr>\n",
       "    <tr>\n",
       "      <th>2</th>\n",
       "      <td>L533370</td>\n",
       "      <td>u2886</td>\n",
       "      <td>m190</td>\n",
       "      <td>GENEVA MAN</td>\n",
       "      <td>he is a prisoner of war until you can prove s...</td>\n",
       "      <td>he is a prisoner of war until you can prove s...</td>\n",
       "      <td>[he, is, a, prisoner, of, war, until, you, can...</td>\n",
       "      <td>he</td>\n",
       "    </tr>\n",
       "    <tr>\n",
       "      <th>3</th>\n",
       "      <td>L460068</td>\n",
       "      <td>u7220</td>\n",
       "      <td>m487</td>\n",
       "      <td>BUDDY</td>\n",
       "      <td>shut up, doll. i'll cut your guts</td>\n",
       "      <td>shut up, doll.</td>\n",
       "      <td>[shut, up, ,, doll, .]</td>\n",
       "      <td>none</td>\n",
       "    </tr>\n",
       "    <tr>\n",
       "      <th>4</th>\n",
       "      <td>L460068</td>\n",
       "      <td>u7220</td>\n",
       "      <td>m487</td>\n",
       "      <td>BUDDY</td>\n",
       "      <td>shut up, doll. i'll cut your guts</td>\n",
       "      <td>i'll cut your guts</td>\n",
       "      <td>[i, 'll, cut, your, guts]</td>\n",
       "      <td>none</td>\n",
       "    </tr>\n",
       "  </tbody>\n",
       "</table>\n",
       "</div>"
      ],
      "text/plain": [
       "    LineID Character   Movie            Name  \\\n",
       "0   L47095    u3729    m246    DR. DREYFUSS    \n",
       "1   L47095    u3729    m246    DR. DREYFUSS    \n",
       "2  L533370    u2886    m190      GENEVA MAN    \n",
       "3  L460068    u7220    m487           BUDDY    \n",
       "4  L460068    u7220    m487           BUDDY    \n",
       "\n",
       "                                                Line  \\\n",
       "0   but you're not out of the woods yet, baxter -...   \n",
       "1   but you're not out of the woods yet, baxter -...   \n",
       "2   he is a prisoner of war until you can prove s...   \n",
       "3                  shut up, doll. i'll cut your guts   \n",
       "4                  shut up, doll. i'll cut your guts   \n",
       "\n",
       "                                      Segmented_Line  \\\n",
       "0   but you're not out of the woods yet, baxter -...   \n",
       "1                you know where i am if you need me.   \n",
       "2   he is a prisoner of war until you can prove s...   \n",
       "3                                     shut up, doll.   \n",
       "4                                 i'll cut your guts   \n",
       "\n",
       "                                      Tokenized_Line Pronoun  \n",
       "0  [but, you, 're, not, out, of, the, woods, yet,...    none  \n",
       "1    [you, know, where, i, am, if, you, need, me, .]    none  \n",
       "2  [he, is, a, prisoner, of, war, until, you, can...      he  \n",
       "3                             [shut, up, ,, doll, .]    none  \n",
       "4                          [i, 'll, cut, your, guts]    none  "
      ]
     },
     "execution_count": 23,
     "metadata": {},
     "output_type": "execute_result"
    }
   ],
   "source": [
    "movie_lines.head()"
   ]
  },
  {
   "cell_type": "code",
   "execution_count": 24,
   "id": "bb26a97f",
   "metadata": {},
   "outputs": [],
   "source": [
    "movie_lines = movie_lines.loc[movie_lines[\"Pronoun\"] != \"none\"]"
   ]
  },
  {
   "cell_type": "code",
   "execution_count": 25,
   "id": "bfe9db22",
   "metadata": {},
   "outputs": [
    {
     "data": {
      "text/html": [
       "<div>\n",
       "<style scoped>\n",
       "    .dataframe tbody tr th:only-of-type {\n",
       "        vertical-align: middle;\n",
       "    }\n",
       "\n",
       "    .dataframe tbody tr th {\n",
       "        vertical-align: top;\n",
       "    }\n",
       "\n",
       "    .dataframe thead th {\n",
       "        text-align: right;\n",
       "    }\n",
       "</style>\n",
       "<table border=\"1\" class=\"dataframe\">\n",
       "  <thead>\n",
       "    <tr style=\"text-align: right;\">\n",
       "      <th></th>\n",
       "      <th>LineID</th>\n",
       "      <th>Character</th>\n",
       "      <th>Movie</th>\n",
       "      <th>Name</th>\n",
       "      <th>Line</th>\n",
       "      <th>Segmented_Line</th>\n",
       "      <th>Tokenized_Line</th>\n",
       "      <th>Pronoun</th>\n",
       "    </tr>\n",
       "  </thead>\n",
       "  <tbody>\n",
       "    <tr>\n",
       "      <th>2</th>\n",
       "      <td>L533370</td>\n",
       "      <td>u2886</td>\n",
       "      <td>m190</td>\n",
       "      <td>GENEVA MAN</td>\n",
       "      <td>he is a prisoner of war until you can prove s...</td>\n",
       "      <td>he is a prisoner of war until you can prove s...</td>\n",
       "      <td>[he, is, a, prisoner, of, war, until, you, can...</td>\n",
       "      <td>he</td>\n",
       "    </tr>\n",
       "    <tr>\n",
       "      <th>45</th>\n",
       "      <td>L47236</td>\n",
       "      <td>u3730</td>\n",
       "      <td>m246</td>\n",
       "      <td>FRAN</td>\n",
       "      <td>three. the last one was manager of a finance ...</td>\n",
       "      <td>the last one was manager of a finance company,...</td>\n",
       "      <td>[the, last, one, was, manager, of, a, finance,...</td>\n",
       "      <td>he</td>\n",
       "    </tr>\n",
       "    <tr>\n",
       "      <th>59</th>\n",
       "      <td>L59168</td>\n",
       "      <td>u393</td>\n",
       "      <td>m24</td>\n",
       "      <td>DEBBIE</td>\n",
       "      <td>he still thinks i'm going with him. i'm going...</td>\n",
       "      <td>he still thinks i'm going with him.</td>\n",
       "      <td>[he, still, thinks, i, 'm, going, with, him, .]</td>\n",
       "      <td>he</td>\n",
       "    </tr>\n",
       "    <tr>\n",
       "      <th>75</th>\n",
       "      <td>L106799</td>\n",
       "      <td>u4214</td>\n",
       "      <td>m281</td>\n",
       "      <td>VIOLET</td>\n",
       "      <td>you can't know for certain that he won't see ...</td>\n",
       "      <td>you can't know for certain that he won't see ...</td>\n",
       "      <td>[you, ca, n't, know, for, certain, that, he, w...</td>\n",
       "      <td>he</td>\n",
       "    </tr>\n",
       "    <tr>\n",
       "      <th>104</th>\n",
       "      <td>L135380</td>\n",
       "      <td>u4522</td>\n",
       "      <td>m299</td>\n",
       "      <td>CAITLIN</td>\n",
       "      <td>the story goes like this: he proposed, and i ...</td>\n",
       "      <td>the story goes like this: he proposed, and i ...</td>\n",
       "      <td>[the, story, goes, like, this, :, he, proposed...</td>\n",
       "      <td>he</td>\n",
       "    </tr>\n",
       "  </tbody>\n",
       "</table>\n",
       "</div>"
      ],
      "text/plain": [
       "      LineID Character   Movie          Name  \\\n",
       "2    L533370    u2886    m190    GENEVA MAN    \n",
       "45    L47236    u3730    m246          FRAN    \n",
       "59    L59168     u393     m24        DEBBIE    \n",
       "75   L106799    u4214    m281        VIOLET    \n",
       "104  L135380    u4522    m299       CAITLIN    \n",
       "\n",
       "                                                  Line  \\\n",
       "2     he is a prisoner of war until you can prove s...   \n",
       "45    three. the last one was manager of a finance ...   \n",
       "59    he still thinks i'm going with him. i'm going...   \n",
       "75    you can't know for certain that he won't see ...   \n",
       "104   the story goes like this: he proposed, and i ...   \n",
       "\n",
       "                                        Segmented_Line  \\\n",
       "2     he is a prisoner of war until you can prove s...   \n",
       "45   the last one was manager of a finance company,...   \n",
       "59                 he still thinks i'm going with him.   \n",
       "75    you can't know for certain that he won't see ...   \n",
       "104   the story goes like this: he proposed, and i ...   \n",
       "\n",
       "                                        Tokenized_Line Pronoun  \n",
       "2    [he, is, a, prisoner, of, war, until, you, can...      he  \n",
       "45   [the, last, one, was, manager, of, a, finance,...      he  \n",
       "59     [he, still, thinks, i, 'm, going, with, him, .]      he  \n",
       "75   [you, ca, n't, know, for, certain, that, he, w...      he  \n",
       "104  [the, story, goes, like, this, :, he, proposed...      he  "
      ]
     },
     "execution_count": 25,
     "metadata": {},
     "output_type": "execute_result"
    }
   ],
   "source": [
    "movie_lines.head()"
   ]
  },
  {
   "cell_type": "code",
   "execution_count": 26,
   "id": "795d5c95",
   "metadata": {},
   "outputs": [
    {
     "data": {
      "text/html": [
       "<div>\n",
       "<style scoped>\n",
       "    .dataframe tbody tr th:only-of-type {\n",
       "        vertical-align: middle;\n",
       "    }\n",
       "\n",
       "    .dataframe tbody tr th {\n",
       "        vertical-align: top;\n",
       "    }\n",
       "\n",
       "    .dataframe thead th {\n",
       "        text-align: right;\n",
       "    }\n",
       "</style>\n",
       "<table border=\"1\" class=\"dataframe\">\n",
       "  <thead>\n",
       "    <tr style=\"text-align: right;\">\n",
       "      <th></th>\n",
       "      <th>LineID</th>\n",
       "      <th>Character</th>\n",
       "      <th>Movie</th>\n",
       "      <th>Name</th>\n",
       "      <th>Line</th>\n",
       "      <th>Segmented_Line</th>\n",
       "      <th>Tokenized_Line</th>\n",
       "      <th>Pronoun</th>\n",
       "    </tr>\n",
       "  </thead>\n",
       "  <tbody>\n",
       "    <tr>\n",
       "      <th>count</th>\n",
       "      <td>339</td>\n",
       "      <td>339</td>\n",
       "      <td>339</td>\n",
       "      <td>339</td>\n",
       "      <td>339</td>\n",
       "      <td>339</td>\n",
       "      <td>339</td>\n",
       "      <td>339</td>\n",
       "    </tr>\n",
       "    <tr>\n",
       "      <th>unique</th>\n",
       "      <td>278</td>\n",
       "      <td>268</td>\n",
       "      <td>224</td>\n",
       "      <td>248</td>\n",
       "      <td>278</td>\n",
       "      <td>339</td>\n",
       "      <td>339</td>\n",
       "      <td>2</td>\n",
       "    </tr>\n",
       "    <tr>\n",
       "      <th>top</th>\n",
       "      <td>L140852</td>\n",
       "      <td>u712</td>\n",
       "      <td>m564</td>\n",
       "      <td>GORDO</td>\n",
       "      <td>what are you? new? let me tell you how good t...</td>\n",
       "      <td>he is a prisoner of war until you can prove s...</td>\n",
       "      <td>[he, is, a, prisoner, of, war, until, you, can...</td>\n",
       "      <td>he</td>\n",
       "    </tr>\n",
       "    <tr>\n",
       "      <th>freq</th>\n",
       "      <td>5</td>\n",
       "      <td>5</td>\n",
       "      <td>7</td>\n",
       "      <td>5</td>\n",
       "      <td>5</td>\n",
       "      <td>1</td>\n",
       "      <td>1</td>\n",
       "      <td>214</td>\n",
       "    </tr>\n",
       "  </tbody>\n",
       "</table>\n",
       "</div>"
      ],
      "text/plain": [
       "         LineID Character   Movie     Name  \\\n",
       "count       339       339     339      339   \n",
       "unique      278       268     224      248   \n",
       "top     L140852     u712    m564    GORDO    \n",
       "freq          5         5       7        5   \n",
       "\n",
       "                                                     Line  \\\n",
       "count                                                 339   \n",
       "unique                                                278   \n",
       "top      what are you? new? let me tell you how good t...   \n",
       "freq                                                    5   \n",
       "\n",
       "                                           Segmented_Line  \\\n",
       "count                                                 339   \n",
       "unique                                                339   \n",
       "top      he is a prisoner of war until you can prove s...   \n",
       "freq                                                    1   \n",
       "\n",
       "                                           Tokenized_Line Pronoun  \n",
       "count                                                 339     339  \n",
       "unique                                                339       2  \n",
       "top     [he, is, a, prisoner, of, war, until, you, can...      he  \n",
       "freq                                                    1     214  "
      ]
     },
     "execution_count": 26,
     "metadata": {},
     "output_type": "execute_result"
    }
   ],
   "source": [
    "movie_lines.describe()"
   ]
  },
  {
   "cell_type": "code",
   "execution_count": 27,
   "id": "0d718e22",
   "metadata": {},
   "outputs": [
    {
     "data": {
      "text/plain": [
       "(339, 8)"
      ]
     },
     "execution_count": 27,
     "metadata": {},
     "output_type": "execute_result"
    }
   ],
   "source": [
    "movie_lines.shape"
   ]
  },
  {
   "cell_type": "markdown",
   "id": "8e123f79-5b7c-4080-b2bf-6bcc562e087d",
   "metadata": {},
   "source": [
    "### Extracting Verb"
   ]
  },
  {
   "cell_type": "code",
   "execution_count": 28,
   "id": "b608c626",
   "metadata": {},
   "outputs": [],
   "source": [
    "def get_verb(tokenized_line):\n",
    "    pronoun = get_pronoun(tokenized_line)\n",
    "    pronoun_index = tokenized_line.index(pronoun)\n",
    "    word_pos_pairs = nltk.pos_tag(tokenized_line[pronoun_index:], tagset='universal')\n",
    "    pos_list = [pos for _, pos in word_pos_pairs]\n",
    "    \n",
    "    if 'VERB' not in pos_list:\n",
    "        return 'none'\n",
    "    \n",
    "    verb_index = pos_list.index('VERB')\n",
    "    # TODO: consider second verb after pronoun\n",
    "    # ex: he's biking, 's and biking are both VERB\n",
    "    return word_pos_pairs[verb_index][0]"
   ]
  },
  {
   "cell_type": "code",
   "execution_count": 29,
   "id": "ec593735",
   "metadata": {},
   "outputs": [
    {
     "name": "stderr",
     "output_type": "stream",
     "text": [
      "/var/folders/0b/p9t1prd97_g8t6jgmnm5s7600000gn/T/ipykernel_26963/3157400569.py:1: SettingWithCopyWarning: \n",
      "A value is trying to be set on a copy of a slice from a DataFrame.\n",
      "Try using .loc[row_indexer,col_indexer] = value instead\n",
      "\n",
      "See the caveats in the documentation: https://pandas.pydata.org/pandas-docs/stable/user_guide/indexing.html#returning-a-view-versus-a-copy\n",
      "  movie_lines[\"Verb\"] = movie_lines[\"Tokenized_Line\"].apply(get_verb)\n"
     ]
    }
   ],
   "source": [
    "movie_lines[\"Verb\"] = movie_lines[\"Tokenized_Line\"].apply(get_verb)"
   ]
  },
  {
   "cell_type": "code",
   "execution_count": 30,
   "id": "94fcc49c",
   "metadata": {},
   "outputs": [
    {
     "data": {
      "text/html": [
       "<div>\n",
       "<style scoped>\n",
       "    .dataframe tbody tr th:only-of-type {\n",
       "        vertical-align: middle;\n",
       "    }\n",
       "\n",
       "    .dataframe tbody tr th {\n",
       "        vertical-align: top;\n",
       "    }\n",
       "\n",
       "    .dataframe thead th {\n",
       "        text-align: right;\n",
       "    }\n",
       "</style>\n",
       "<table border=\"1\" class=\"dataframe\">\n",
       "  <thead>\n",
       "    <tr style=\"text-align: right;\">\n",
       "      <th></th>\n",
       "      <th>LineID</th>\n",
       "      <th>Character</th>\n",
       "      <th>Movie</th>\n",
       "      <th>Name</th>\n",
       "      <th>Line</th>\n",
       "      <th>Segmented_Line</th>\n",
       "      <th>Tokenized_Line</th>\n",
       "      <th>Pronoun</th>\n",
       "      <th>Verb</th>\n",
       "    </tr>\n",
       "  </thead>\n",
       "  <tbody>\n",
       "    <tr>\n",
       "      <th>2</th>\n",
       "      <td>L533370</td>\n",
       "      <td>u2886</td>\n",
       "      <td>m190</td>\n",
       "      <td>GENEVA MAN</td>\n",
       "      <td>he is a prisoner of war until you can prove s...</td>\n",
       "      <td>he is a prisoner of war until you can prove s...</td>\n",
       "      <td>[he, is, a, prisoner, of, war, until, you, can...</td>\n",
       "      <td>he</td>\n",
       "      <td>is</td>\n",
       "    </tr>\n",
       "    <tr>\n",
       "      <th>45</th>\n",
       "      <td>L47236</td>\n",
       "      <td>u3730</td>\n",
       "      <td>m246</td>\n",
       "      <td>FRAN</td>\n",
       "      <td>three. the last one was manager of a finance ...</td>\n",
       "      <td>the last one was manager of a finance company,...</td>\n",
       "      <td>[the, last, one, was, manager, of, a, finance,...</td>\n",
       "      <td>he</td>\n",
       "      <td>asked</td>\n",
       "    </tr>\n",
       "    <tr>\n",
       "      <th>59</th>\n",
       "      <td>L59168</td>\n",
       "      <td>u393</td>\n",
       "      <td>m24</td>\n",
       "      <td>DEBBIE</td>\n",
       "      <td>he still thinks i'm going with him. i'm going...</td>\n",
       "      <td>he still thinks i'm going with him.</td>\n",
       "      <td>[he, still, thinks, i, 'm, going, with, him, .]</td>\n",
       "      <td>he</td>\n",
       "      <td>thinks</td>\n",
       "    </tr>\n",
       "    <tr>\n",
       "      <th>75</th>\n",
       "      <td>L106799</td>\n",
       "      <td>u4214</td>\n",
       "      <td>m281</td>\n",
       "      <td>VIOLET</td>\n",
       "      <td>you can't know for certain that he won't see ...</td>\n",
       "      <td>you can't know for certain that he won't see ...</td>\n",
       "      <td>[you, ca, n't, know, for, certain, that, he, w...</td>\n",
       "      <td>he</td>\n",
       "      <td>wo</td>\n",
       "    </tr>\n",
       "    <tr>\n",
       "      <th>104</th>\n",
       "      <td>L135380</td>\n",
       "      <td>u4522</td>\n",
       "      <td>m299</td>\n",
       "      <td>CAITLIN</td>\n",
       "      <td>the story goes like this: he proposed, and i ...</td>\n",
       "      <td>the story goes like this: he proposed, and i ...</td>\n",
       "      <td>[the, story, goes, like, this, :, he, proposed...</td>\n",
       "      <td>he</td>\n",
       "      <td>proposed</td>\n",
       "    </tr>\n",
       "  </tbody>\n",
       "</table>\n",
       "</div>"
      ],
      "text/plain": [
       "      LineID Character   Movie          Name  \\\n",
       "2    L533370    u2886    m190    GENEVA MAN    \n",
       "45    L47236    u3730    m246          FRAN    \n",
       "59    L59168     u393     m24        DEBBIE    \n",
       "75   L106799    u4214    m281        VIOLET    \n",
       "104  L135380    u4522    m299       CAITLIN    \n",
       "\n",
       "                                                  Line  \\\n",
       "2     he is a prisoner of war until you can prove s...   \n",
       "45    three. the last one was manager of a finance ...   \n",
       "59    he still thinks i'm going with him. i'm going...   \n",
       "75    you can't know for certain that he won't see ...   \n",
       "104   the story goes like this: he proposed, and i ...   \n",
       "\n",
       "                                        Segmented_Line  \\\n",
       "2     he is a prisoner of war until you can prove s...   \n",
       "45   the last one was manager of a finance company,...   \n",
       "59                 he still thinks i'm going with him.   \n",
       "75    you can't know for certain that he won't see ...   \n",
       "104   the story goes like this: he proposed, and i ...   \n",
       "\n",
       "                                        Tokenized_Line Pronoun      Verb  \n",
       "2    [he, is, a, prisoner, of, war, until, you, can...      he        is  \n",
       "45   [the, last, one, was, manager, of, a, finance,...      he     asked  \n",
       "59     [he, still, thinks, i, 'm, going, with, him, .]      he    thinks  \n",
       "75   [you, ca, n't, know, for, certain, that, he, w...      he        wo  \n",
       "104  [the, story, goes, like, this, :, he, proposed...      he  proposed  "
      ]
     },
     "execution_count": 30,
     "metadata": {},
     "output_type": "execute_result"
    }
   ],
   "source": [
    "movie_lines.head()"
   ]
  },
  {
   "cell_type": "code",
   "execution_count": 31,
   "id": "fb468c6d",
   "metadata": {},
   "outputs": [
    {
     "data": {
      "text/html": [
       "<div>\n",
       "<style scoped>\n",
       "    .dataframe tbody tr th:only-of-type {\n",
       "        vertical-align: middle;\n",
       "    }\n",
       "\n",
       "    .dataframe tbody tr th {\n",
       "        vertical-align: top;\n",
       "    }\n",
       "\n",
       "    .dataframe thead th {\n",
       "        text-align: right;\n",
       "    }\n",
       "</style>\n",
       "<table border=\"1\" class=\"dataframe\">\n",
       "  <thead>\n",
       "    <tr style=\"text-align: right;\">\n",
       "      <th></th>\n",
       "      <th>LineID</th>\n",
       "      <th>Character</th>\n",
       "      <th>Movie</th>\n",
       "      <th>Name</th>\n",
       "      <th>Line</th>\n",
       "      <th>Segmented_Line</th>\n",
       "      <th>Tokenized_Line</th>\n",
       "      <th>Pronoun</th>\n",
       "      <th>Verb</th>\n",
       "    </tr>\n",
       "  </thead>\n",
       "  <tbody>\n",
       "    <tr>\n",
       "      <th>count</th>\n",
       "      <td>339</td>\n",
       "      <td>339</td>\n",
       "      <td>339</td>\n",
       "      <td>339</td>\n",
       "      <td>339</td>\n",
       "      <td>339</td>\n",
       "      <td>339</td>\n",
       "      <td>339</td>\n",
       "      <td>339</td>\n",
       "    </tr>\n",
       "    <tr>\n",
       "      <th>unique</th>\n",
       "      <td>278</td>\n",
       "      <td>268</td>\n",
       "      <td>224</td>\n",
       "      <td>248</td>\n",
       "      <td>278</td>\n",
       "      <td>339</td>\n",
       "      <td>339</td>\n",
       "      <td>2</td>\n",
       "      <td>108</td>\n",
       "    </tr>\n",
       "    <tr>\n",
       "      <th>top</th>\n",
       "      <td>L140852</td>\n",
       "      <td>u712</td>\n",
       "      <td>m564</td>\n",
       "      <td>GORDO</td>\n",
       "      <td>what are you? new? let me tell you how good t...</td>\n",
       "      <td>he is a prisoner of war until you can prove s...</td>\n",
       "      <td>[he, is, a, prisoner, of, war, until, you, can...</td>\n",
       "      <td>he</td>\n",
       "      <td>'s</td>\n",
       "    </tr>\n",
       "    <tr>\n",
       "      <th>freq</th>\n",
       "      <td>5</td>\n",
       "      <td>5</td>\n",
       "      <td>7</td>\n",
       "      <td>5</td>\n",
       "      <td>5</td>\n",
       "      <td>1</td>\n",
       "      <td>1</td>\n",
       "      <td>214</td>\n",
       "      <td>79</td>\n",
       "    </tr>\n",
       "  </tbody>\n",
       "</table>\n",
       "</div>"
      ],
      "text/plain": [
       "         LineID Character   Movie     Name  \\\n",
       "count       339       339     339      339   \n",
       "unique      278       268     224      248   \n",
       "top     L140852     u712    m564    GORDO    \n",
       "freq          5         5       7        5   \n",
       "\n",
       "                                                     Line  \\\n",
       "count                                                 339   \n",
       "unique                                                278   \n",
       "top      what are you? new? let me tell you how good t...   \n",
       "freq                                                    5   \n",
       "\n",
       "                                           Segmented_Line  \\\n",
       "count                                                 339   \n",
       "unique                                                339   \n",
       "top      he is a prisoner of war until you can prove s...   \n",
       "freq                                                    1   \n",
       "\n",
       "                                           Tokenized_Line Pronoun Verb  \n",
       "count                                                 339     339  339  \n",
       "unique                                                339       2  108  \n",
       "top     [he, is, a, prisoner, of, war, until, you, can...      he   's  \n",
       "freq                                                    1     214   79  "
      ]
     },
     "execution_count": 31,
     "metadata": {},
     "output_type": "execute_result"
    }
   ],
   "source": [
    "movie_lines.describe()"
   ]
  },
  {
   "cell_type": "markdown",
   "id": "99a6d272-371b-4b5d-b046-ed5f4f69c7a1",
   "metadata": {},
   "source": [
    "### Lemmatization"
   ]
  },
  {
   "cell_type": "code",
   "execution_count": 35,
   "id": "14a1ef9a-799a-40ea-8999-84d1e6a9c5f2",
   "metadata": {},
   "outputs": [],
   "source": [
    "def get_lemmatized_word(word):\n",
    "    return lemmatizer.lemmatize(word, \"v\")"
   ]
  },
  {
   "cell_type": "code",
   "execution_count": 41,
   "id": "14599b62-8b32-4207-a4c9-e6d58f1a9c36",
   "metadata": {},
   "outputs": [
    {
     "name": "stderr",
     "output_type": "stream",
     "text": [
      "/var/folders/0b/p9t1prd97_g8t6jgmnm5s7600000gn/T/ipykernel_26963/3710370528.py:5: SettingWithCopyWarning: \n",
      "A value is trying to be set on a copy of a slice from a DataFrame.\n",
      "Try using .loc[row_indexer,col_indexer] = value instead\n",
      "\n",
      "See the caveats in the documentation: https://pandas.pydata.org/pandas-docs/stable/user_guide/indexing.html#returning-a-view-versus-a-copy\n",
      "  movie_lines[\"Verb\"] = movie_lines[\"Verb\"].apply(get_lemmatized_word)\n"
     ]
    }
   ],
   "source": [
    "# LEMMATIZATION\n",
    "\n",
    "lemmatizer = WordNetLemmatizer()\n",
    "\n",
    "movie_lines[\"Verb\"] = movie_lines[\"Verb\"].apply(get_lemmatized_word)\n",
    "\n",
    "# print(\"rocks :\", lemmatizer.lemmatize(\"rocks\"))"
   ]
  },
  {
   "cell_type": "markdown",
   "id": "a8258f83-7351-4a1e-8292-78f918fa0cd9",
   "metadata": {
    "tags": []
   },
   "source": [
    "## Counts"
   ]
  },
  {
   "cell_type": "code",
   "execution_count": 44,
   "id": "58bd1cf2-8022-4298-9cf0-0d2a54e3da84",
   "metadata": {},
   "outputs": [],
   "source": [
    "counts = Counter(list(movie_lines[\"Verb\"].values))"
   ]
  },
  {
   "cell_type": "code",
   "execution_count": 45,
   "id": "89d4583e-2896-491b-aca8-8091a657aa5e",
   "metadata": {},
   "outputs": [],
   "source": [
    "hes = movie_lines.loc[movie_lines[\"Pronoun\"] == \"he\"]\n",
    "num_hes = hes.shape[0]"
   ]
  },
  {
   "cell_type": "code",
   "execution_count": 46,
   "id": "40c9bc86-26b1-4622-a984-0c4a0e3a79ec",
   "metadata": {},
   "outputs": [],
   "source": [
    "shes = movie_lines.loc[movie_lines[\"Pronoun\"] == \"she\"]\n",
    "num_shes = shes.shape[0]"
   ]
  },
  {
   "cell_type": "code",
   "execution_count": 47,
   "id": "c5dd6ef3-f031-4ffd-83f5-a0fe3509f7b3",
   "metadata": {},
   "outputs": [],
   "source": [
    "he_list = list(hes[\"Verb\"].values)"
   ]
  },
  {
   "cell_type": "code",
   "execution_count": 48,
   "id": "70893292-67dc-4dfb-b131-608e18655c00",
   "metadata": {},
   "outputs": [],
   "source": [
    "she_list = list(shes[\"Verb\"].values)"
   ]
  },
  {
   "cell_type": "code",
   "execution_count": 49,
   "id": "5786ee4f-fb3f-438f-9e25-9b84b17f8902",
   "metadata": {},
   "outputs": [],
   "source": [
    "he_counts = Counter(he_list)"
   ]
  },
  {
   "cell_type": "code",
   "execution_count": 50,
   "id": "5fd092df-26ef-427d-a917-ce69c82eeff8",
   "metadata": {},
   "outputs": [],
   "source": [
    "she_counts = Counter(she_list)"
   ]
  },
  {
   "cell_type": "markdown",
   "id": "724c1cee-b3ba-40ae-8a9e-f4f7cd248a37",
   "metadata": {
    "tags": []
   },
   "source": [
    "#### Archive"
   ]
  },
  {
   "cell_type": "code",
   "execution_count": 51,
   "id": "a1c8c882-d005-4107-8a72-9cf4e09a4101",
   "metadata": {},
   "outputs": [],
   "source": [
    "# she_counts"
   ]
  },
  {
   "cell_type": "code",
   "execution_count": 52,
   "id": "7cd1c770-f29f-48a7-819e-7f331cf7c47f",
   "metadata": {},
   "outputs": [],
   "source": [
    "# she_most_common[\"does\"]"
   ]
  },
  {
   "cell_type": "code",
   "execution_count": 53,
   "id": "6126179c-14f9-44dc-89f2-d5f28942d6f0",
   "metadata": {},
   "outputs": [],
   "source": [
    "# he_most_common - she_most_common"
   ]
  },
  {
   "cell_type": "code",
   "execution_count": 54,
   "id": "2b87a6ea-d455-4a4a-aab4-718eaf8e62d0",
   "metadata": {},
   "outputs": [],
   "source": [
    "# he_most_common.most_common(5)"
   ]
  },
  {
   "cell_type": "code",
   "execution_count": 55,
   "id": "8e4a671e-f3ad-40be-a523-2c181463f2a8",
   "metadata": {},
   "outputs": [
    {
     "data": {
      "text/plain": [
       "True"
      ]
     },
     "execution_count": 55,
     "metadata": {},
     "output_type": "execute_result"
    }
   ],
   "source": [
    "intersection_he = set(he_list).intersection(set(she_list))\n",
    "intersection_she = set(she_list).intersection(set(he_list))\n",
    "intersection = set(he_list).intersection(set(she_list))\n",
    "intersection_he == intersection_she"
   ]
  },
  {
   "cell_type": "code",
   "execution_count": 56,
   "id": "14605e7e-4cd2-468d-9023-f6f32535492e",
   "metadata": {},
   "outputs": [],
   "source": [
    "he_only = set(he_list) - set(she_list)"
   ]
  },
  {
   "cell_type": "code",
   "execution_count": 57,
   "id": "c8e52455-94cd-4021-b760-be8cd17b2884",
   "metadata": {},
   "outputs": [],
   "source": [
    "she_only = set(she_list) - set(he_list)"
   ]
  },
  {
   "cell_type": "code",
   "execution_count": 58,
   "id": "66398d81-4426-44a8-83ac-233d6f2733ff",
   "metadata": {},
   "outputs": [
    {
     "data": {
      "text/plain": [
       "0"
      ]
     },
     "execution_count": 58,
     "metadata": {},
     "output_type": "execute_result"
    }
   ],
   "source": [
    "he_counts.get(\"should\", 0)"
   ]
  },
  {
   "cell_type": "code",
   "execution_count": 59,
   "id": "321d2c80-83fc-4b9a-9aee-d83f44ed87f0",
   "metadata": {},
   "outputs": [
    {
     "data": {
      "text/plain": [
       "Counter()"
      ]
     },
     "execution_count": 59,
     "metadata": {},
     "output_type": "execute_result"
    }
   ],
   "source": [
    "Counter()"
   ]
  },
  {
   "cell_type": "code",
   "execution_count": 60,
   "id": "0fbbfdea-d179-4ac3-ab6a-088b3c9681bd",
   "metadata": {},
   "outputs": [],
   "source": [
    "he_only_counts = Counter({k: he_counts.get(k) for k in he_only})\n",
    "she_only_counts = Counter({k: she_counts.get(k) for k in she_only})"
   ]
  },
  {
   "cell_type": "code",
   "execution_count": 61,
   "id": "d20e7ec1-ebb1-41b4-8a01-247c309f3c37",
   "metadata": {},
   "outputs": [
    {
     "data": {
      "text/plain": [
       "[('die', 3), ('laugh', 2), ('try', 2)]"
      ]
     },
     "execution_count": 61,
     "metadata": {},
     "output_type": "execute_result"
    }
   ],
   "source": [
    "he_only_counts.most_common(3)"
   ]
  },
  {
   "cell_type": "code",
   "execution_count": 62,
   "id": "fe981ee6-14bd-45d4-9419-69922f465d27",
   "metadata": {},
   "outputs": [
    {
     "data": {
      "text/plain": [
       "3"
      ]
     },
     "execution_count": 62,
     "metadata": {},
     "output_type": "execute_result"
    }
   ],
   "source": [
    "he_counts[\"could\"]"
   ]
  },
  {
   "cell_type": "markdown",
   "id": "739da323-1cb3-4cb0-96e5-a4ee76acfc8a",
   "metadata": {},
   "source": [
    "#### Laplace Smoothing"
   ]
  },
  {
   "cell_type": "code",
   "execution_count": 63,
   "id": "344c2eb3-b78f-43df-b1de-49ad08439be7",
   "metadata": {},
   "outputs": [],
   "source": [
    "# Laplace smoothing\n",
    "\n",
    "for item in counts:\n",
    "    he_counts[item] += 1\n",
    "\n",
    "for item in counts:\n",
    "    she_counts[item] += 1"
   ]
  },
  {
   "cell_type": "markdown",
   "id": "1670f63a-2cc1-458b-b70d-fb918642d8ae",
   "metadata": {},
   "source": [
    "#### Relative Frequency"
   ]
  },
  {
   "cell_type": "code",
   "execution_count": 66,
   "id": "7ac09a27-8f93-4f0a-8cff-a8cb3e8fc246",
   "metadata": {},
   "outputs": [],
   "source": [
    "num_verbs = 20"
   ]
  },
  {
   "cell_type": "code",
   "execution_count": 75,
   "id": "678be034-0c76-42dc-928d-69cff62ca4eb",
   "metadata": {},
   "outputs": [],
   "source": [
    "verbs = [verb for (verb, _) in counts.most_common(num_verbs)]\n",
    "\n",
    "he_rel_freqs = []\n",
    "she_rel_freqs = []\n",
    "freqs = []\n",
    "\n",
    "for verb in verbs:\n",
    "    he_rel_freq = he_counts[verb] / num_hes\n",
    "    she_rel_freq = she_counts[verb] / num_shes\n",
    "    he_rel_freqs.append(he_rel_freq)\n",
    "    she_rel_freqs.append(she_rel_freq)\n",
    "    if he_rel_freq > she_rel_freq:\n",
    "        freq = (he_rel_freq / she_rel_freq) * -1\n",
    "        # freq += 1 #TODO\n",
    "        freqs.append(freq)\n",
    "    else:\n",
    "        freq = (she_rel_freq / he_rel_freq)\n",
    "        # freq += -1 #TODO\n",
    "        freqs.append(freq)"
   ]
  },
  {
   "cell_type": "markdown",
   "id": "a5027581-e7c3-455b-9c30-79e2332a7c9f",
   "metadata": {},
   "source": [
    "#### Plotting"
   ]
  },
  {
   "cell_type": "code",
   "execution_count": 76,
   "id": "3540a264-4536-41a3-8056-cd5e157346e7",
   "metadata": {},
   "outputs": [],
   "source": [
    "#TODO: how to calculate likelihood"
   ]
  },
  {
   "cell_type": "code",
   "execution_count": 77,
   "id": "7f9ba78f-f9b9-44b0-8e5b-1cd73aa0a23a",
   "metadata": {},
   "outputs": [
    {
     "data": {
      "image/png": "[encoded data removed]",
      "text/plain": [
       "<Figure size 640x480 with 1 Axes>"
      ]
     },
     "metadata": {},
     "output_type": "display_data"
    }
   ],
   "source": [
    "plt.rcdefaults()\n",
    "fig, ax = plt.subplots()\n",
    "\n",
    "y_pos = np.arange(len(verbs))\n",
    "ax.barh(y_pos, freqs, align=\"center\")\n",
    "ax.set_yticks(y_pos, labels=verbs)\n",
    "ax.invert_yaxis()  # labels read top-to-bottom\n",
    "ax.set_xlabel('Likelihood (He <0; She >0) ')\n",
    "ax.set_title('Likelihood of Verbs Following Certain Pronouns {She, He}')\n",
    "\n",
    "plt.show()"
   ]
  },
  {
   "cell_type": "code",
   "execution_count": 78,
   "id": "5c1534de-cab1-49ff-8b4f-b523b1addd17",
   "metadata": {},
   "outputs": [],
   "source": [
    "#TODO: how to calculate likelihood"
   ]
  },
  {
   "cell_type": "code",
   "execution_count": null,
   "id": "c4202a68-dcd0-45b6-94aa-76819a1222f0",
   "metadata": {},
   "outputs": [],
   "source": []
  }
 ],
 "metadata": {
  "kernelspec": {
   "display_name": "Python 3",
   "language": "python",
   "name": "python3"
  },
  "language_info": {
   "codemirror_mode": {
    "name": "ipython",
    "version": 3
   },
   "file_extension": ".py",
   "mimetype": "text/x-python",
   "name": "python",
   "nbconvert_exporter": "python",
   "pygments_lexer": "ipython3",
   "version": "3.10.0"
  }
 },
 "nbformat": 4,
 "nbformat_minor": 5
}

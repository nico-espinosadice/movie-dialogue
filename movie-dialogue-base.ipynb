{
 "cells": [
  {
   "cell_type": "markdown",
   "id": "5a793589-b6ee-4257-aabe-21da50b0baf4",
   "metadata": {},
   "source": [
    "# Move Dialogue: Base Task"
   ]
  },
  {
   "cell_type": "markdown",
   "id": "19d53129-7bd4-4836-bb7b-6a1beab1b02c",
   "metadata": {},
   "source": [
    "## Imports"
   ]
  },
  {
   "cell_type": "code",
   "execution_count": null,
   "id": "c79f771e",
   "metadata": {},
   "outputs": [],
   "source": [
    "import numpy as np\n",
    "import matplotlib.pyplot as plt\n",
    "from collections import Counter\n",
    "import pandas as pd\n",
    "import nltk\n",
    "from nltk import sent_tokenize, word_tokenize\n",
    "from nltk.stem import WordNetLemmatizer\n",
    "from nltk.stem import PorterStemmer\n",
    "import math\n",
    "nltk.download('punkt')\n",
    "nltk.download('universal_tagset')\n",
    "nltk.download('averaged_perceptron_tagger')\n",
    "nltk.download('wordnet')"
   ]
  },
  {
   "cell_type": "markdown",
   "id": "f3ef21ad-a958-4b5e-a70d-accdb660aa07",
   "metadata": {},
   "source": [
    "## Importing Dataset"
   ]
  },
  {
   "cell_type": "markdown",
   "id": "e9f6805f",
   "metadata": {},
   "source": [
    "Source for how to import data:  \n",
    "https://www.kaggle.com/shashankasubrahmanya/preprocessing-cornell-movie-dialogue-corpus"
   ]
  },
  {
   "cell_type": "code",
   "execution_count": null,
   "id": "1832f739",
   "metadata": {},
   "outputs": [],
   "source": [
    "movie_lines_features = [\"LineID\", \"Character\", \"Movie\", \"Name\", \"Line\"]\n"
   ]
  },
  {
   "cell_type": "code",
   "execution_count": null,
   "id": "cc87cc18",
   "metadata": {},
   "outputs": [],
   "source": [
    "movie_lines = pd.read_csv(\"data/movie_lines.txt\", sep = \"\\+\\+\\+\\$\\+\\+\\+\", engine = \"python\", encoding='ISO-8859-1', index_col = False, names = movie_lines_features)\n"
   ]
  },
  {
   "cell_type": "markdown",
   "id": "1b00c157-be31-41e7-902a-6866769f0ac5",
   "metadata": {},
   "source": [
    "## Data Cleaning"
   ]
  },
  {
   "cell_type": "code",
   "execution_count": null,
   "id": "05c99005",
   "metadata": {},
   "outputs": [],
   "source": [
    "movie_lines = movie_lines.sample(frac=0.1)"
   ]
  },
  {
   "cell_type": "code",
   "execution_count": null,
   "id": "522a8cbb",
   "metadata": {},
   "outputs": [],
   "source": [
    "movie_lines.head()"
   ]
  },
  {
   "cell_type": "code",
   "execution_count": null,
   "id": "5e00cfdd",
   "metadata": {},
   "outputs": [],
   "source": [
    "# Strip the space from \"LineID\" for further usage and change the datatype of \"Line\"\n",
    "movie_lines[\"LineID\"] = movie_lines[\"LineID\"].apply(str.strip)\n",
    "movie_lines[\"Line\"] = movie_lines[\"Line\"].apply(str)\n",
    "movie_lines[\"Line\"] = movie_lines[\"Line\"].apply(str.lower)"
   ]
  },
  {
   "cell_type": "code",
   "execution_count": null,
   "id": "eed3b487",
   "metadata": {},
   "outputs": [],
   "source": [
    "movie_lines.head()"
   ]
  },
  {
   "cell_type": "code",
   "execution_count": null,
   "id": "d2ce3036",
   "metadata": {},
   "outputs": [],
   "source": [
    "# # Remove lines that do not contain he or she pronouns\n",
    "# # Only include lines where ' he ' is in middle of sentence, surrounded by at least 1 space on either side\n",
    "# movie_lines = movie_lines[movie_lines[\"Line\"].str.contains('|'.join([' he ', ' she ']))]"
   ]
  },
  {
   "cell_type": "code",
   "execution_count": null,
   "id": "32f0091e",
   "metadata": {},
   "outputs": [],
   "source": [
    "movie_lines.head()"
   ]
  },
  {
   "cell_type": "markdown",
   "id": "aea88ff8-c656-48c5-8c63-a484eaacd329",
   "metadata": {},
   "source": [
    "### Tokenization and Segmentation"
   ]
  },
  {
   "cell_type": "code",
   "execution_count": null,
   "id": "4e096048",
   "metadata": {},
   "outputs": [],
   "source": [
    "# Tokenize and segment\n",
    "# Drop rows without pronouns"
   ]
  },
  {
   "cell_type": "code",
   "execution_count": null,
   "id": "a47ae814",
   "metadata": {},
   "outputs": [],
   "source": [
    "movie_lines[\"Segmented_Line\"] = movie_lines[\"Line\"].apply(sent_tokenize)"
   ]
  },
  {
   "cell_type": "code",
   "execution_count": null,
   "id": "2fbc9e3f",
   "metadata": {},
   "outputs": [],
   "source": [
    "df = pd.DataFrame(columns=movie_lines.columns)"
   ]
  },
  {
   "cell_type": "code",
   "execution_count": null,
   "id": "c81350fd",
   "metadata": {},
   "outputs": [],
   "source": [
    "df.head()"
   ]
  },
  {
   "cell_type": "code",
   "execution_count": null,
   "id": "27e14abe",
   "metadata": {},
   "outputs": [],
   "source": [
    "for row in movie_lines.iterrows():\n",
    "    for sentence in row[1][\"Segmented_Line\"]:\n",
    "        line_id = row[1][\"LineID\"]\n",
    "        character = row[1][\"Character\"]\n",
    "        movie = row[1][\"Movie\"]\n",
    "        name = row[1][\"Name\"]\n",
    "        line = row[1][\"Line\"]\n",
    "        segmented = sentence\n",
    "        new_row = {\"LineID\":line_id, \"Character\": character,\n",
    "                   \"Movie\":movie,\"Name\":name,\"Line\":line,\n",
    "                   \"Segmented_Line\":segmented}\n",
    "        df = df.append(new_row, ignore_index=True)"
   ]
  },
  {
   "cell_type": "code",
   "execution_count": null,
   "id": "ddd1758e",
   "metadata": {},
   "outputs": [],
   "source": [
    "df.head()"
   ]
  },
  {
   "cell_type": "code",
   "execution_count": null,
   "id": "13e91bb7",
   "metadata": {},
   "outputs": [],
   "source": [
    "movie_lines = df"
   ]
  },
  {
   "cell_type": "code",
   "execution_count": null,
   "id": "b3b5f93f",
   "metadata": {},
   "outputs": [],
   "source": [
    "movie_lines.head()"
   ]
  },
  {
   "cell_type": "code",
   "execution_count": null,
   "id": "ee0aa06d",
   "metadata": {},
   "outputs": [],
   "source": [
    "movie_lines[\"Tokenized_Line\"] = movie_lines[\"Segmented_Line\"].apply(word_tokenize)\n"
   ]
  },
  {
   "cell_type": "code",
   "execution_count": null,
   "id": "29724e47",
   "metadata": {},
   "outputs": [],
   "source": [
    "movie_lines.head()"
   ]
  },
  {
   "cell_type": "markdown",
   "id": "002b9556-496d-4f07-abde-948b1360774b",
   "metadata": {},
   "source": [
    "### Extracting Pronouns"
   ]
  },
  {
   "cell_type": "code",
   "execution_count": null,
   "id": "c4cd4c69",
   "metadata": {},
   "outputs": [],
   "source": [
    "def get_pronoun(tokenized_line):\n",
    "    if \"she\" in tokenized_line:\n",
    "        return \"she\"\n",
    "    elif \"he\" in tokenized_line:\n",
    "        return \"he\"\n",
    "    else:\n",
    "        return \"none\""
   ]
  },
  {
   "cell_type": "code",
   "execution_count": null,
   "id": "81f5684c",
   "metadata": {},
   "outputs": [],
   "source": [
    "movie_lines[\"Pronoun\"] = movie_lines[\"Tokenized_Line\"].apply(get_pronoun)"
   ]
  },
  {
   "cell_type": "code",
   "execution_count": null,
   "id": "a4b7b221",
   "metadata": {},
   "outputs": [],
   "source": [
    "movie_lines.head()"
   ]
  },
  {
   "cell_type": "code",
   "execution_count": null,
   "id": "bb26a97f",
   "metadata": {},
   "outputs": [],
   "source": [
    "movie_lines = movie_lines.loc[movie_lines[\"Pronoun\"] != \"none\"]"
   ]
  },
  {
   "cell_type": "code",
   "execution_count": null,
   "id": "bfe9db22",
   "metadata": {},
   "outputs": [],
   "source": [
    "movie_lines.head()"
   ]
  },
  {
   "cell_type": "code",
   "execution_count": null,
   "id": "795d5c95",
   "metadata": {},
   "outputs": [],
   "source": [
    "movie_lines.describe()"
   ]
  },
  {
   "cell_type": "code",
   "execution_count": null,
   "id": "0d718e22",
   "metadata": {},
   "outputs": [],
   "source": [
    "movie_lines.shape"
   ]
  },
  {
   "cell_type": "code",
   "execution_count": null,
   "id": "9dee9662-5044-4db6-a7bf-de84d4afcbc7",
   "metadata": {},
   "outputs": [],
   "source": [
    "# For use in other notebooks\n",
    "%store movie_lines"
   ]
  },
  {
   "cell_type": "markdown",
   "id": "8e123f79-5b7c-4080-b2bf-6bcc562e087d",
   "metadata": {},
   "source": [
    "### Extracting Verb"
   ]
  },
  {
   "cell_type": "code",
   "execution_count": null,
   "id": "b608c626",
   "metadata": {},
   "outputs": [],
   "source": [
    "def get_verb(tokenized_line):\n",
    "    pronoun = get_pronoun(tokenized_line)\n",
    "    pronoun_index = tokenized_line.index(pronoun)\n",
    "    word_pos_pairs = nltk.pos_tag(tokenized_line[pronoun_index:], tagset='universal')\n",
    "    pos_list = [pos for _, pos in word_pos_pairs]\n",
    "    \n",
    "    if 'VERB' not in pos_list:\n",
    "        return 'none'\n",
    "    \n",
    "    verb_index = pos_list.index('VERB')\n",
    "    # TODO: consider second verb after pronoun\n",
    "    # ex: he's biking, 's and biking are both VERB\n",
    "    return word_pos_pairs[verb_index][0]"
   ]
  },
  {
   "cell_type": "code",
   "execution_count": null,
   "id": "ec593735",
   "metadata": {},
   "outputs": [],
   "source": [
    "movie_lines[\"Verb\"] = movie_lines[\"Tokenized_Line\"].apply(get_verb)"
   ]
  },
  {
   "cell_type": "code",
   "execution_count": null,
   "id": "94fcc49c",
   "metadata": {},
   "outputs": [],
   "source": [
    "movie_lines.head()"
   ]
  },
  {
   "cell_type": "code",
   "execution_count": null,
   "id": "fb468c6d",
   "metadata": {},
   "outputs": [],
   "source": [
    "movie_lines.describe()"
   ]
  },
  {
   "cell_type": "markdown",
   "id": "99a6d272-371b-4b5d-b046-ed5f4f69c7a1",
   "metadata": {},
   "source": [
    "### Lemmatization"
   ]
  },
  {
   "cell_type": "code",
   "execution_count": null,
   "id": "14a1ef9a-799a-40ea-8999-84d1e6a9c5f2",
   "metadata": {},
   "outputs": [],
   "source": [
    "def get_lemmatized_word(word):\n",
    "    return lemmatizer.lemmatize(word, \"v\")"
   ]
  },
  {
   "cell_type": "code",
   "execution_count": null,
   "id": "14599b62-8b32-4207-a4c9-e6d58f1a9c36",
   "metadata": {},
   "outputs": [],
   "source": [
    "# LEMMATIZATION\n",
    "\n",
    "lemmatizer = WordNetLemmatizer()\n",
    "\n",
    "movie_lines[\"Verb\"] = movie_lines[\"Verb\"].apply(get_lemmatized_word)"
   ]
  },
  {
   "cell_type": "markdown",
   "id": "a8258f83-7351-4a1e-8292-78f918fa0cd9",
   "metadata": {
    "tags": []
   },
   "source": [
    "## Counts"
   ]
  },
  {
   "cell_type": "code",
   "execution_count": null,
   "id": "58bd1cf2-8022-4298-9cf0-0d2a54e3da84",
   "metadata": {},
   "outputs": [],
   "source": [
    "counts = Counter(list(movie_lines[\"Verb\"].values))"
   ]
  },
  {
   "cell_type": "code",
   "execution_count": null,
   "id": "89d4583e-2896-491b-aca8-8091a657aa5e",
   "metadata": {},
   "outputs": [],
   "source": [
    "hes = movie_lines.loc[movie_lines[\"Pronoun\"] == \"he\"]\n",
    "num_hes = hes.shape[0]"
   ]
  },
  {
   "cell_type": "code",
   "execution_count": null,
   "id": "40c9bc86-26b1-4622-a984-0c4a0e3a79ec",
   "metadata": {},
   "outputs": [],
   "source": [
    "shes = movie_lines.loc[movie_lines[\"Pronoun\"] == \"she\"]\n",
    "num_shes = shes.shape[0]"
   ]
  },
  {
   "cell_type": "code",
   "execution_count": null,
   "id": "c5dd6ef3-f031-4ffd-83f5-a0fe3509f7b3",
   "metadata": {},
   "outputs": [],
   "source": [
    "he_list = list(hes[\"Verb\"].values)"
   ]
  },
  {
   "cell_type": "code",
   "execution_count": null,
   "id": "70893292-67dc-4dfb-b131-608e18655c00",
   "metadata": {},
   "outputs": [],
   "source": [
    "she_list = list(shes[\"Verb\"].values)"
   ]
  },
  {
   "cell_type": "code",
   "execution_count": null,
   "id": "5786ee4f-fb3f-438f-9e25-9b84b17f8902",
   "metadata": {},
   "outputs": [],
   "source": [
    "he_counts = Counter(he_list)"
   ]
  },
  {
   "cell_type": "code",
   "execution_count": null,
   "id": "5fd092df-26ef-427d-a917-ce69c82eeff8",
   "metadata": {},
   "outputs": [],
   "source": [
    "she_counts = Counter(she_list)"
   ]
  },
  {
   "cell_type": "code",
   "execution_count": null,
   "id": "a1c8c882-d005-4107-8a72-9cf4e09a4101",
   "metadata": {},
   "outputs": [],
   "source": [
    "# she_counts"
   ]
  },
  {
   "cell_type": "code",
   "execution_count": null,
   "id": "7cd1c770-f29f-48a7-819e-7f331cf7c47f",
   "metadata": {},
   "outputs": [],
   "source": [
    "# she_most_common[\"does\"]"
   ]
  },
  {
   "cell_type": "code",
   "execution_count": null,
   "id": "6126179c-14f9-44dc-89f2-d5f28942d6f0",
   "metadata": {},
   "outputs": [],
   "source": [
    "# he_most_common - she_most_common"
   ]
  },
  {
   "cell_type": "code",
   "execution_count": null,
   "id": "2b87a6ea-d455-4a4a-aab4-718eaf8e62d0",
   "metadata": {},
   "outputs": [],
   "source": [
    "# he_most_common.most_common(5)"
   ]
  },
  {
   "cell_type": "code",
   "execution_count": null,
   "id": "8e4a671e-f3ad-40be-a523-2c181463f2a8",
   "metadata": {},
   "outputs": [],
   "source": [
    "intersection_he = set(he_list).intersection(set(she_list))\n",
    "intersection_she = set(she_list).intersection(set(he_list))\n",
    "intersection = set(he_list).intersection(set(she_list))\n",
    "intersection_he == intersection_she"
   ]
  },
  {
   "cell_type": "code",
   "execution_count": null,
   "id": "14605e7e-4cd2-468d-9023-f6f32535492e",
   "metadata": {},
   "outputs": [],
   "source": [
    "he_only = set(he_list) - set(she_list)"
   ]
  },
  {
   "cell_type": "code",
   "execution_count": null,
   "id": "c8e52455-94cd-4021-b760-be8cd17b2884",
   "metadata": {},
   "outputs": [],
   "source": [
    "she_only = set(she_list) - set(he_list)"
   ]
  },
  {
   "cell_type": "code",
   "execution_count": null,
   "id": "66398d81-4426-44a8-83ac-233d6f2733ff",
   "metadata": {},
   "outputs": [],
   "source": [
    "he_counts.get(\"should\", 0)"
   ]
  },
  {
   "cell_type": "code",
   "execution_count": null,
   "id": "321d2c80-83fc-4b9a-9aee-d83f44ed87f0",
   "metadata": {},
   "outputs": [],
   "source": [
    "Counter()"
   ]
  },
  {
   "cell_type": "code",
   "execution_count": null,
   "id": "0fbbfdea-d179-4ac3-ab6a-088b3c9681bd",
   "metadata": {},
   "outputs": [],
   "source": [
    "he_only_counts = Counter({k: he_counts.get(k) for k in he_only})\n",
    "she_only_counts = Counter({k: she_counts.get(k) for k in she_only})"
   ]
  },
  {
   "cell_type": "code",
   "execution_count": null,
   "id": "d20e7ec1-ebb1-41b4-8a01-247c309f3c37",
   "metadata": {},
   "outputs": [],
   "source": [
    "he_only_counts.most_common(3)"
   ]
  },
  {
   "cell_type": "code",
   "execution_count": null,
   "id": "fe981ee6-14bd-45d4-9419-69922f465d27",
   "metadata": {},
   "outputs": [],
   "source": [
    "he_counts[\"could\"]"
   ]
  },
  {
   "cell_type": "markdown",
   "id": "739da323-1cb3-4cb0-96e5-a4ee76acfc8a",
   "metadata": {},
   "source": [
    "#### Laplace Smoothing"
   ]
  },
  {
   "cell_type": "code",
   "execution_count": null,
   "id": "344c2eb3-b78f-43df-b1de-49ad08439be7",
   "metadata": {},
   "outputs": [],
   "source": [
    "# Laplace smoothing\n",
    "\n",
    "for item in counts:\n",
    "    he_counts[item] += 1\n",
    "\n",
    "for item in counts:\n",
    "    she_counts[item] += 1"
   ]
  },
  {
   "cell_type": "markdown",
   "id": "1670f63a-2cc1-458b-b70d-fb918642d8ae",
   "metadata": {},
   "source": [
    "#### Relative Frequency"
   ]
  },
  {
   "cell_type": "code",
   "execution_count": null,
   "id": "d299870e-6e80-45d4-b877-52b776ffe442",
   "metadata": {},
   "outputs": [],
   "source": [
    "verbs = list(counts.keys())\n",
    "\n",
    "he_freqs = []\n",
    "she_freqs = []\n",
    "freqs = []\n",
    "\n",
    "for verb in verbs:\n",
    "    he_rel_freq = he_counts[verb] / num_hes\n",
    "    she_rel_freq = she_counts[verb] / num_shes\n",
    "    he_freqs.append(he_rel_freq / she_rel_freq)\n",
    "    she_freqs.append(she_rel_freq / he_rel_freq)\n",
    "    if he_rel_freq > she_rel_freq:\n",
    "        freq = (he_rel_freq / she_rel_freq) * -1\n",
    "        freq += 1\n",
    "        freqs.append(freq)\n",
    "    else:\n",
    "        freq = (she_rel_freq / he_rel_freq)\n",
    "        freq += -1\n",
    "        freqs.append(freq)\n",
    "\n",
    "verb_freqs = {verb: freq for (verb, freq) in list(zip(verbs, freqs))}"
   ]
  },
  {
   "cell_type": "code",
   "execution_count": null,
   "id": "d5208b62-6dca-435c-b648-442bc304556b",
   "metadata": {},
   "outputs": [],
   "source": [
    "he_verb_freqs = {verb: freq for (verb, freq) in list(zip(verbs, he_freqs))}\n",
    "she_verb_freqs = {verb: freq for (verb, freq) in list(zip(verbs, she_freqs))}"
   ]
  },
  {
   "cell_type": "code",
   "execution_count": null,
   "id": "2ac543db-92cb-453b-84f2-02b5a9537f36",
   "metadata": {},
   "outputs": [],
   "source": [
    "he_freqs_counter = Counter(he_verb_freqs)\n",
    "she_freqs_counter = Counter(she_verb_freqs)"
   ]
  },
  {
   "cell_type": "code",
   "execution_count": null,
   "id": "c505552d-10b5-41f4-b932-afe0ff5f5028",
   "metadata": {},
   "outputs": [],
   "source": [
    "num_verbs_plot = 15"
   ]
  },
  {
   "cell_type": "code",
   "execution_count": null,
   "id": "47656361-8f29-40b0-a77f-8a2949488bd8",
   "metadata": {},
   "outputs": [],
   "source": [
    "he_verbs = [verb for (verb, _) in he_freqs_counter.most_common(num_verbs_plot)]\n",
    "she_verbs = [verb for (verb, _) in she_freqs_counter.most_common(num_verbs_plot)]\n",
    "he_freqs = [verb_freqs[verb] for verb in he_verbs]\n",
    "she_freqs = [verb_freqs[verb] for verb in she_verbs]"
   ]
  },
  {
   "cell_type": "code",
   "execution_count": null,
   "id": "c08e6e8a-78a5-46fb-9249-74403b105e5d",
   "metadata": {},
   "outputs": [],
   "source": [
    "verbs = he_verbs + she_verbs\n",
    "freqs = he_freqs + she_freqs"
   ]
  },
  {
   "cell_type": "markdown",
   "id": "a5027581-e7c3-455b-9c30-79e2332a7c9f",
   "metadata": {},
   "source": [
    "#### Plotting"
   ]
  },
  {
   "cell_type": "code",
   "execution_count": null,
   "id": "7f9ba78f-f9b9-44b0-8e5b-1cd73aa0a23a",
   "metadata": {},
   "outputs": [],
   "source": [
    "plt.rcdefaults()\n",
    "fig, ax = plt.subplots()\n",
    "\n",
    "y_pos = np.arange(len(verbs))\n",
    "ax.barh(y_pos, freqs, align=\"center\")\n",
    "ax.set_yticks(y_pos, labels=verbs)\n",
    "ax.invert_yaxis()  # labels read top-to-bottom\n",
    "ax.set_xlabel('Relative Frequency Ratio (He <0; She >0) ')\n",
    "ax.set_title('Relative Frequency Ratio of Verbs Following Certain Pronouns {She, He}')\n",
    "\n",
    "plt.show()"
   ]
  }
 ],
 "metadata": {
  "kernelspec": {
   "display_name": "Python 3 (ipykernel)",
   "language": "python",
   "name": "python3"
  },
  "language_info": {
   "codemirror_mode": {
    "name": "ipython",
    "version": 3
   },
   "file_extension": ".py",
   "mimetype": "text/x-python",
   "name": "python",
   "nbconvert_exporter": "python",
   "pygments_lexer": "ipython3",
   "version": "3.9.7"
  }
 },
 "nbformat": 4,
 "nbformat_minor": 5
}
